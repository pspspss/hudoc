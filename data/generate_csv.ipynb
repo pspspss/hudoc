{
 "cells": [
  {
   "cell_type": "code",
   "execution_count": 20,
   "metadata": {},
   "outputs": [],
   "source": [
    "import pandas as pd\n",
    "from sklearn.utils import shuffle"
   ]
  },
  {
   "cell_type": "code",
   "execution_count": 12,
   "metadata": {},
   "outputs": [],
   "source": [
    "articles = !ls\n",
    "articles = articles[:-1]"
   ]
  },
  {
   "cell_type": "code",
   "execution_count": 25,
   "metadata": {},
   "outputs": [],
   "source": [
    "for article in articles:\n",
    "    dataset = []\n",
    "    for label in ['nonviolation', 'violation']:\n",
    "        files = !ls $article'/'$label\n",
    "        for file in files:\n",
    "            content     = open(f'{article}/{label}/{file}', \"r\").read()\n",
    "            label_class = 1 if 'violation' else 0\n",
    "            sentence = {\"file\": file, \"content\": content, \"class\": label_class}\n",
    "            dataset.append(sentence)\n",
    "    df = pd.DataFrame(data=dataset)\n",
    "    df = shuffle(df)\n",
    "    df.to_csv(f'{article}.csv')"
   ]
  },
  {
   "cell_type": "code",
   "execution_count": null,
   "metadata": {},
   "outputs": [],
   "source": []
  }
 ],
 "metadata": {
  "kernelspec": {
   "display_name": "Python 3",
   "language": "python",
   "name": "python3"
  },
  "language_info": {
   "codemirror_mode": {
    "name": "ipython",
    "version": 3
   },
   "file_extension": ".py",
   "mimetype": "text/x-python",
   "name": "python",
   "nbconvert_exporter": "python",
   "pygments_lexer": "ipython3",
   "version": "3.7.0"
  }
 },
 "nbformat": 4,
 "nbformat_minor": 2
}
