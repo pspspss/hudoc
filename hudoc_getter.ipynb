{
 "cells": [
  {
   "cell_type": "code",
   "execution_count": 82,
   "metadata": {},
   "outputs": [],
   "source": [
    "import json\n",
    "import requests\n",
    "from bs4 import BeautifulSoup\n",
    "\n",
    "import os"
   ]
  },
  {
   "cell_type": "code",
   "execution_count": 26,
   "metadata": {},
   "outputs": [],
   "source": [
    "def docx_html_url(_id): \n",
    "    return f'https://hudoc.echr.coe.int/app/conversion/docx/html/body?library=ECHR&id={_id}'"
   ]
  },
  {
   "cell_type": "code",
   "execution_count": 42,
   "metadata": {},
   "outputs": [],
   "source": [
    "def articles_url(_number, _violation): \n",
    "    violation = 'nonviolation'\n",
    "    if(_violation): violation = violation[3:]\n",
    "        \n",
    "    return f'https://hudoc.echr.coe.int/app/query/results?query=contentsitename%3AECHR%20AND%20(NOT%20(doctype%3DPR%20OR%20doctype%3DHFCOMOLD%20OR%20doctype%3DHECOMOLD))%20AND%20((languageisocode%3D%22ENG%22))%20AND%20((documentcollectionid%3D%22GRANDCHAMBER%22)%20OR%20(documentcollectionid%3D%22CHAMBER%22))%20AND%20(({violation}%3D{_number}))&select=sharepointid,Rank,ECHRRanking,languagenumber,itemid,docname,doctype,application,appno,conclusion,importance,originatingbody,typedescription,kpdate,kpdateAsText,documentcollectionid,documentcollectionid2,languageisocode,extractedappno,isplaceholder,doctypebranch,respondent,ecli,appnoparts,sclappnos&sort=&start=20&length=100&rankingModelId=11111111-0000-0000-0000-000000000000'"
   ]
  },
  {
   "cell_type": "code",
   "execution_count": 91,
   "metadata": {},
   "outputs": [],
   "source": [
    "def articles_json(_number, _violation):\n",
    "    results = []\n",
    "    violation = 'nv'\n",
    "    if(_violation): violation = violation[1:] \n",
    "    \n",
    "    for result in json_data['results']:\n",
    "        results.append({'id': result[\"columns\"][\"itemid\"], 'name': result[\"columns\"][\"docname\"], 'violation': violation})\n",
    "    \n",
    "    return results"
   ]
  },
  {
   "cell_type": "code",
   "execution_count": 79,
   "metadata": {},
   "outputs": [],
   "source": [
    "def article_get(_id):\n",
    "    url = docx_html_url(_id)\n",
    "    \n",
    "    r = requests.get(url).text\n",
    "    soup = BeautifulSoup(r)\n",
    "    \n",
    "    for script in soup([\"script\", \"style\"]):\n",
    "        script.extract()\n",
    "        \n",
    "    text = soup.get_text()\n",
    "    \n",
    "    lines = (line.strip() for line in text.splitlines())\n",
    "    chunks = (phrase.strip() for line in lines for phrase in line.split(\"  \"))\n",
    "    text = '\\n'.join(chunk for chunk in chunks if chunk)\n",
    "    text = text.replace('\\xa0', ' ')\n",
    "    \n",
    "    return text"
   ]
  },
  {
   "cell_type": "code",
   "execution_count": 98,
   "metadata": {},
   "outputs": [],
   "source": [
    "def articles_generator(_number, _violation):\n",
    "    violation = 'nonviolation'\n",
    "    if _violation: violation = violation[3:]\n",
    "        \n",
    "    path = f'hudoc/Article{_number}/{violation}'\n",
    "    \n",
    "    os.makedirs(path, exist_ok=True)\n",
    "    \n",
    "    for article in articles_json(_number, _violation):\n",
    "        f = open(f'{path}/{article[\"id\"]}.txt', 'w')\n",
    "        f.write(article_get(article[\"id\"]))"
   ]
  },
  {
   "cell_type": "code",
   "execution_count": null,
   "metadata": {},
   "outputs": [
    {
     "name": "stderr",
     "output_type": "stream",
     "text": [
      "/home/nti14147326/.local/lib/python3.6/site-packages/bs4/__init__.py:181: UserWarning: No parser was explicitly specified, so I'm using the best available HTML parser for this system (\"html5lib\"). This usually isn't a problem, but if you run this code on another system, or in a different virtual environment, it may use a different parser and behave differently.\n",
      "\n",
      "The code that caused this warning is on line 193 of the file /usr/lib/python3.6/runpy.py. To get rid of this warning, change code that looks like this:\n",
      "\n",
      " BeautifulSoup(YOUR_MARKUP})\n",
      "\n",
      "to this:\n",
      "\n",
      " BeautifulSoup(YOUR_MARKUP, \"html5lib\")\n",
      "\n",
      "  markup_type=markup_type))\n"
     ]
    }
   ],
   "source": [
    "articles_generator('3', False)"
   ]
  },
  {
   "cell_type": "code",
   "execution_count": 80,
   "metadata": {},
   "outputs": [
    {
     "data": {
      "text/plain": [
       "'https://hudoc.echr.coe.int/app/conversion/docx/html/body?library=ECHR&id=001-178380'"
      ]
     },
     "execution_count": 80,
     "metadata": {},
     "output_type": "execute_result"
    }
   ],
   "source": [
    "docx_html_url('001-178380')"
   ]
  },
  {
   "cell_type": "code",
   "execution_count": 81,
   "metadata": {},
   "outputs": [
    {
     "name": "stderr",
     "output_type": "stream",
     "text": [
      "/home/nti14147326/.local/lib/python3.6/site-packages/bs4/__init__.py:181: UserWarning: No parser was explicitly specified, so I'm using the best available HTML parser for this system (\"html5lib\"). This usually isn't a problem, but if you run this code on another system, or in a different virtual environment, it may use a different parser and behave differently.\n",
      "\n",
      "The code that caused this warning is on line 193 of the file /usr/lib/python3.6/runpy.py. To get rid of this warning, change code that looks like this:\n",
      "\n",
      " BeautifulSoup(YOUR_MARKUP})\n",
      "\n",
      "to this:\n",
      "\n",
      " BeautifulSoup(YOUR_MARKUP, \"html5lib\")\n",
      "\n",
      "  markup_type=markup_type))\n"
     ]
    },
    {
     "data": {
      "text/plain": [
       "'FIRST SECTION      CASE OF TADIĆ v. CROATIA (Application no. 10633/15)        JUDGMENT    STRASBOURG 23 November 2017 FINAL 09/04/2018 This judgment has become final under Article 44 § 2 of the Convention. It may be subject to editorial revision. In the case of Tadić v. Croatia,The European Court of Human Rights (First Section), sitting as a Chamber composed of:Linos-Alexandre Sicilianos, President,Kristina Pardalos,Krzysztof Wojtyczek,Ksenija Turković,Armen Harutyunyan,Pauliine Koskelo,Jovan Ilievski, judges,and Abel Campos, Section Registrar,Having deliberated in private on 10 October 2017,Delivers the following judgment, which was adopted on that date:PROCEDURE1.\\nThe case originated in an application (no. 10633/15) against the Republic of Croatia lodged with the Court under Article 34 of the Convention for the Protection of Human Rights and Fundamental Freedoms (“the Convention”) by a Croatian national, Mr Ivica Tadić (“the applicant”), on 23 February 2015.2.\\nThe applicant, who had been granted legal aid, was represented by Ms L. Horvat, a lawyer practising in Zagreb. The Croatian Government (“the Government”) were represented by their Agent, Ms Š. Stažnik.3.\\nThe applicant alleged ill-treatment during his arrest and the absence of an effective investigation in that respect.4.\\nOn 29 June 2015 the application was communicated to the Government.THE FACTSI.\\nTHE CIRCUMSTANCES OF THE CASE5.\\nThe applicant was born in 1969 and lives in Zagreb.A.\\nThe applicant’s arrest and medical treatment6.\\nOn 20 December 2012 at 4.55 p.m. V.B. and I.J., police officers of IV police station in Zagreb, caught the applicant in the act of attempting to rob an exchange office in Zagreb. The applicant started to run and fell. The police officers then arrested him. During his arrest some money fell out of the applicant’s pockets.7.\\nAccording to the Government, since the applicant was resisting arrest, the police officers had to apply force (the so-called armlock technique).8.\\nAccording to the applicant, he was beaten by the police officers while lying on the ground.9.\\nAt 5 p.m. officers D.P. (the chief officer on duty in the IV Zagreb police station) and N.V. (the deputy head of IV Zagreb police station) were informed of the use of force against the applicant. The applicant was taken to the police station at 5.15 p.m. The applicant complained to Officer S.P. that his shoulder hurt. S.P. informed D.P. of this and the latter ordered that the emergency medical service be called. At 5.56 p.m. D.P. informed the Zagreb police operative centre about the use of force against the applicant. The applicant was seen by an emergency doctor between 7.40 p.m. and 7.57 p.m. He was transferred to the Sisters of Charity Hospital in Zagreb (Klinički bolnički centar Sestre milosrdnice) and was seen there by a surgeon at 8.11 p.m. An X-ray examination revealed that the applicant’s right shoulder was broken. The applicant told the doctor that he had fallen during his arrest. He was provided with medical assistance for these injuries and then returned to the police station at 9.40 p.m. Officer D.P. questioned the applicant in connection with the criminal offence for which he had been arrested and the applicant stated that he wished to remain silent.10.\\nThe applicant was again seen by a surgeon in the same hospital on 24 December 2012 and surgery was recommended.11.\\nThe applicant was hospitalised in the Sisters of Mercy Hospital between 27 and 31 December 2012. He underwent surgery and it was established that his shoulder was broken in four places; his upper arm was also broken. He had an artificial shoulder implanted.B.\\nInternal police inquiry12.\\nAn internal investigation into the use of force against the applicant was immediately initiated within the Zagreb police on 20 December 2012. Officer D.P. took a statement from the applicant who said that he had sustained an injury “by the police officers” and that he did “not want to say anything else”. Officers V.B. and I.J. compiled a joint report on the use of force against the applicant. Later on, each of them provided a separate report. All these reports alleged that the applicant, in attempting to flee from the police officers, had fallen and that while on the ground had actively resisted the police officers, who had then applied the armlock technique and handcuffed him.13.\\nOn 21 December 2012 an internal police investigator of the Zagreb police, officer A.L., compiled a report on the basis of the documents, statements from Officers V.B., I.J. and D.P. and his interview with the applicant. In his report A.L. stated that the applicant had attempted to run from the said officers and had fallen. While on the ground he had actively resisted arrest and the officers had applied the armlock technique. A.L. concluded that the applicant had resisted the police officers since some money had fallen out of his clothes. A.L. was of the opinion that the force applied by officers V.B. and I.J. against the applicant had had a “basis in law and [had been] justified”.14.\\nOn 21 December 2012 the head of IV police station in Zagreb, S.T., compiled a report for the public-order division of the Zagreb police, on the basis of the report of A.L. S.T. stated that the applicant had said that he had fallen and that the police officers had caught him and applied force against him and denied that he had resisted arrest. In a short report of 28 December 2012 the head of the Zagreb police, G.B., concluded that the information gathered had shown that the use of force by Officers V.B. and I.J. against the applicant had been lawful and justified.15.\\nOn 28 December 2012 the head of the Zagreb police informed the head of IV police station in Zagreb that, on the basis of the report of A.L., he considered the force used by officers V.B. and I.J. against the applicant to have had a “basis in law and [to have been] justified”16.\\nOn 3 January 2013 the head of the Zagreb police sent the case file concerning the internal police investigation to the Internal Control Service of the Ministry of the Interior. Upon inspecting the file the Internal Control Service instructed the police to forward the file to the Zagreb Municipal State Attorney’s Office (hereinafter the “ZMSAO”) for further assessment.17.\\nOn the instructions of the head of the Zagreb police, on 5 February 2013 the IV police station in Zagreb sent a report on the events at issue together with the applicant’s medical report to the ZMSAO. The documents in the case file do not indicate that the ZMSAO carried out any further steps at that time.18.\\nOn 6 February 2013, upon a request by the applicant’s lawyer, the head of the IV police station in Zagreb shortly informed the applicant’s lawyer that the force used against the applicant by the two police officers had had a basis in law and had been justified. The applicant’s request to have access to the internal report on the use of force against him was denied on 11 February 2013 on the grounds that it was a classified document.19.\\nOn 15 May 2013 the head of IV police station in Zagreb compiled a report for the legal, financial and technical tasks division of the Zagreb police, where he described in detail the events at issue and the results of the internal police investigation with a final conclusion that the use of force against the applicant had had a basis in law and had been justified.C.\\nProceedings by the prosecuting authorities20.\\nOn 28 July 2014 the applicant lodged a criminal complaint with the ZMSAO against Officers V.B. and I.J.21.\\nThe applicant alleged that during his arrest on 20 December 2012 police officers V.B. and I.J. had forced him to the ground and then hit, kicked and verbally insulted him and unnecessarily twisted his arm, owing to which he had sustained injuries, such as a broken arm and shoulder. The officers had then taken him to a police station where they continued to beat him. Only after three hours had he been taken to hospital. The doctors had recommended urgent surgery but the police officers had not allowed it. Instead, they had taken him back to the police station where they had continued to hit and insult him. In the evening he had been admitted to Zagreb Prison.22.\\nThe prosecuting authorities obtained the statements previously given by the applicant and the police officers involved.23.\\nThe ZMSAO attempted to contact the applicant on six occasions between 27 November 2014 and 15 September 2015. However, these attempts were unsuccessful since the applicant had changed his address and had not replied to the telephone calls on the mobile telephone number provided by his lawyer.24.\\nIn July and August 2015 the ZMSAO obtained the medical documentation concerning the applicant’s injuries and medical treatment.25.\\nOn 13 October 2015 the ZMSAO interviewed the applicant, who said that during his arrest on 20 December 2012 one of the police officers, when applying the armlock technique, had broken his right arm. He had complained to the officers of intense pain but they had ignored his complaints. During his transport to the police station he had again complained about the pain in his arm but the officers had only told him to shut up. Upon his arrival at the police station he had continued to complain about the pain in his arm, but had been ignored. Only after a few hours had a doctor been called. The applicant admitted that he had told the doctor that he had sustained the injury to his right arm and shoulder when he had fallen during his arrest. He also said that during the arrest and later on in the police station, none of the police officers had hit or kicked him. He said that in the relevant period he had been abusing both alcohol and drugs.26.\\nOn 2 and 3 December 2015 Officers V.B., I.J. and D.B. also gave their statements denying any excessive use of force against the applicant.27.\\nOn 8 January 2016 the ZMSAO interviewed J.H., an employee of the exchange office where the applicant had attempted the robbery. She had also witnessed the applicant’s arrest and said that she had not seen the police officers hitting or kicking the applicant.28.\\nOn 13 January 2016 the ZMSAO interviewed B.Z., a witness to the applicant’s arrest, who said that the applicant had attempted to run from the police and had fallen and that he had not seen any police officers hitting or kicking the applicant.29.\\nThe investigation is still pending.D.\\nThe applicant’s civil proceedings against the State30.\\nOn 28 August 2013 the applicant instituted civil proceedings in the Zagreb Municipal Civil Court (Općinski građanski sud u Zagrebu) against the State claiming damages in connection with his alleged ill-treatment by the police during his arrest and stay in the police station.31.\\nThose proceedings are still pending.II.\\nRELEVANT DOMESTIC LAWA.\\nCode of Criminal Procedure32.\\nThe relevant part of the Code of Criminal Procedure reads as follows (Zakon o kaznenom postupku, Official Gazette nos. 152/2008, 76/2009, 80/2011, 91/2012, 143/2012, 56/2013, 145/2013 and 152/2014):Article 206.a“(1)\\nA victim and an injured party have the right to ask for information about the steps taken by a State attorney in connection to their criminal complaint ... within two months of the complaint being submitted. A State attorney shall inform them about the steps taken within a reasonable time and at the latest within thirty days of the date the complaint was received, save for when [providing the information] would compromise the efficiency of the proceedings. ...(2)\\nWhen a State attorney does provide the requested information to the victim or the injured party or when they are not satisfied with the information received, they have the right to complain to a higher State attorney.(3)\\nThe higher State attorney shall verify the allegations of the complaint and where he or she finds the complaint well-founded, he or she shall order the lower State attorney to provide the complainant with the information about the actions taken or to carry out within a reasonable time the steps that should have been taken. When the higher State attorney finds that the actions of a lower State attorney infringed the rights of the complainant he or she shall inform the complainant of it and indicate the right that has been infringed.(4)\\nThe victim and the injured party may again seek information about the steps taken under paragraph 1 of this Article after [a period of] six months from the previous request for information, save for when they have lodged a complaint under Article 206.b paragraph 2 of this Code.”Article 206.b“(1)\\nA State attorney shall adopt a decision on a criminal complaint within six months ...(2)\\nAfter the expiry of the deadline from paragraph 1 of this Article or after the expiry of [a] six-month [period] after a State attorney acted in accordance with paragraph 5 of Article 205 of this Code, the person who submitted a criminal complaint, the victim and the injured party may lodge a complaint with a higher State attorney on account of the failure of a subordinate State attorney to carry out actions which resulted in a delay in the proceedings.(3)\\nA higher State attorney shall request without delay a report on the allegations in the complaint.(4)\\nWhen he or she finds the complaint well-founded the higher State attorney shall fix adequate time for adopting a decision on the criminal complaint concerned.(5)\\nThe higher State attorney shall inform the complainant of the measures taken within fifteen days.(6)\\nThe complainant may repeat his or her complaint when the complaint has not been processed within the time-limit under paragraph 4 of this Article.”B.\\nPolice Act33.\\nSection 5 of the Police Act (Zakon o policiji, Official Gazette no. 34/2011 and 130/2012) reads as follows:“(1)\\nWhen a physical or legal person submits a petition or a complaint about the work of a police officer or other employee of the Ministry [of the Interior], a police entity or other entity of the Ministry, alleging that unlawful or incorrect acts of a police officer or other employee of the Ministry violated his or her or other’s rights or violated a statutory provision, a head of the relevant division shall inform the complainant about the facts established and measures taken within thirty days of the day the petition or complaint has been submitted.(2)\\nIf the complainant is not satisfied with the answer and the procedure by which his or her allegations have been assessed, the case file shall without delay be forwarded to further processing to the Ministry’s Complaints Committee.(3)\\nThe Committee under paragraph 2 of this section is composed of three members: police officer of the Ministry and two representatives of the public appointed by the Parliament’s Committee for Human Rights and the Rights of National Minorities at the suggestions of organisations of civil society, organisations of exerts and non-governmental organisations. The Ministry shall have a register of petitions and complaints....”C.\\nPolice Duties and Powers Act34.\\nThe relevant provisions of the Police Duties and Powers Act (Zakon o policijskim poslovima i ovlastima, Official Gazette no. 76/2009), as in force at the relevant time, provide:Section 82“(1)\\nMeans of force may be used in cases provided for in this Act in order to protect human lives, surmount resistance, prevent escape or resist an attack, when it is probable that warnings and orders would not achieve the aim sought....(3)\\nThe means of force shall be used [only] after an advance warning, save for when it is probable that the advance warning would put at risk the achieving of the aim sought.”Use of physical force, sprays with irritants and truncheonsSection 84“(1)\\nA police officer has the right to use physical force in order to:1.\\nsurmount resistance of a person breaching the public peace and order, or in respect of a person who should be brought [before the competent authority], confined or arrested;2.\\nprevent self-injury of a person;3.\\nresist attack against [the police officer] or another person or object or premises under his control;4.\\nprevent that person’s leaving a certain place of their own free will....”Use of means of restraintSection 85“A police officer has the right to use means of restraint in order to prevent:1.\\nresistance or attack against the police officer;2.\\nescape of a person;3.\\ninflicting self-injury or injuries to another person.”D.\\nBy-law on the police conduct35.\\nThe relevant provisions of the by-law on the police conduct (Pravilnik o načinu policijskog postupanja, Official Gazette no. 81/2003) provide:Use of forceSection 127“A police officer may use force under the conditions provided for by law, in principle when warning and orders are insufficient to achieve the desired result.The means of force may exceptionally be used before warning and orders when it is likely that giving warnings and orders would put at risk the achieving of the aim sought.The police officer shall use the measure of force which, causing minimum consequences, achieves the aim sought and shall cease to use force as soon as the reason for using it ceases.”Use of physical force, sprays with irritants and truncheonsSection 129“A police officer has the right to use physical force in order to surmount resistance of a person breaching the public peace and order, or in respect of a person who should be brought [before the competent authority], confined or arrested, or in order to prevent self-injury, resist attack against [the police officer] or another person or object or premises under his or her control or to prevent that person’s self-willed leaving a certain place.The use of physical force shall mean: hitting with a bodily part, techniques of defence or attack capable of securing obedience of the person when the conditions prescribed by law are met.The police officer shall apply the means of physical force by which the aim sought is achieved with the least negative consequences.”Measures of restraintSection 133“The use of measures of restraint is restriction of the freedom of bodily movement by tying [the arrestee’s] hands behind [his or her] back, the use of prescribed means of restraint (handcuffs) or other adequate means (belt, rope, tape and similar).As an exception to paragraph 1 of this section, when there are justified reasons, and when a person is under the control of at least two police officers, his or her hands may be tied in front of his or her body.The legs may also be tied when the means of force under paragraph 1 of this section have not achieved the aim sought.The measure under paragraph 1 of this section shall be used by a police officer in a manner ensuring that it does not cause unnecessary physical injuries to the person restrained....A police officer shall restrain a person who is to be brought [before the competent authority], confined or arrested when there is a danger of absconding, resistance or attack of that person on a police officers, or where there is a danger of his or her self-injury or injuring another person....”THE LAWI.\\nALLEGED VIOLATION OF ARTICLE 3 OF THE CONVENTION36.\\nThe applicant complained of ill-treatment during his arrest and of the absence of an effective investigation in that respect. He relied on Article 3 of the Convention, which reads as follows:“No one shall be subjected to torture or to inhuman or degrading treatment or punishment.”A.\\nAdmissibility1.\\nThe parties’ arguments37.\\nThe Government argued that the applicant had not exhausted all available domestic remedies. In the first place he had not complained about the results of the internal police investigation. Secondly, he had not asked for information from the ZMSAO about the progress of the investigation and he had not lodged complaints or sought disciplinary action with the higher State Attorney’s Office in respect of the inefficiency of the investigation as provided under Article 206(a) and (b) of the Code of Criminal Procedure. Thirdly, he had not used the remedy provided for under section 5 of the Police Act.38.\\nAs regards the complaint under the procedural aspect of Article 3, the Government argued that it was premature because the investigation by the ZMSAO into the applicant’s criminal complaint was still pending.39.\\nThe applicant argued that he had exhausted all available remedies since he had lodged a criminal complaint with the relevant State Attorney’s Office and that it was then up to the prosecuting authorities to conduct an effective investigation. Given the passage of time since he had lodged his criminal complaint and the inactivity of the prosecuting authorities, the applicant considered that his application was not premature and that had he waited longer, he might have missed the six-month time-limit for lodging his application with the Court.2.\\nThe Court’s assessment40.\\nThe Court reiterates that, under Article 35 § 1 of the Convention, it may deal with an application only after all domestic remedies have been exhausted. The purpose of Article 35 is to afford the Contracting States the opportunity of preventing or putting right the violations alleged against them before those allegations are submitted to the Court (see, for example, Mifsud v. France (dec.) [GC], no. 57220/00, § 15, ECHR 2002-VIII). The obligation to exhaust domestic remedies requires an applicant to make normal use of remedies which are effective, sufficient and accessible in respect of his Convention grievances. To be effective, a remedy must be capable of resolving directly the impugned state of affairs (see Balogh v. Hungary, no. 47940/99, § 30, 20 July 2004).41.\\nAs regards the specific features of the State’s obligations under Article 3 of the Convention and the requirement of the exhaustion of domestic remedies, the Court reiterates that when there is reason to believe that an individual has been subjected to ill-treatment by a State official, the State is required to conduct an effective official investigation (see Selmouni v. France [GC], no. 25803/94, § 79, ECHR 1999-V, and Bouyid, cited above, § 116). It cannot be left to the initiative of the victim either to lodge a formal complaint or to take responsibility for the conduct of any investigative procedures since the authorities must act on their own motion (see Bouyid, cited above, § 119).42.\\nAs regards the Government’s contention that the applicant had not complained about the results of the internal police investigation, the Court notes that the applicant was only informed by the police shortly, in response to his query, that the force used against him had had a basis in law and had been justified, whereas the report compiled during the internal police investigation was classified and had not been communicated to him (see paragraph 18 above). Further to this, even though the police forwarded the file of its internal investigation for further assessment to the State Attorney’s Office, it neither instituted criminal proceedings nor adopted a reasoned decision not to do so. Therefore, the applicant had no real opportunity to contest the results of the internal police investigation or the State Attorney’s conduct. Section 5 of the Police Act, cited by the Government, does not provide a remedy in that respect (see paragraph 33 above). The applicant has used the remedies at his disposal since he lodged a criminal complaint with the ZMSAO.43.\\nAs to the Government’s arguments related to the rights of victims under Article 206(a) and (b) of the Code of Criminal Procedure, the Court considers that these provisions are not to be understood as imposing an obligation for victims to use them in the context of exhaustion of domestic remedies, taking into account the obligation of the State authorities to act on their own motion in cases of ill-treatment (see, mutatis mutandis, D.J. v. Croatia, no. 42418/10, §§ 63-65, 24 July 2012; Remetin v. Croatia, no. 29525/10, §§ 73-74, 11 December 2012; and Kudra v. Croatia, no. 13904/07, § 95, 18 December 2012).44.\\nAs regards the Government’s allegation that the application was premature in respect of the procedural aspect of Article 3 of the Convention since the investigation into the applicant’s allegations was still pending before the ZMSAO, the Court notes that under Article 206(b) of the Code of Criminal Procedure the State Attorney’s Office is obliged to adopt a decision upon a criminal complaint within six months. Given that that time-limit had elapsed and taking into account the overall duration of the investigation by the State Attorney’s Office up to present (see paragraph 73 below), the Court considers that the application is not premature.45.\\nIt follows the Government’s objection must be dismissed.46.\\nThe Court notes that the application is not manifestly ill-founded within the meaning of Article 35 § 3 (a) of the Convention. It further notes that it is not inadmissible on any other grounds. It must therefore be declared admissible.B.\\nMerits1.\\nSeverity of the ill-treatment47.\\nThe Court reiterates that ill-treatment must attain a minimum level of severity if it is to fall within the scope of Article 3. The assessment of this minimum is relative: it depends on all the circumstances of the case, such as the nature and context of the treatment, its duration, its physical and mental effects and, in some instances, the sex, age and state of health of the victim (see Costello-Roberts v. the United Kingdom, 25 March 1993, § 30, Series A no. 247-C, and A. v. the United Kingdom, 23 September 1998, § 20, Reports of Judgments and Decisions 1998-VI).48.\\nThe Court notes that it is undisputed that two police officers used force against the applicant and that the applicant sustained injuries, all in the context of his arrest. The medical documentation shows that in connection with his arrest on 20 December 2012 the applicant sustained a fracture of his right arm and shoulder in four places. On 27 December 2012 he underwent surgery and had an artificial shoulder implanted. In view of the above principles, the Court finds that in the present circumstances where physical force was used during the applicant’s arrest by police officers, the above-described injury was sufficiently serious to reach the “minimum level of severity” under Article 3 of the Convention so that that provision is applicable.2.\\nSubstantive aspect of Article 3 of the Convention(a)\\nThe parties’ arguments(i)\\nThe applicant49.\\nThe applicant submitted that on 20 December 2012 police officers had hit and kicked him and had unnecessarily twisted his arm while he had been prone on the ground even though he had not given any resistance. Therefore the use of force against him had been disproportionate. He had enclosed with his criminal complaint the medical evidence showing that he had sustained a broken arm and shoulder.(ii)\\nThe Government50.\\nThe Government argued that the applicant’s allegations of ill-treatment by the police were unfounded and unsubstantiated since they had no basis in the available evidence. The only reliable facts were that the applicant had run from the police, fallen and sustained injuries to his shoulder. The police had ensured that he received adequate medical treatment for those injuries. There was no evidence that the injuries had been the result of ill-treatment of the applicant by the police.51.\\nThe Government further contended that the applicant had given differing versions of the events at issue, initially claiming that the injuries he had sustained had been a result of his fall, later on stating that the police officers had unnecessarily twisted his arm, and lastly adding that they had hit and kicked him. That showed that his statements could not be taken as reliable and that there were no conclusive factors to hold that the applicant indeed had been ill-treated by the police.(b)\\nThe Court’s assessment(i)\\nGeneral principles52.\\nArticle 3 enshrines one of the fundamental values of democratic society. Even in the most difficult of circumstances, such as the fight against terrorism or organised crime, the Convention prohibits, in absolute terms, torture or inhuman or degrading treatment or punishment, irrespective of the victim’s conduct (see Bouyid, cited above, § 81; Chahal v. the United Kingdom, 15 November 1996, § 79, Reports 1996-V; Assenov and Others, cited above, § 93; and Ramirez Sanchez v. France [GC], no. 59450/00, § 115, ECHR 2006‑IX).53.\\nThe Court reiterates that where an individual is taken into police custody in good health and is found to be injured on release, it is incumbent on the State to provide a plausible explanation of how those injuries were caused, failing which a clear issue arises under Article 3 of the Convention (see, among other authorities, Selmouni v. France [GC], no. 25803/94, § 87, ECHR 1999-V). The same principle applies to alleged ill-treatment resulting in injury which takes place in the course of an applicant’s arrest (see Klaas v. Germany, 22 September 1993, §§ 23-24, Series A no. 269; Rehbock v. Slovenia, no. 29462/95, §§ 68-78, ECHR 2000-XII, and Mikiashvili v. Georgia, no. 18996/06, § 69, 9 October 2012).54.\\nArticle 3 does not prohibit the use of force by police officers during an arrest. Nevertheless, such force may be used only if it is indispensable and it must never be excessive in the particular circumstances of each case (see, among many other authorities, İzci v. Turkey, no. 42606/05, § 54, 23 July 2013).(ii)\\nApplication of these principles to the present case55.\\nAllegations of ill-treatment contrary to Article 3 must be supported by appropriate evidence. To assess this evidence, the Court adopts the standard of proof “beyond reasonable doubt” but adds that such proof may follow from the coexistence of sufficiently strong, clear and concordant inferences or of similar unrebutted presumptions of fact (see, among other authorities, Ireland v. the United Kingdom, 18 January 1978, § 161 in fine, Series A no. 25; Labita v. Italy [GC], no. 26772/95, § 121, ECHR 2000‑IV; Jalloh v. Germany [GC], no. 54810/00, § 67, ECHR 2006‑IX; Ramirez Sanchez v. France [GC], no. 59450/00, § 117, ECHR 2006‑IX; Gäfgen v. Germany [GC], no. 22978/05, § 92, ECHR 2010; and Bouyid, para. 82).56.\\nThe Court observes that there is objective medical evidence showing that at the time of his arrest the applicant sustained several fractures to his right shoulder and arm. As a result the applicant’s right shoulder had to be removed and replaced by an artificial one.57.\\nThe Court notes that there is no dispute between the parties that the applicant sustained injuries in the context of his arrest. Their versions, however, differ with regard to the manner in which they were caused.58.\\nThe Government contended that the only force used against the applicant by the authorities had been an armlock, which had been necessary to restrain and arrest him after he had fallen to the ground, since he had actively resisted arrest, the applicant maintained that his injuries had been caused in the course of his arrest by the use of unnecessary force by police officers.59.\\nThe applicant gave differing accounts as to how he had sustained these injuries. When seen by a doctor at the Sisters of Charity Hospital in Zagreb on 20 December 2012 the applicant told the medic that he had fallen (see paragraph 9 above). In his criminal complaint of 28 July 2014 the applicant alleged that the police officers had kicked and hit him (see paragraph 21 above). When interviewed by ZMSAO on 13 October 2015 the applicant said that none of the police officers had kicked or hit him during the arrest or at any later time and that it was true that he had told the surgeon that he had fallen (see paragraph 25 above). The applicant did not offer any explanation as to his differing accounts of the events at issue.60.\\nTwo civilians who were eyewitnesses to the applicant’s arrest also said that the police officers had not kicked or hit the applicant. One of them confirmed that the applicant had fallen.61.\\nThe Court notes the differing statements of the applicant who firstly alleged that he had fallen and then that the police officers had twisted his arm and in his criminal complaint that they had hit and kicked him. The Court also notes the statements of two eye-witnesses. Given the applicant’s contrary statements as well as those of the witnesses the Court accepts that it cannot be established that the police officers hit or kicked the applicant. As to the application of the armlock technique, given the absence of elements which could indicate with sufficient certainty that the injuries the applicant sustained were inflicted by use of force by the police which was not indispensable or which was excessive (compare Tarkan Yavaş v.Turkey, no. 58210/08, § 30 and 31, 18 September 2012), the Court considers that it is not in the position to assess the question whether the applicant suffered treatment contrary to Article 3 of the Convention (see Hüsniye Tekin v. Turkey, no. 50971/99, § 50, 25 October 2005; Coşar v. Turkey, no. 22568/05, §§ 32-35, 26 March 2013; A.N. v. Ukraine, no. 13837/09, § 83, 29 January 2015; Mehdiyev v. Azerbaijan, no. 59075/09, § 75, 18 June 2015; Nekrasov v. Russia, no. 8049/07, § 95, 17 May 2016; and Müftüoğlu and Others v. Turkey, nos. 34520/10 and 2 others, § 63, 28 February 2017).62.\\nConsequently, the Court cannot establish a substantive violation of Article 3 of the Convention in respect of the applicant’s alleged ill-treatment by the police.3.\\nAlleged inadequacy of the investigation(a)\\nThe parties’ arguments(i)\\nThe applicant63.\\nThe applicant submitted that the conclusions of the internal police investigation had relied entirely on the statements given by the police officers implicated. The report on that investigation had not been served on him but only the final conclusions and only at his request. Even though he had reported the ill-treatment by the police to the ZMSAO on 28 July 2014, the authorities had not acted promptly and there had been no effective investigation into his allegations. None of the authorities involved had asked for a forensic medical report in order to establish how he had sustained the injuries, or to have a statement taken from the doctor who had seen the applicant in the police station and the doctors who had treated him later on. To that point, the ZMSAO had not taken any relevant steps in order to elucidate the true circumstances of the use of force by the police against him.(ii)\\nThe Government64.\\nAs regards the obligation to investigate, the Government contended that the police had promptly carried out an internal investigation and concluded that the force used against the applicant had been lawful and justified.65.\\nAs regards the investigation by the ZMSAO, the Government argued that before proceeding further the ZMSAO had to interview the applicant. However, the ZMSAO had attempted six times to contact him but had not been able to reach him since he had changed addresses without informing that office of that fact. Further to that, he had not replied to telephone calls on the mobile telephone number provided to the ZMSAO by his legal representative.(b)\\nCourt’s assessment(i)\\nGeneral principles66.\\nThe obligation to carry out an effective investigation into allegations of treatment infringing Article 3 suffered at the hands of State agents is well established in the Court’s case-law (see, for the most recent authorities, Jeronovičs v. Latvia [GC], no. 44898/10, § 103, ECHR 2016, and Bouyid, cited above, §§ 114-23, 28 September 2015). The requirements of an investigation to be effective under Article 3 are the same as those under Article 2 of the Convention (see Ramsahai and Others v. the Netherlands [GC], no. 52391/99, § 324, ECHR 2007 II, and Mustafa Tunç and Fecire Tunç v. Turkey [GC], no. 24014/05, § 172, 14 April 2015). General principles as to the requirements for an investigation to be effective are most recently set out in the case of Armani da Silva v. the United Kingdom ([GC], no. 5878/08, ECHR 2016) as follows:“233. ... This means that it must be capable of leading to the establishment of the facts, a determination of whether the force used was or was not justified in the circumstances and of identifying and – if appropriate – punishing those responsible (see Giuliani and Gaggio, cited above, § 301, and Mustafa Tunç and Fecire Tunç, cited above, § 172). This is not an obligation of result, but of means (see Nachova and Others v. Bulgaria [GC], nos. 43577/98 and 43579/98, § 160, ECHR 2005 VII); Jaloud v. the Netherlands [GC], no. 47708/08, § 186, ECHR 2014; and Mustafa Tunç and Fecire Tunç, cited above, § 173). The authorities must take whatever reasonable steps they can to secure the evidence concerning the incident, including, inter alia, eyewitness testimony, forensic evidence and, where appropriate, an autopsy which provides a complete and accurate record of injury and an objective analysis of the clinical findings, including the cause of death (as regards autopsies, see, for example, Salman v. Turkey [GC], no. 21986/93, § 106, ECHR 2000-VII; on the subject of witnesses, see, for example, Tanrıkulu v. Turkey [GC], no. 23763/94, § 109, ECHR 1999-IV; as regards forensic examinations, see, for example, Gül v. Turkey, no. 22676/93, § 89, 14 December 2000). Moreover, where there has been a use of force by State agents, the investigation must also be effective in the sense that it is capable of leading to a determination of whether the force used was or was not justified in the circumstances (see, for example, Kaya v. Turkey, 19 February 1998, § 87, Reports 1998-I). Any deficiency in the investigation which undermines its ability to establish the cause of death or the person responsible will risk falling foul of this standard (see Avşar v. Turkey, no. 25657/94, §§ 393-395, ECHR 2001 VII (extracts); Giuliani and Gaggio, cited above, § 301; and Mustafa Tunç and Fecire Tunç, cited above, § 174).234. In particular, the investigation’s conclusions must be based on thorough, objective and impartial analysis of all relevant elements. Failing to follow an obvious line of inquiry undermines to a decisive extent the investigation’s ability to establish the circumstances of the case and the identity of those responsible (see Kolevi v. Bulgaria, no. 1108/02, § 201, 5 November 2009, and Mustafa Tunç and Fecire Tunç, cited above, § 175). Nevertheless, the nature and degree of scrutiny which satisfy the minimum threshold of the investigation’s effectiveness depend on the circumstances of the particular case. The nature and degree of scrutiny must be assessed on the basis of all relevant facts and with regard to the practical realities of investigation work (see Velcea and Mazăre v. Romania, no. 64301/01, § 105, 1 December 2009 and Mustafa Tunç and Fecire Tunç, cited above, § 175). ...235. ... There must also be a sufficient element of public scrutiny of the investigation, the degree of which may vary from case to case (see Hugh Jordan, cited above, § 109; Giuliani and Gaggio, cited above, § 303; and Mustafa Tunç and Fecire Tunç, cited above, § 179; see also Güleç, cited above, § 82, where the victim’s father was not informed of the decision not to prosecute, and Oğur, cited above, § 92, where the family of the victim had no access to the investigation or the court documents).236.\\nHowever, disclosure or publication of police reports and investigative materials may involve sensitive issues with possible prejudicial effects on private individuals or other investigations and, therefore, cannot be regarded as an automatic requirement under Article 2. The requisite access of the public or the victim’s relatives may therefore be provided for in other stages of the procedure (see, among other authorities, McKerr v. the United Kingdom, no. 28883/95, § 129, ECHR 2001-III and Giuliani and Gaggio, cited above, § 304). Moreover, Article 2 does not impose a duty on the investigating authorities to satisfy every request for a particular investigative measure made by a relative in the course of the investigation (see Velcea and Mazăre, cited above, § 113 and Ramsahai and Others, cited above, § 348).237.\\nA requirement of promptness and reasonable expedition is implicit in this context (see Yaşa v. Turkey, 2 September 1998, §§ 102-104, Reports 1998-VI; and Kaya, cited above, §§ 106-107). It must be accepted that there may be obstacles or difficulties which prevent progress in an investigation in a particular situation. However, a prompt response by the authorities in investigating a use of lethal force may generally be regarded as essential in maintaining public confidence in their adherence to the rule of law and in preventing any appearance of collusion in or tolerance of unlawful acts (see McKerr, cited above, §§ 111 and 114, and Opuz v. Turkey, no. 33401/02, § 150, ECHR 2009).238. It cannot be inferred from the foregoing that Article 2 may entail the right to have third parties prosecuted or sentenced for a criminal offence (see Mastromatteo, cited above, § 90; Šilih, cited above, § 194 and Giuliani and Gaggio, cited above, § 306) or an absolute obligation for all prosecutions to result in conviction, or indeed in a particular sentence (see Zavoloka, cited above, § 34(c)). ...”(ii)\\nApplication of these principles in the present case67.\\nThe Court reiterates that Article 3 of the Convention requires the authorities to investigate allegations of ill-treatment when they are “arguable” and “raise a reasonable suspicion” (see Gök and Güler v. Turkey, no. 74307/01, § 38, 28 July 2009).68.\\nIt is not disputed between the parties that on 20 December 2012 force was used against the applicant during his arrest by two police officers. They immediately reported to their superiors that the applicant had sustained injuries as a result of force used against him. However, the incident is described differently by the applicant and by the Government. The Court notes that the medical documentation shows that the applicant’s right shoulder and arm were broken in four places and as a result he had an artificial shoulder implanted. After having being brought to the police station the applicant complained to Officer S.P. that he had been injured by two police officers during his arrest. The internal police investigation immediately ensued (see paragraph 12 above). A year and a half after the internal police investigation, which held that the use of force had had a basis in law and had been justified, had been concluded (see paragraph 19 above), the applicant lodged a criminal complaint before the ZMSAO. He claimed that the force used against him in applying the armlock technique had been excessive (see paragraph 21 above). He further alleged for the first time that he had been beaten by the police while he was lying on the ground. In view of the requirement that any use of physical force by State officials during an arrest must never be excessive and must be indispensable in the particular circumstances (see paragraph 54 above), the Court considers that the above facts called for an investigation into the applicant’s allegations of ill‑treatment in order to establish all relevant circumstances of the use of physical force against him.69.\\nLeaving aside the issue of the impartiality of the internal police investigation, the Court notes that the police investigation was carried out by officer A.L. It was confined to the report on the statements of the police officers and the interview A.L. conducted with the applicant. The internal police investigation assessed that the force used by two police officers against the applicant had had a “basis in law and [had been] justified”. A.L. concluded that the applicant had actively resisted the police officers since some money had fallen out of his clothes. That fact and the statements of the police officers were seen as sufficient to conclude that the force used by the officers had been justified without considering whether the force employed had been proportionate to the circumstances of the case, specifically whether it had been indispensable and/or excessive. No expert forensic medical opinion in that connection was sought and statements from eyewitnesses were not taken by A.L. Further to this, the report of the internal police investigation was classified and was not served on the applicant. Only after the applicant’s lawyer had expressly asked for it had she been served with the conclusion of the police that the force used against the applicant had had a basis in law and had been justified without any further reasoning. Therefore, it cannot be said that the internal police investigation satisfied the requirements of Article 3 of the Convention.70.\\nEven though the ZMSAO was informed of the incident by the police on 5 February 2013, it commenced its investigation only when the applicant lodged his criminal complaint in July 2014. The Court further observes that pursuant to the relevant domestic law it was ultimately the responsibility of the competent State Attorney’s Office to conduct an official effective investigation into the circumstances of the applicant’s alleged ill-treatment (compare Mafalani v. Croatia, no. 32325/13, § 100, 9 July 2015). It was thus incumbent on the ZMSAO, as the competent authority in the case, to ensure, once the police forwarded the case file to it, that an effective investigation was carried out and that the necessary evidence was obtained. In this connection the Court observes that the documents in the case file do not indicate that the State Attorney’s Office ever assessed the conclusions of the police internal investigation (see paragraph 17 above). There is nothing in the case file showing that the ZMSAO issued a reasoned decision on why it considered that further investigation was not needed.71.\\nThe Court notes the Government’s argument that the ZMSAO did not proceed further with the applicant’s complaint lodged in July 2014 because it had unsuccessfully attempted to contact the applicant on six occasions over a longer period of time. However, the Court notes that the applicant lodged a criminal complaint with the ZMSAO through a legal representative. The Court cannot accept the submission that the progress and the effectiveness of proceedings concerning allegations of ill-treatment could depend entirely on the victim’s conduct (compare Petropoulou‑Tsakiris v. Greece, no. 44803/04, § 51, 6 December 2007).72.\\nThe Court also notes that so far the ZMSAO has obtained the criminal case file against the applicant and the internal report compiled by the police. It also took statements from the applicant, two of the officers allegedly involved and two eyewitnesses. However, it made no serious effort to assess the most important aspect of the case – whether the force used by the police officers had been indispensable and/or excessive in the given situation. Even though the applicant had lodged his criminal complaint in July 2014, there is no indication in the case file that to date a forensic report was ordered which could have further clarified how the injuries had been caused and explained further the applicant’s allegations.73.\\nFurthermore, the Court notes that the investigation before the State Attorney’s Office has been pending so far for about three years.74.\\nAgainst the above background, it can be concluded that the domestic authorities have not discharged their obligation to carry out an effective investigation into the circumstances of the applicant’s alleged ill-treatment by the police.75.\\nThere has therefore been a violation of the procedural aspect of Article 3 of the Convention.II.\\nAPPLICATION OF ARTICLE 41 OF THE CONVENTION76.\\nArticle 41 of the Convention provides:“If the Court finds that there has been a violation of the Convention or the Protocols thereto, and if the internal law of the High Contracting Party concerned allows only partial reparation to be made, the Court shall, if necessary, afford just satisfaction to the injured party.”A.\\nDamage77.\\nThe applicant claimed 40,000 euros (EUR) in respect of non‑pecuniary damage.78.\\nThe Government considered the applicant’s claim excessive, unfounded and unsubstantiated.79.\\nHaving regard to all the circumstances of the present case, the Court accepts that the applicant has suffered non-pecuniary damage which cannot be compensated for solely by the finding of a violation. Making its assessment on an equitable basis, the Court awards the applicant EUR 5,000 in respect of non-pecuniary damage, plus any tax that may be chargeable to him.B.\\nCosts and expenses80.\\nThe applicant also claimed EUR 5,266.60 for the costs and expenses incurred before the domestic courts and for those incurred before the Court.81.\\nThe Government considered the applicant’s claim unsubstantiated and unfounded.82.\\nAccording to the Court’s case-law, an applicant is entitled to the reimbursement of costs and expenses only in so far as it has been shown that these have been actually and necessarily incurred and are reasonable as to quantum. In the present case, regard being had to the documents in its possession, the above criteria, and bearing in mind that the applicant was granted EUR 850 in legal aid for his representation, the Court considers it reasonable to award the sum of EUR 2,000 plus any tax that may be chargeable to the applicant covering costs under all heads.C.\\nDefault interest83.\\nThe Court considers it appropriate that the default interest rate should be based on the marginal lending rate of the European Central Bank, to which should be added three percentage points.FOR THESE REASONS, THE COURT, UNANIMOUSLY,1.\\nDeclares the application admissible; 2.\\nHolds that there has been no violation of the substantive aspect of Article 3 of the Convention; 3.\\nHolds that there has been a violation of the procedural aspect of Article 3 of the Convention; 4.\\nHolds(a)\\nthat the respondent State is to pay the applicant, within three months from the date on which the judgment becomes final in accordance with Article 44 § 2 of the Convention, the following amounts, to be converted into Croatian kunas (HRK) at the rate applicable at the date of settlement:(i)\\nEUR 5,000 (five thousand euros), plus any tax that may be chargeable, in respect of non-pecuniary damage;(ii)\\nEUR 2,000 (two thousand euros), plus any tax that may be chargeable to the applicant, in respect of costs and expenses;(b)\\nthat from the expiry of the above-mentioned three months until settlement simple interest shall be payable on the above amounts at a rate equal to the marginal lending rate of the European Central Bank during the default period plus three percentage points; 5.\\nDismisses the remainder of the applicant’s claim for just satisfaction.Done in English, and notified in writing on 23 November 2017, pursuant to Rule 77 §§ 2 and 3 of the Rules of Court.Abel CamposLinos-Alexandre SicilianosRegistrarPresident'"
      ]
     },
     "execution_count": 81,
     "metadata": {},
     "output_type": "execute_result"
    }
   ],
   "source": [
    "article_get('001-178380')"
   ]
  },
  {
   "cell_type": "code",
   "execution_count": 28,
   "metadata": {},
   "outputs": [
    {
     "data": {
      "text/plain": [
       "'https://hudoc.echr.coe.int/app/conversion/docx/html/body?library=ECHR&id=001-178380'"
      ]
     },
     "execution_count": 28,
     "metadata": {},
     "output_type": "execute_result"
    }
   ],
   "source": [
    "docx_html_url('001-178380')"
   ]
  },
  {
   "cell_type": "code",
   "execution_count": 29,
   "metadata": {},
   "outputs": [
    {
     "data": {
      "text/plain": [
       "'https://hudoc.echr.coe.int/app/query/results?query=contentsitename%3AECHR%20AND%20(NOT%20(doctype%3DPR%20OR%20doctype%3DHFCOMOLD%20OR%20doctype%3DHECOMOLD))%20AND%20((languageisocode%3D%22ENG%22))%20AND%20((documentcollectionid%3D%22GRANDCHAMBER%22)%20OR%20(documentcollectionid%3D%22CHAMBER%22))%20AND%20((nonviolation%3D8))&select=sharepointid,Rank,ECHRRanking,languagenumber,itemid,docname,doctype,application,appno,conclusion,importance,originatingbody,typedescription,kpdate,kpdateAsText,documentcollectionid,documentcollectionid2,languageisocode,extractedappno,isplaceholder,doctypebranch,respondent,ecli,appnoparts,sclappnos&sort=&start=20&length=100&rankingModelId=11111111-0000-0000-0000-000000000000'"
      ]
     },
     "execution_count": 29,
     "metadata": {},
     "output_type": "execute_result"
    }
   ],
   "source": [
    "article_url(8, False)"
   ]
  },
  {
   "cell_type": "code",
   "execution_count": null,
   "metadata": {},
   "outputs": [],
   "source": []
  },
  {
   "cell_type": "code",
   "execution_count": 3,
   "metadata": {},
   "outputs": [],
   "source": [
    "r = requests.get(\"https://hudoc.echr.coe.int/app/query/results?query=contentsitename%3AECHR%20AND%20(NOT%20(doctype%3DPR%20OR%20doctype%3DHFCOMOLD%20OR%20doctype%3DHECOMOLD))%20AND%20((languageisocode%3D%22ENG%22))%20AND%20((documentcollectionid%3D%22GRANDCHAMBER%22)%20OR%20(documentcollectionid%3D%22CHAMBER%22))%20AND%20((nonviolation%3D3))&select=sharepointid,Rank,ECHRRanking,languagenumber,itemid,docname,doctype,application,appno,conclusion,importance,originatingbody,typedescription,kpdate,kpdateAsText,documentcollectionid,documentcollectionid2,languageisocode,extractedappno,isplaceholder,doctypebranch,respondent,ecli,appnoparts,sclappnos&sort=&start=20&length=100&rankingModelId=11111111-0000-0000-0000-000000000000\")"
   ]
  },
  {
   "cell_type": "code",
   "execution_count": 8,
   "metadata": {},
   "outputs": [],
   "source": [
    "json_data = json.loads(r.text)"
   ]
  },
  {
   "cell_type": "code",
   "execution_count": 38,
   "metadata": {},
   "outputs": [],
   "source": [
    "results = []\n",
    "for result in json_data['results']:\n",
    "    results.append({'id': f'{result[\"columns\"][\"itemid\"]} - {result[\"columns\"][\"docname\"]}'})"
   ]
  },
  {
   "cell_type": "code",
   "execution_count": 39,
   "metadata": {},
   "outputs": [
    {
     "data": {
      "text/plain": [
       "[{'id': '001-178380 - CASE OF TADIĆ v. CROATIA'},\n",
       " {'id': '001-178698 - CASE OF KITIASHVILI v. GEORGIA'},\n",
       " {'id': '001-178962 - CASE OF CEESAY v. AUSTRIA'},\n",
       " {'id': '001-178381 - CASE OF HENTSCHEL AND STARK v. GERMANY'},\n",
       " {'id': '001-178178 - CASE OF M.F. v. HUNGARY'},\n",
       " {'id': '001-177651 - CASE OF DRACI v. THE REPUBLIC OF MOLDOVA AND RUSSIA'},\n",
       " {'id': '001-177399 - CASE OF TARJÁNI v. HUNGARY'},\n",
       " {'id': '001-177074 - CASE OF KUPARADZE v. GEORGIA'},\n",
       " {'id': '001-177295 - CASE OF ZOLOTOREV v. RUSSIA'},\n",
       " {'id': '001-176827 - CASE OF MIRZASHVILI v. GEORGIA'},\n",
       " {'id': '001-174644 - CASE OF DIMCHO DIMOV v. BULGARIA (No. 2)'},\n",
       " {'id': '001-174424 - CASE OF M.O. v. SWITZERLAND'},\n",
       " {'id': '001-174652 - CASE OF DAŞLIK v. TURKEY'},\n",
       " {'id': '001-173779 - CASE OF DEJNEK v. POLAND'},\n",
       " {'id': '001-174223 - CASE OF N.A. v. SWITZERLAND'},\n",
       " {'id': '001-173798 - CASE OF APCOV v. THE REPUBLIC OF MOLDOVA AND RUSSIA'},\n",
       " {'id': '001-173599 - CASE OF ERIOMENCO v. THE REPUBLIC OF MOLDOVA AND RUSSIA'},\n",
       " {'id': '001-173266 - CASE OF GOLUBAR v. CROATIA'},\n",
       " {'id': '001-172665 - CASE OF PODESCHI v. SAN MARINO'},\n",
       " {'id': '001-172459 - CASE OF THUO v. CYPRUS'},\n",
       " {'id': '001-172318 - CASE OF SHESTOPALOV v. RUSSIA'},\n",
       " {'id': '001-172091 - CASE OF ILIAS AND AHMED v. HUNGARY'},\n",
       " {'id': '001-171923 - CASE OF MÜFTÜOĞLU AND OTHERS v. TURKEY'},\n",
       " {'id': '001-171623 - CASE OF D.M. v. GREECE'},\n",
       " {'id': '001-171442 - CASE OF MASLOVA v. RUSSIA'},\n",
       " {'id': '001-170347 - CASE OF HUTCHINSON v. THE UNITED KINGDOM'},\n",
       " {'id': '001-170388 - CASE OF J. AND OTHERS v. AUSTRIA'},\n",
       " {'id': '001-170636 - CASE OF GENGOUX v. BELGIUM'},\n",
       " {'id': '001-169652 - CASE OF RADZHAB MAGOMEDOV v. RUSSIA'},\n",
       " {'id': '001-169648 - CASE OF BERDZENISHVILI AND OTHERS v. RUSSIA'},\n",
       " {'id': '001-170054 - CASE OF KHLAIFIA AND OTHERS v. ITALY'},\n",
       " {'id': '001-169475 - CASE OF IDALOV v. RUSSIA (No. 2)'},\n",
       " {'id': '001-167483 - CASE OF MURŠIĆ v. CROATIA'},\n",
       " {'id': '001-167572 - CASE OF KALANDIA v. GREECE'},\n",
       " {'id': '001-166957 - CASE OF STROGAN v. UKRAINE'},\n",
       " {'id': '001-166937 - CASE OF YAROSLAV BELOUSOV v. RUSSIA'},\n",
       " {'id': '001-166569 - CASE OF NASRETTİN ASLAN ET ZEKİ ASLAN v. TURKEY'},\n",
       " {'id': '001-165230 - CASE OF ADAM v. SLOVAKIA'},\n",
       " {'id': '001-165261 - CASE OF R.M. AND OTHERS v. FRANCE'},\n",
       " {'id': '001-165079 - CASE OF R.K. AND OTHERS v. FRANCE'},\n",
       " {'id': '001-164460 - CASE OF A.M. v. THE NETHERLANDS'},\n",
       " {'id': '001-164710 - CASE OF KAGIA v. GREECE'},\n",
       " {'id': '001-164197 - CASE OF JÓZEF WOŚ v. POLAND'},\n",
       " {'id': '001-163909 - CASE OF KLEUTIN v. UKRAINE'},\n",
       " {'id': '001-163911 - CASE OF KULYK v. UKRAINE'},\n",
       " {'id': '001-164489 - CASE OF IGOSHIN v. RUSSIA'},\n",
       " {'id': '001-163805 - CASE OF VASENIN v. RUSSIA'},\n",
       " {'id': '001-164293 - CASE OF R.D. v. FRANCE'},\n",
       " {'id': '001-163451 - CASE OF R.B.A.B. AND OTHERS v. THE NETHERLANDS'},\n",
       " {'id': '001-163677 - CASE OF COMORAŞU v. ROMANIA'},\n",
       " {'id': '001-163682 - CASE OF GHEORGHIȚĂ AND ALEXE v. ROMANIA'},\n",
       " {'id': '001-163683 - CASE OF BEORTEGUI MARTINEZ v. SPAIN'},\n",
       " {'id': '001-163651 - CASE OF ERSİN ERKUŞ AND OTHERS v. TURKEY'},\n",
       " {'id': '001-163101 - CASE OF MAKSHAKOV v. RUSSIA'},\n",
       " {'id': '001-162860 - CASE OF NEKRASOV v. RUSSIA'},\n",
       " {'id': '001-162765 - CASE OF TOPEKHIN v. RUSSIA'},\n",
       " {'id': '001-162199 - CASE OF CANGÖZ AND OTHERS v. TURKEY'},\n",
       " {'id': '001-162023 - CASE OF BAGDONAVIČIUS v. LITHUANIA'},\n",
       " {'id': '001-162001 - CASE OF ALI CHEEMA AND OTHERS v. GREECE'},\n",
       " {'id': '001-161913 - CASE OF ALEXEY PETROV v. BULGARIA'},\n",
       " {'id': '001-161829 - CASE OF F.G. v. SWEDEN'},\n",
       " {'id': '001-161531 - CASE OF LITVINOV v. RUSSIA'},\n",
       " {'id': '001-161408 - CASE OF ZALYAN AND OTHERS v. ARMENIA'},\n",
       " {'id': '001-160991 - CASE OF KAPUSTYAK v. UKRAINE'},\n",
       " {'id': '001-161055 - CASE OF MOZER v. THE REPUBLIC OF MOLDOVA AND RUSSIA'},\n",
       " {'id': '001-161135 - CASE OF ÖZEN AND OTHERS v. TURKEY'},\n",
       " {'id': '001-161037 - CASE OF RYWIN v. POLAND'},\n",
       " {'id': '001-160842 - CASE OF ZINOVCHIK v. RUSSIA'},\n",
       " {'id': '001-160420 - CASE OF KHACHUKAYEVY v. RUSSIA'},\n",
       " {'id': '001-160263 - CASE OF MUHACIR ÇİÇEK AND OTHERS v. TURKEY'},\n",
       " {'id': '001-160597 - CASE OF KONSTANTINOPOULOS AND OTHERS v. GREECE'},\n",
       " {'id': '001-160241 - CASE OF SOW v. BELGIUM'},\n",
       " {'id': '001-159914 - CASE OF BOACĂ AND OTHERS v. ROMANIA'},\n",
       " {'id': '001-159925 - CASE OF MOXAMED ISMAACIIL AND ABDIRAHMAN WARSAME v. MALTA'},\n",
       " {'id': '001-159882 - CASE OF M.R.A. AND OTHERS v. THE NETHERLANDS'},\n",
       " {'id': '001-159807 - CASE OF S.D.M. AND OTHERS v. THE NETHERLANDS'},\n",
       " {'id': '001-159806 - CASE OF S.S. v. THE NETHERLANDS'},\n",
       " {'id': '001-159805 - CASE OF A.W.Q. AND D.H. v. THE NETHERLANDS'},\n",
       " {'id': '001-159883 - CASE OF A.G.R. v. THE NETHERLANDS'},\n",
       " {'id': '001-159788 - CASE OF CĂTĂLIN EUGEN MICU v. ROMANIA'},\n",
       " {'id': '001-159205 - CASE OF SZAFRAŃSKI v. POLAND'},\n",
       " {'id': '001-159207 - CASE OF KHALVASH v. RUSSIA'},\n",
       " {'id': '001-159049 - CASE OF MIRONOVAS AND OTHERS v. LITHUANIA'},\n",
       " {'id': '001-158961 - CASE OF YAROSHOVETS AND OTHERS v. UKRAINE'},\n",
       " {'id': '001-158877 - CASE OF MAHAMED JAMA v. MALTA'},\n",
       " {'id': '001-158909 - CASE OF RUSTAM KHODZHAYEV v. RUSSIA'},\n",
       " {'id': '001-158486 - CASE OF MEREZHNIKOV v. RUSSIA'},\n",
       " {'id': '001-158494 - CASE OF BIMURADOVA v. RUSSIA'},\n",
       " {'id': '001-158477 - CASE OF ŞAKIR KAÇMAZ v. TURKEY'},\n",
       " {'id': '001-158146 - CASE OF STORY AND OTHERS v. MALTA'},\n",
       " {'id': '001-158537 - CASE OF KALAMIOTIS AND OTHERS v. GREECE'},\n",
       " {'id': '001-157967 - CASE OF LUNEV v. UKRAINE'},\n",
       " {'id': '001-158027 - CASE OF DİLEK ASLAN v. TURKEY'},\n",
       " {'id': '001-158215 - CASE OF KARAMBELAS v. GREECE'},\n",
       " {'id': '001-157761 - CASE OF MICLEA v. ROMANIA'},\n",
       " {'id': '001-157539 - CASE OF SERGEY DENISOV v. RUSSIA'},\n",
       " {'id': '001-157530 - CASE OF LECOMTE v. GERMANY'},\n",
       " {'id': '001-157389 - CASE OF POEDE v. ROMANIA'},\n",
       " {'id': '001-157325 - CASE OF R.H. v. SWEDEN'},\n",
       " {'id': '001-156522 - CASE OF M. AND M. v. CROATIA'}]"
      ]
     },
     "execution_count": 39,
     "metadata": {},
     "output_type": "execute_result"
    }
   ],
   "source": [
    "results"
   ]
  },
  {
   "cell_type": "code",
   "execution_count": null,
   "metadata": {},
   "outputs": [],
   "source": []
  }
 ],
 "metadata": {
  "kernelspec": {
   "display_name": "Python 3",
   "language": "python",
   "name": "python3"
  },
  "language_info": {
   "codemirror_mode": {
    "name": "ipython",
    "version": 3
   },
   "file_extension": ".py",
   "mimetype": "text/x-python",
   "name": "python",
   "nbconvert_exporter": "python",
   "pygments_lexer": "ipython3",
   "version": "3.6.5"
  }
 },
 "nbformat": 4,
 "nbformat_minor": 2
}
