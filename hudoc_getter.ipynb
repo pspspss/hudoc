{
 "cells": [
  {
   "cell_type": "code",
   "execution_count": 132,
   "metadata": {},
   "outputs": [],
   "source": [
    "import json\n",
    "import requests\n",
    "from bs4 import BeautifulSoup\n",
    "\n",
    "import os"
   ]
  },
  {
   "cell_type": "code",
   "execution_count": 133,
   "metadata": {},
   "outputs": [],
   "source": [
    "def docx_html_url(_id): \n",
    "    return f'https://hudoc.echr.coe.int/app/conversion/docx/html/body?library=ECHR&id={_id}'"
   ]
  },
  {
   "cell_type": "code",
   "execution_count": 134,
   "metadata": {},
   "outputs": [],
   "source": [
    "def articles_url(_number, _violation, _result_count): \n",
    "    violation = 'nonviolation'\n",
    "    if(_violation): violation = violation[3:]\n",
    "        \n",
    "    return f'https://hudoc.echr.coe.int/app/query/results?query=contentsitename%3AECHR%20AND%20(NOT%20(doctype%3DPR%20OR%20doctype%3DHFCOMOLD%20OR%20doctype%3DHECOMOLD))%20AND%20((languageisocode%3D%22ENG%22))%20AND%20((documentcollectionid%3D%22GRANDCHAMBER%22)%20OR%20(documentcollectionid%3D%22CHAMBER%22))%20AND%20(({violation}%3D{_number}))&select=itemid,docname,&sort=&start=20&length={_result_count}&rankingModelId=11111111-0000-0000-0000-000000000000'"
   ]
  },
  {
   "cell_type": "code",
   "execution_count": 151,
   "metadata": {},
   "outputs": [],
   "source": [
    "def articles_json(_number, _violation):\n",
    "    results = []\n",
    "    violation = 'nv'\n",
    "    if(_violation): violation = violation[1:] \n",
    "        \n",
    "    json_data = requests.get(articles_url(_number, _violation, 1000)).json()\n",
    "\n",
    "        \n",
    "    for result in json_data['results']:\n",
    "        results.append({'id': result[\"columns\"][\"itemid\"], 'name': result[\"columns\"][\"docname\"], 'violation': violation})\n",
    "    \n",
    "    return results"
   ]
  },
  {
   "cell_type": "code",
   "execution_count": 152,
   "metadata": {},
   "outputs": [],
   "source": [
    "def article_get(_id):\n",
    "    url = docx_html_url(_id)\n",
    "    \n",
    "    r = requests.get(url).text\n",
    "    soup = BeautifulSoup(r, \"html5lib\")\n",
    "    \n",
    "    for script in soup([\"script\", \"style\"]):\n",
    "        script.extract()\n",
    "        \n",
    "    text = soup.get_text()\n",
    "    \n",
    "    lines = (line.strip() for line in text.splitlines())\n",
    "    chunks = (phrase.strip() for line in lines for phrase in line.split(\"  \"))\n",
    "    text = '\\n'.join(chunk for chunk in chunks if chunk)\n",
    "    text = text.replace('\\xa0', ' ')\n",
    "    \n",
    "    return text"
   ]
  },
  {
   "cell_type": "code",
   "execution_count": 153,
   "metadata": {},
   "outputs": [],
   "source": [
    "def articles_generator(_number, _violation):\n",
    "    violation = 'nonviolation'\n",
    "    if _violation: violation = violation[3:]\n",
    "        \n",
    "    path = f'hudoc/Article{_number}/{violation}'\n",
    "    \n",
    "    os.makedirs(path, exist_ok=True)\n",
    "    \n",
    "    for article in articles_json(_number, _violation):\n",
    "        f = open(f'{path}/{article[\"id\"]}.txt', 'w')\n",
    "        f.write(article_get(article[\"id\"]))"
   ]
  },
  {
   "cell_type": "code",
   "execution_count": null,
   "metadata": {},
   "outputs": [],
   "source": [
    "from multiprocessing.dummy import Pool as ThreadPool \n",
    "\n",
    "articles = [\n",
    "    ['3', True],\n",
    "    ['3', False],\n",
    "    ['6', True],\n",
    "    ['6', False],\n",
    "    ['8', True],\n",
    "    ['8', False]\n",
    "]\n",
    "    \n",
    "pool = ThreadPool(6) \n",
    "pool.starmap(articles_generator, zip(articles_num, articles_vio))"
   ]
  },
  {
   "cell_type": "code",
   "execution_count": null,
   "metadata": {},
   "outputs": [],
   "source": []
  }
 ],
 "metadata": {
  "kernelspec": {
   "display_name": "Python 3",
   "language": "python",
   "name": "python3"
  },
  "language_info": {
   "codemirror_mode": {
    "name": "ipython",
    "version": 3
   },
   "file_extension": ".py",
   "mimetype": "text/x-python",
   "name": "python",
   "nbconvert_exporter": "python",
   "pygments_lexer": "ipython3",
   "version": "3.6.5"
  }
 },
 "nbformat": 4,
 "nbformat_minor": 2
}
