{
 "cells": [
  {
   "cell_type": "code",
   "execution_count": 1,
   "metadata": {},
   "outputs": [],
   "source": [
    "import pandas as pd, numpy as np\n",
    "from sklearn.linear_model import LogisticRegression\n",
    "from sklearn.svm import LinearSVC\n",
    "from sklearn.feature_extraction.text import CountVectorizer, TfidfVectorizer\n",
    "from sklearn.utils import shuffle\n",
    "from sklearn.model_selection import train_test_split\n",
    "from utils.nbsvm import NBSVM\n",
    "from sklearn.model_selection import cross_val_score"
   ]
  },
  {
   "cell_type": "code",
   "execution_count": 33,
   "metadata": {},
   "outputs": [],
   "source": [
    "path = 'hudoc/Article6'"
   ]
  },
  {
   "cell_type": "code",
   "execution_count": 34,
   "metadata": {},
   "outputs": [],
   "source": [
    "data = []\n",
    "\n",
    "folders = !ls {path}\n",
    "for idx, folder in enumerate(folders):\n",
    "    files = !ls {path}/{folder}\n",
    "    for file in files:\n",
    "        data.append({'id': file[:-4], 'text': open(f'{path}/{folder}/{file}').read(), 'label': idx})"
   ]
  },
  {
   "cell_type": "code",
   "execution_count": 35,
   "metadata": {},
   "outputs": [],
   "source": [
    "df = pd.DataFrame(data=data)"
   ]
  },
  {
   "cell_type": "code",
   "execution_count": 36,
   "metadata": {},
   "outputs": [],
   "source": [
    "df = shuffle(df)"
   ]
  },
  {
   "cell_type": "code",
   "execution_count": 37,
   "metadata": {},
   "outputs": [],
   "source": [
    "f = df['text'] != ''\n",
    "df = df[f]"
   ]
  },
  {
   "cell_type": "code",
   "execution_count": 38,
   "metadata": {},
   "outputs": [
    {
     "data": {
      "text/plain": [
       "'FIFTH SECTION      CASE OF ZINCHENKO v. UKRAINE (Application no. 63763/11)       JUDGMENT    STRASBOURG 13 March 2014  FINAL 13/06/2014 This judgment has become final under Article 44 § 2 of the Convention. It may be subject to editorial revision. In the case of Zinchenko v. Ukraine,The European Court of Human Rights (Fifth Section), sitting as a Chamber composed of:Mark Villiger, President,Angelika Nußberger,Boštjan M. Zupančič,Ganna Yudkivska,Vincent A. De Gaetano,André Potocki,Aleš Pejchal, judges,and Claudia Westerdiek, Section Registrar,Having deliberated in private on 18 February 2014,Delivers the following judgment, which was adopted on that date:PROCEDURE1.\\nThe case originated in an application (no. 2585/06, and subsequently no. 63763/11) against Ukraine lodged with the Court under Article 34 of the Convention for the Protection of Human Rights and Fundamental Freedoms (“the Convention”) by a Ukrainian national, Mr Bogdan Leonidovich Zinchenko (“the applicant”), on 30 December 2005.2.\\nThe applicant was represented by Mr V. Chernikov, succeeded by Mr Komarov, lawyers practising in Moscow. The Ukrainian Government (“the Government”) were represented by their Agent, Mr N. Kulchytskyy.3.\\nThe applicant alleged, in particular, that the physical conditions of his detention in the Odessa pre-trial detention facility (SIZO) had been intolerable, that he had had no effective remedies in respect of this complaint and that his right to a defence representative in the criminal proceedings had been breached.4.\\nOn 9 February 2012 the application was communicated to the Government.THE FACTSI.\\nTHE CIRCUMSTANCES OF THE CASEA.\\nCriminal proceedings against the applicant and his detention pending investigation and trial5.\\nThe applicant was born in 1983.6.\\nIn December 2002 the applicant was arrested on suspicion of having been involved in several violent crimes committed by the members of the Odessa Komsomol (Young Communists League) seeking to revive the communist State by violent means. The arrest report undersigned by the applicant is dated 20 December 2002.7.\\nOn the same date (20 December 2002) the applicant signed a document notifying him of his procedural rights as a suspect. His signature was preceded by the following statement, handwritten by him:“I have been informed of my right to defence as a suspect and I understand it. I wish to waive my right to use the services of a lawyer during my questioning as a suspect and to consult him/her before the first questioning as I consider that at the present time there is no need for this. Should such a need arise, I will use the services of a defence lawyer at a later time, when I consider fit”.8.\\nOn the same date the applicant was questioned as a suspect. Before the questioning, he signed a statement similar to the one cited above on the questioning report form. In the course of his questioning, the applicant acknowledged that he sympathised with communist views, knew personally some of the Komsomol members suspected by the authorities of having been involved in criminal activity and had discussed ideological issues with them on various occasions. However, he was neither engaged in any criminal activity, nor aware of any such activity by those individuals. Likewise, he did not support any violent methods of reviving a communist state in Ukraine.9.\\nOn 21 December 2002 the applicant had a confrontation with G., another individual arrested on suspicion of involvement with the same group. Before the confrontation, the applicant signed another waiver of his right to legal assistance by way of a handwritten statement similar to the one cited above, on the confrontation report form. During the confrontation, G. alleged that several members of the group, including the applicant and himself, had robbed the “F.” food shop in 2001 to raise money for the organisation. The applicant denied those allegations.10.\\nOn 28 December 2002 the applicant expressed the wish to be legally represented. On the same date Sh. was appointed as his legal-aid counsel.11.\\nOn the same date the applicant, in the presence of Sh., was indicted for membership of a criminal association that was planning a revolutionary war against the constitutional order, including by participating in two fund‑raising robberies for the benefit of that organisation. When questioned in the presence of Sh., the applicant reiterated his earlier submissions. At the end of the questioning, the applicant declared, in response to a question raised by Sh., that he had not been subjected to any ill-treatment by the investigative authorities. According to the applicant, he did not see Sh. either before or after this questioning.12.\\nOn 23 February 2003 the applicant was transported to the Odessa no. 21 pre-trial detention centre (“Odessa SIZO”), where he remained in detention until November 2005.13.\\nAccording to the applicant, he contracted pneumonia after being transported to the SIZO – a journey that took several hours – in an unheated vehicle and without any winter clothes. Upon his arrival in the SIZO, the applicant received very poor treatment for his pneumonia.14.\\nAccording to the Government, there was no record whatsoever that the applicant had pneumonia during his stay in the Odessa SIZO.15.\\nOn 14 March 2003 the applicant’s father, a geographer, was admitted in the criminal proceedings as the applicant’s lay defender in accordance with the applicant’s request. Some questioning and other investigative actions took place in March and April 2003 in the presence of the applicant’s father and without a lawyer. During those activities the applicant reiterated his previous position and denied having been involved in any criminal activity.16.\\nOn 17 April 2003 the applicant requested that his legal-aid lawyer, Sh., be replaced by lawyers R. and D.17.\\nOn 21 April 2003 R. and D. were admitted as the applicant’s lawyers. The parties did not inform the Court whether those lawyers were funded by the State or privately. Further pre-trial investigation activities involving the applicant took place in the presence of his legal counsel R. During these activities, the applicant reiterated his earlier position and denied all charges against him.18.\\nOn 27 May 2003 the pre-trial investigation was completed and the applicant, along with ten other individuals implicated in criminal activity as members of the Komsomol group, was committed to stand trial before the Odessa Regional Court of Appeal (“the Regional Court”), acting as a first‑instance tribunal. He was accused of belonging to a criminal association, two armed robberies and an act of terrorism (arson of a private vehicle).19.\\nBetween 27 May and 24 July 2003 the applicant studied the case file.20.\\nOn 17 June 2003 the applicant requested that R. and D. be replaced by M. as his new legal counsel, which request was granted. It is not clear from the case file whether M. was funded privately or by the State.21.\\nOn 24 July 2003 the applicant and his lawyer M. signed an affidavit that they had studied the case file in full and had no procedural requests at the material time. According to the check-out log signed by the applicant, he was studying one to three volumes of case-file materials per working day, and took thirty-one days in total to finish the forty-four volume case file.22.\\nOn 1 September 2003 the Regional Court held a preparatory hearing of the case at which three of the applicant’s co-defendants, R., S. and D., requested additional time to study the case file. Their requests were allowed.23.\\nOn 24 September 2003 the court held a further hearing, in the course of which the applicant requested additional time to study the case file. His request was rejected.24.\\nThroughout the trial, the applicant reiterated his earlier position and denied any involvement in criminal activity. He further alleged that he had in fact been arrested on 19 December 2002 and subjected to ill-treatment to break his moral resistance. His co-defendants who were testifying against him had also been ill-treated and coerced to do so by the investigative authorities.25.\\nIn November 2003 B., one of the applicant’s co-defendants, died in detention and the remaining defendants alleged that his death had resulted from torture.26.\\nFollowing a court order to investigate the circumstances of B.’s death, the prosecutor’s office reported that there was no torture case to answer, as B. had died of cancer.27.\\nAccording to the applicant, he often felt exhausted during the hearings because of the poor conditions of detention and transportation to the court premises and the lack of catering arrangements. In particular, during his stay in the SIZO, he was frequently moved from cell to cell and often arbitrarily placed in the quarantine block with new arrivals who were subjected to monitoring for contagious diseases. The applicant and his co‑detainees were not allowed to leave the cells except for a one-hour walk per day. The cells sometimes housed twenty or more inmates per ten-bed cell, so the detainees had to take turns to sleep. As a result, the applicant’s mental alertness during trial was impeded by sleep deprivation. Furthermore, on court days the applicant was often taken out of his cell at about 6 a.m. and placed in a special transit box, which measured some 15‑20 square meters, had no windows and no heating, with twenty to thirty other inmates. He had to wait several hours in those conditions for a prison van to come. Following his return from the court, he again had to wait for several hours in the same box before being escorted to his regular cell. As a result, he missed meal times and was often left hungry. The so-called “packed lunches” provided to the applicant on court days, consisted only of bread. Sometimes hot meals were made available in the court building, but their supply was irregular. In addition, the applicant received no medical assistance in SIZO for his vegetative-vascular dystonia and mitral valve prolapse (a chronic heart dysfunction).28.\\nAccording to the Government, the conditions of the applicant’s detention were satisfactory. The cells, in which the applicant was held in the Odessa SIZO, measured between 7.6 and 8.5 square meters and accommodated four inmates, each of whom had an individual sleeping bunk. Each cell also had windows, sanitary facilities, running water, electric lighting and heating. Pursuant to the relevant regulations, detainees enjoyed daily one-hour walks in the courtyard and weekly access to the shower facility. The applicant’s transportation on court days was organised without prohibitive delays and, pursuant to the applicable legal regulations, the SIZO administration always arranged for him to have three meals a day. Pursuant to an order of the SIZO governor of 11 August 2003, during his trial the applicant had received hot lunches organised on the court premises by officer K. during the weeks in which more than three hearing days were planned. When the court weeks were shorter, they received packed lunches. Other meals were served to the applicant in the SIZO. The applicant’s health, including his vascular and heart conditions, was duly and regularly monitored by the SIZO medical professionals and remained stable throughout his detention. On two occasions (12 March and 2 August 2004), the applicant was also examined by a cardiologist from the Odessa Regional Hospital, who prescribed him outpatient supportive treatment followed through in the SIZO. In addition, on several occasions the applicant was also seen by civilian medical specialists, including an otolaryngologist, a neurologist, a surgeon, a urologist and an ophthalmologist, who concluded that he was in good health. In March 2004 the applicant was examined by several civilian medical professionals and declared to be in good health and fit to take part in the trial.29.\\nOn 10 November 2003 the Regional Court removed the applicant’s father from the proceedings as his lay defender on the basis that he had repeatedly breached procedural rules notwithstanding prior warnings. In particular, he had attempted to transfer to the applicant certain materials which, in the court’s view, could have prejudiced the establishment of the facts of the case.30.\\nOn 19 July 2004 the Regional Court found the applicant guilty of belonging to a criminal association, as a member of which he had taken part in two armed robberies. It also found him guilty of setting a private vehicle on fire, having re-qualified the relevant charge from “an act of terrorism” to “hooliganism”. The court dismissed the allegations that some of the defendants had been ill-treated by the investigative authorities as unsubstantiated. The applicant was convicted to twelve years’ imprisonment and a confiscation of his property.31.\\nThe applicant lodged a cassation appeal before the Supreme Court of Ukraine. According to an uncertified copy of his appeal in the case file, he alleged that he was innocent of any criminal wrongdoings and challenged the assessment of evidence, substantiating his allegations with numerous references to the relevant pages in the case-file materials. The applicant further argued that all the evidence collected during the pre-trial investigation should have been declared inadmissible as it had been obtained in breach of procedural guarantees. In particular, the applicant had been denied legal assistance following his arrest and had not been legally represented for most of the investigation. Furthermore, the authorities had tortured his co-defendants in order to force them to confess. He also alleged that his arrest, which had been effected off the record on 19 December 2002, was unlawful and that he had had very limited time and facilities to familiarise himself with the case file.32.\\nOn 28 and 29 September 2004 the applicant signed an affidavit that he had no claims against the Odessa SIZO administration and that he had not been subjected to any ill-treatment during his detention in the facility.33.\\nOn 26 July 2005 the Supreme Court held a hearing in the applicant’s case. The applicant, represented by K., a new lawyer, was present during this hearing and gave oral submissions in which he pleaded innocent. On the same day the Supreme Court delivered a judgment acquitting the applicant of having set a vehicle on fire for want of evidence of his participation in that crime. The court upheld the other convictions, having noted, in particular, that several eyewitnesses, including victims and some of the applicant’s co-defendants, when questioned in open court had testified that the applicant had participated in the robberies imputed to him. The Supreme Court rejected as unsubstantiated the allegations that the applicant’s co‑defendants had been ill-treated and the submissions concerning the breach of his right to mount defence and to study the case-file materials, and upheld the applicant’s sentence.34.\\nIn February 2009 the applicant’s lawyer, based in Moscow, Russia, asked the Regional Court to send him by post a number of documents from the applicant’s case file.35.\\nOn 25 June 2009 the court refused that request. It pointed out, in particular, that it had no facilities to prepare and send the copies and that the lawyer could study the case file on the court’s premises.B.\\nThe applicant’s post-conviction detention36.\\nIn November 2005 the applicant was transported to the Gubnyk colony to serve his sentence. According to him, the train carriages were poorly ventilated and overcrowded, and detainees were not allowed to use the toilets as and when required. On an unspecified date at the end of 2005 the applicant was further transferred to Vinnitsa prison no. 1, where he remained at least until December 2006. According to him, during the first month of his stay in the prison, he was arbitrarily held in the unit for prisoners serving life sentences.37.\\nFollowing his arrival, the applicant was examined by prison medical staff and found to be generally in good health.38.\\nIn 2006 the applicant received seven short-term visits from his parents (on 27 January, 29 March, 12 May, 19 June, 11 September, 6 November and 25 December) and had one telephone conversation with them (on 18 December).39.\\nAccording to the Government, on 15 December 2006 the applicant also had a visit from his parents that qualified as “extended” under the provisions of Articles 110 and 140 of the Code on the Enforcement of Sentences. The applicant alleged that the visit at issue did not qualify as “extended” because the above provisions envisaged the opportunity for detainees to share hostel facilities with the visitors for up to three days, whereas he had simply been allowed to communicate with his parents in one of the administrative offices for longer than usual and without the presence of a prison guard.40.\\nIn July 2006 the Committee for Protection of Political Prisoners, a Russian-based public-interest group, complained to the Ukrainian Ombudsman that the applicant had been arbitrarily deprived of extended visits from his family and restricted to sending one letter per month.41.\\nOn an unspecified date that complaint was transferred to the Vinnytsya Regional Prosecutor’s Office for investigation.42.\\nOn 26 September 2006 the prosecutor’s office informed the committee that in his explanations to the inquiry officer, the applicant himself had denied having any other claims against the prison administration. It further noted that, pursuant to the entry into force in 2004 of the legislative provision allowing high-security prison detainees to receive “extended” (co-habitation) family visits, the Vinnytsya prison was constructing a hostel facility on its grounds, which was expected to be completed soon. In the meantime, the applicant could facilitate contacts with his parents, for instance, by requesting additional short-term visits or telephone conversations.43.\\nAccording to the applicant, the hostel referred to by the prosecutor was not completed until the end of 2007.44.\\nIn April 2012 the applicant was transferred to the Kryzhopil correctional centre, which had a milder regime, to continue serving his sentence.II.\\nRELEVANT DOMESTIC LAW45.\\nThe relevant provisions of Articles 59 and 63 of the Constitution of Ukraine of 1996 concerning the right to legal assistance and the right not to incriminate oneself can be found in the case of Shabelnik v. Ukraine (no. 16404/03, § 25, judgment of 19 February 2009).46.\\nThe relevant provisions of the Code on the Enforcement of Sentences of 2003, as worded at the material time, read as follows:Article 110.\\nPrison visits by relatives, lawyers and other persons. Telephone conversations.“1.\\nConvicts shall have the right to visits as follows: short visits, lasting up to four hours; and extended visits, lasting up to three days. Short visits shall be allowed from relatives or other persons in the presence of a representative of the prison. Extended visits shall include the right of co-habitation and be allowed only with close relatives (spouse, parents, children, adopted parents and children, siblings, grandparents, grandchildren). ...5.\\nConvicts shall have the right to four telephone conversations per year lasting up to fifteen minutes each under the supervision of the administration. ...6.\\nConvicts may obtain, upon request, the replacement of extended visits with short visits, as well as extended or short visits with telephone conversations. ...”Article 140.\\nMaximum security prisons“...2.\\nConvicted persons detained in maximum security prisons shall have the right:...to receive short visits once a month and extended visits once every three months...”47.\\nThe relevant provisions of Order no. 192 of the State Department for the Enforcement of Sentences of 20 September 2000 “On the adoption of normative legal acts concerning the detention and conduct of persons held in custody and convicted persons in pre-trial detention facilities of the State Department of Ukraine for the Enforcement of Sentences” (repealed as of 18 March 2013), as worded at the material time, read as follows:1.3.\\nPrison population“...1.3.2. The number of detainees may not exceed the existing number of individual sleeping places, in accordance with the sanitary norms established by the applicable law.”8.2.\\nPrison catering“... Detainees shall be provided with three meals daily and shall take their meals, as a rule, in their cells. ...Catering for detainees during court visits shall be arranged by the administration of the pre-trial detention facility in accordance with the following rules:8.2.1. where the court proceedings last less than three days, lunch shall be replaced with a packed lunch.8.2.2. where the proceedings last more than three days without a break, three meals per day shall be provided, with lunch delivered to the court. Where there is a break exceeding one day in the court proceedings, the duration of the court proceedings shall be recalculated.”48.\\nOther relevant provisions of domestic law concerning pre-trial detention and provisions of the Code of Administrative Justice can be found in the Court’s judgment in the case of Tymoshenko v. Ukraine (no. 49872/11, §§ 179-81, 30 April 2013).III.\\nRELEVANT INTERNATIONAL MATERIAL49.\\nThe relevant extracts from the Report to the Ukrainian Government on the visit to Ukraine carried out by the European Committee for the Prevention of Torture and Inhuman or Degrading Treatment or Punishment (“the CPT”) from 9 to 21 October 2005 read as follows:“... The CPT also recommends that the Ukrainian authorities review as soon as possible the norms fixed by legislation for living space per prisoner, ensuring that these are at least 4 m² in all the establishments under the authority of the Department for the Enforcement of Sentences. ...”THE LAWI.\\nALLEGED VIOLATION OF ARTICLE 3 OF THE CONVENTION50.\\nThe applicant complained that the conditions of his detention in the Odessa SIZO, including the physical facilities, sanitary and other arrangements and medical assistance, were incompatible with Article 3 of the Convention, which reads as follows:“No one shall be subjected to torture or to inhuman or degrading treatment or punishment.”A.\\nAdmissibility1.\\nObjection concerning exhaustion of domestic remedies51.\\nThe Government alleged that this aspect of the case was inadmissible on the grounds of non-exhaustion of domestic remedies. In particular, the applicant should have raised the above complaints before the prosecutor’s office and the SIZO administration.52.\\nThe applicant alleged that the problems complained of were of a structural nature and the SIZO administration had been well aware of them. Given that he was a detainee, the remedies suggested by the Government were not only ineffective, but could also have resulted in reprisals.53.\\nThe Court notes that in a number of cases against Ukraine it has already dismissed the Government’s objections concerning the applicants’ failure to ventilate their complaints of poor physical conditions of detention or lack of medical assistance before the prosecutor’s office, considering that the problems complained of were of a structural nature (see, for example, Melnik v. Ukraine, no. 72286/01, §§ 69-71, 28 March 2006; Logvinenko v. Ukraine, no. 13448/08, §§ 57-58, 14 October 2010; Petukhov v. Ukraine, no. 43374/02, §§ 76-78, 21 October 2010 and Komarova v. Ukraine, no. 13371/06, § 50, 16 May 2013). As regards the Government’s argument that the applicant should also have ventilated them before the SIZO administration, the Court reiterates that in principle hierarchical complaints do not constitute an effective remedy for the purposes of Article 35 § 1 of the Convention (see as a recent authority Znaykin v. Ukraine, no. 37538/05, § 68, 7 October 2010). Furthermore, given the nature of the applicant’s complaints in the present case, the Court considers that they stemmed from administrative practices, and that the SIZO administration was well aware of the applicant’s situation. Regard being had to the structural nature of the problems giving rise to the applicant’s complaints, the Court finds no reason to depart from its earlier approach and dismisses the Government’s objection.2.\\nObjection concerning the well-foundedness of the complaint regarding lack of medical assistance54.\\nThe Government further alleged that the applicant’s complaint concerning the inadequate medical assistance available to him in the Odessa SIZO was manifestly ill-founded. In particular, the applicant’s allegations concerning poor treatment for pneumonia were wholly unsubstantiated, as there was no record whatsoever that the applicant had had pneumonia during his stay in the SIZO. Otherwise, the applicant’s health had been regularly monitored by the SIZO medical staff. On several occasions he had also been examined by outside consultants, including a cardiologist and a neurologist, who had assessed his heart and vascular conditions and had found them neither threatening nor deteriorating.55.\\nThe applicant contested those submissions. He maintained that the records provided by the Government were inaccurate and incomplete. In his view, the Government should have provided a full copy of his medical file, which should have followed him from one detention facility to another. Unless it had been tampered with, that file should have contained a record of his stay in the SIZO medical unit in February and March 2003 on account of his pneumonia. Furthermore, he had received no regular supervision of or treatment for his vascular dystonia and mitral valve prolapse. Two sporadic consultations with outside specialists over a detention period of almost three years were insufficient for tackling such serious conditions, for which he had been monitored since childhood. Moreover, the first such consultation had taken place more than a year after his placement in the SIZO and no electrocardiogram had been carried out.56.\\nThe Court reiterates that it is the duty of the State to provide detained persons with requisite medical assistance (see, for instance, Ukhan v. Ukraine, no. 30628/02, §§ 72-74, 18 December 2008, with further references). In determining whether the authorities have discharged their health-care obligations vis-à-vis a detainee in their charge, the Court’s task is to assess the quality of the medical services provided to the detainee in the light of his state of health and “the practical demands of imprisonment” and to determine whether, in the circumstances of a particular case, the health-care standard applied was compatible with the human dignity of the detainee (see Kaverzin v. Ukraine, no. 23893/03, § 138, 15 May 2012 with further references).57.\\nTurning to the facts of the present case, the Court notes that the applicant failed to provide any evidence that he had in fact suffered from pneumonia in February and March 2003. There is nothing in the case file to suggest that the applicant could not have access to the medical file, which, according to his own observations, should have contained the relevant record. Moreover, it appears from the case file that neither the applicant nor his father, admitted in the criminal proceedings as his representative in March 2003, ever complained to the SIZO administration or any other authority concerning the applicant’s pneumonia treatment. Without the benefit of any comments by the competent authorities concerning the applicant’s allegations of poor treatment and the medical evidence that he had pneumonia, the Court is unable to reach any conclusion as to the reliability of his contentions.58.\\nAs regards the applicant’s complaints concerning lack of supervision of and treatment for the applicant’s mitral valve prolapse and dystonia, the Court notes that on several occasions the applicant was examined by competent medical specialists and prescribed treatment. The applicant did not provide any evidence that his condition required any other specific medical treatment (see, by contrast, Logvinenko v. Ukraine, no. 13448/07, §§ 68-69, 14 October 2010, and Barilo v. Ukraine, no. 9607/06, §§ 69-71, 16 May 2013), that his medical condition deteriorated during his stay in the SIZO or that he was ever denied a particular medical service requested by him and necessitated by his state of health.59.\\nRegard being had to the materials on file, the Court considers that the applicant has failed to formulate an arguable claim that the medical assistance available to him in the Odessa SIZO was incompatible with his human dignity within the meaning of Article 3 of the Convention.3.\\nConclusion as to admissibility60.\\nIn the light of the above considerations, the Court considers that the applicant’s complaint concerning the physical conditions of his detention in the Odessa SIZO is not manifestly ill-founded and not inadmissible on any other ground. It should therefore be declared admissible.61.\\nThe applicant’s complaint concerning the quality of medical assistance in the Odessa SIZO is manifestly ill-founded and should be rejected as inadmissible under Article 35 §§ 3 (a) and 4 of the Convention.B.\\nMerits62.\\nThe applicant described the conditions of his detention in the Odessa SIZO (see paragraph 26 above) and alleged that they were incompatible with Article 3 of the Convention.63.\\nThe Government contested his factual allegations (see paragraph 29 above) and maintained that the conditions of the applicant’s detention, including the sanitary and other arrangements, had been satisfactory.64.\\nThe Court reiterates that Article 3 of the Convention requires the States to ensure that a person is detained in conditions which are compatible with respect for his human dignity and that the manner and method of the execution of the measure do not subject him to distress or hardship of an intensity exceeding the unavoidable level of suffering inherent in detention (see Visloguzov v. Ukraine, no. 32362/02, §§ 56 and 57, 20 May 2010, with further references).65.\\nThe Court notes that in the present case the applicant has provided few details concerning the size of the particular cells in which he stayed during specific periods of time, the number of inmates accommodated therein, or the sanitary and other arrangements in the SIZO. At the same time, the available materials indicate that during his stay in that facility, which lasted more than two and a half years, the applicant severely lacked personal space. In particular, as reported by the Government, the cells intended for four inmates measured between 7.6 and 8.5 square metres, allowing some two square meters of floor space per inmate. This space is far below the four square-metre minimum standard recommended per inmate by the CPT for multiple occupancy cells (see paragraph 49 above).66.\\nMoreover, given that the cells also contained sanitary facilities, furniture and fittings; this must have further reduced the floor area available to the applicant. The Court notes that based on the case-file materials concerning the SIZO regime, the applicant and his inmates had no freedom of movement and were confined to their cells for most of the day. In the light of its jurisprudence (see, among other authorities, Trepashkin v. Russia, no. 36898/03, § 92, 19 July 2007; Melnik v. Ukraine, cited above, § 103; and Iglin v. Ukraine, no. 39908/05, §§ 51-52, 12 January 2012), the Court finds that the lack of personal space afforded to the applicant in detention in and of itself raises an issue under Article 3 of the Convention. In view of these findings, it does not find it necessary to address the applicant’s complaints concerning the sanitary and other arrangements in the Odessa SIZO.67.\\nRegard being had to the above considerations, the Court considers that the conditions of the applicant’s detention in the Odessa SIZO were degrading.68.\\nThere has accordingly been a violation of Article 3 of the Convention.II.\\nALLEGED VIOLATION OF ARTICLE 6 OF THE CONVENTION69.\\nThe applicant next complained that his trial had been unfair, in particular, in view of the insufficient time that he had had to study the case‑file materials, the fact that had been mentally and physically exhausted during the hearings and because he had not been sufficiently represented. He relied upon Article 6 §§ 1 and 3 (b) and (c) of the Convention, which, insofar as relevant, read as follows:“1.\\nIn the determination of ... any criminal charge against him, everyone is entitled to a fair and public hearing within a reasonable time by an independent and impartial tribunal established by law. ...3.\\nEveryone charged with a criminal offence has the following minimum rights:...(b)\\nto have adequate time and facilities for the preparation of his defence;(c)\\nto defend himself in person or through legal assistance of his own choosing or, if he has not sufficient means to pay for legal assistance, to be given it free when the interests of justice so require; ...”70.\\nThe Court reiterates that the requirements of paragraph 3 of Article 6 of the Convention are to be seen as particular aspects of the right to a fair trial guaranteed by paragraph 1 of that Article and are thus to be examined together (see Van Geyseghem v. Belgium [GC], no. 26103/95, § 27, ECHR 1999‑I). The Court is called upon to examine whether the proceedings in their entirety were fair (see Balliu v. Albania, no. 74727/01, § 25, 16 June 2005).A.\\nAdmissibility1.\\nAllegations concerning insufficient time in which to study the case file71.\\nThe Government alleged that the applicant’s complaint that he had had insufficient time in which to study the case file was unsubstantiated.72.\\nThe applicant disagreed. He maintained that the time allotted to him for studying the case file before the trial had been grossly insufficient, in particular, as the file consisted of forty-four volumes of some 200 pages each. His request for additional time to study the case file had been rejected arbitrarily by the trial court. The applicant had also been unable to prepare his cassation proceedings properly. In particular, his request to listen to the audio recording of the trial had been refused.73.\\nThe Court reiterates that in accordance with Article 6 § 3 (b) the accused must have the opportunity to organise his defence in an appropriate way and without restriction on the ability to put all relevant defence arguments before the trial court and thus to influence the outcome of the proceedings (see for example Mayzit v. Russia, no. 63378/00, § 78, 20 January 2005). This obligation includes providing the accused with an opportunity to acquaint himself with the results of investigations carried out throughout the proceedings for the purpose of preparing his defence (see for example C.G.P. v. the Netherlands, (dec.), no. 29835/96, 15 January 1997; Foucher v. France, 18 March 1997, §§ 26-38, Reports 1997-II; and Iglin v. Ukraine, cited above, § 65). At the same time, the Contracting States enjoy considerable freedom in the choice of the appropriate means to ensure that their judicial systems comply with the requirements of the Convention. The Court’s task is not to substitute itself for the domestic authorities in managing their proceedings, but to consider whether the method chosen by them has led in a given case to results which are compatible with the Convention (see for established authority Hadjianastassiou v. Greece, 16 December 1992, § 33, Series A no. 252).74.\\nExamining the facts of the present case in light of the principles developed in its jurisprudence, the Court observes that according to the log and the affidavit signed by the applicant on 24 July 2003, he had finished studying the case file by that date after having studied it for thirty-one days. It also appears that the applicant, who was represented at the material time by M., his chosen lawyer, had ample opportunities to request further time – either before the commencement of the court proceedings or at the preparatory hearing. Similar requests by his co-defendants were granted during that time. It is further notable that neither in his application to the Regional Court, nor in his cassation appeal lodged with the Supreme Court, did the applicant indicate what materials in the case file, which concerned various episodes of criminal activity by eleven defendants, he had needed to review further and in which way his ability to defend himself was prejudiced by his inability to obtain additional time to review these materials in the original form. Likewise, in his submissions before the Court, the applicant did not expound on this issue and referred exclusively to the fact that the case file was comprised of many volumes. He also did not argue that the only way for him to obtain access to the necessary documents was by studying the original file. In these circumstances it is not for the Court to decide in abstracto how much time is necessary to study a case file of a given volume.75.\\nIn light of the above considerations and regard being had to the level of detail in the applicant’s submissions, the Court considers that they do not raise an arguable claim concerning a breach of the applicant’s right to have adequate time in which to prepare his defence.76.\\nThis part of the application is therefore to be rejected as manifestly ill-founded within the meaning of Article 35 §§ 3(a) and 4 of the Convention.2.\\nAllegations concerning mental and physical exhaustion during the trial proceedings77.\\nThe Government further argued that the applicant’s allegations concerning his mental and physical exhaustion during the trial proceedings in view of the conditions of his detention, transport and the related catering arrangements were also manifestly ill-founded. They referred to their account of events (see paragraph 28 above) and noted that there was no medical or other evidence indicating that the applicant had lacked the mental or physical capacity to participate in the trial. Moreover, the applicant had never complained of either poor catering or poor transportation arrangements in the domestic proceedings.78.\\nThe applicant disagreed. He referred to his account of events (see paragraph 26 above) and maintained that his ability to participate effectively in his trial had been severely impeded by the constant deprivation of sleep in overcrowded cells accommodating several detainees per sleeping bunk, long waiting periods before and after transportation to the court premises and a lack of catering arrangements on court days.79.\\nThe Court reiterates that the States’ duty under Article 6 § 3 (b) to ensure the accused’s right to mount a defence in criminal proceedings includes an obligation to organise the proceedings in such a way so as not to prejudice his power to concentrate and apply mental dexterity in defending his position (see Makhfi v. France, no. 59335/00, §§ 40-41, 19 October 2004). Where the defendants are detained, the conditions of their detention, transport, catering and other similar arrangements are the relevant factors to consider in this respect (see, for example, Barberà, Messegué and Jabardo v. Spain, 6 December 1988, §§ 71 and 89, Series A no. 146; Mayzit v. Russia, cited above, § 81; and Moiseyev v. Russia, no. 62936/00, § 222, 9 October 2008).80.\\nExamining the facts of the present case in light of its jurisprudence, the Court notes that there is no medical or other objective evidence in support of the applicant’s allegations concerning his exhausted state. On the contrary, according to the results of medical examinations performed during the period of the applicant’s trial, the applicant was found to be generally in good health (see paragraph 28 above). Insofar as the applicant alleged that he had been regularly deprived of sleep in overpopulated cells, as indicated in paragraph 65 above, he did not specify when and for how long he had been held in a cell (or cells) that were overpopulated. The Government, for their part, maintained that the cells had not been overpopulated. Furthermore, based on the available materials, the applicant did not raise in his cassation appeal any complaints concerning his mental or physical exhaustion during the trial. Overall, the Court finds that available materials are insufficient to draw a general conclusion concerning the applicant’s physical or mental exhaustion as well as his genuine effort to improve his situation during the proceedings.81.\\nThe Court reiterates that to raise an issue, a complaint concerning the incompatibility of detention conditions or other arrangements with the applicant’s ability to defend himself effectively in court, as any other Convention complaint, must be clearly formulated, substantiated with factual evidence as far as possible, and properly brought to the attention of the competent domestic authorities before having been raised in Convention proceedings (see Mayzit v. Russia, cited above, § 82). Regard being had to the Court’s subsidiary role, it cannot act as a first-instance tribunal in establishing the relevant facts (see Vasiliy Ivashchenko v. Ukraine, no. 760/03, § 88, 26 July 2012).82.\\nRegard being had to the materials on file and the above considerations, the Court finds that the applicant’s submissions are neither sufficiently detailed nor supported by the necessary factual evidence, including the findings of the authorities involved, to give rise to an arguable issue under Article 6.83.\\nIt follows that this aspect of the case should be rejected as manifestly ill-founded in accordance with Article 35 §§ 3 (a) and 4 of the Convention.3.\\nAllegation concerning breach of the right to a defence representative84.\\nThe Government did not raise any objections concerning the admissibility of this complaint.85.\\nThe Court considers that this complaint is not manifestly ill-founded and not inadmissible on any other ground. It must therefore be declared admissible.B.\\nMerits1.\\nSubmissions by the parties86.\\nThe applicant alleged that his right to legal assistance had been breached in the criminal proceedings against him. Firstly, he had not been afforded access to a lawyer from the date of his arrest until his indictment on 28 December 2002. Having been arrested off the record on 19 December 2002, the applicant had been ill-treated and pressured to collaborate with the investigation. As a result, after the arrest report had been drawn up on 20 December 2002, he had agreed to sign a waiver of his right to a lawyer, which had not been genuine. Secondly, at the material time the applicant had had no funds to hire a private lawyer, and the legal-aid lawyer, Sh., appointed to him on 28 December 2002, who had been present during only one questioning session, had not provided him with the requisite assistance. Thirdly, the investigative authorities had failed to inform the applicant that the appointment of a lay defender had not extinguished his right to legal counsel. As a result, for a certain period of time during the pre-trial investigation (in March and April 2003) the applicant had been represented only by a lay defender (his father). Finally, the trial court had arbitrarily removed the applicant’s father from the position of his lay defender.87.\\nThe Government contested those allegations. They noted that on 20 December 2002 the applicant had signed several documents apprising him of his defence rights and had provided extensive handwritten explanations as to why he had chosen to waive his right to legal representation. As soon as the applicant had requested a lawyer, he had been appointed one. This lawyer had subsequently been replaced with lawyers of the applicant’s choice, when he had so wished. While the applicant’s father had been appointed as his lay defender on 14 March 2003, the applicant had not requested Sh. to step down until 17 April 2003, on which date he had asked for her to be replaced by two other lawyers. This request had been allowed on 21 April 2003. So, de jure, the applicant had been represented by a lawyer and his father most of the time. In so far as the applicant had not insisted that both his father and his lawyer be present during some of the investigative actions, it had been his procedural choice, for which the State authorities could not be held responsible. Eventually, three lawyers had been admitted in the proceedings at the applicant’s request and they had provided him with the requisite legal assistance during the investigation. During his trial and in the cassation proceedings the applicant had again been represented by lawyers of his choice, who had actively defended his interests. Lastly, concerning the removal of the applicant’s father from the proceedings, he was not a lawyer. His participation in the proceedings did not therefore fall within the ambit of Article 6 § 3 (c) of the Convention. In any event, the applicant’s father had been removed on account of having repeatedly abused his procedural rights, so his removal had been in the interests of justice.2.\\nThe Court’s assessment88.\\nThe Court reiterates that although not absolute, the right of everyone charged with a criminal offence to be effectively defended by a lawyer, assigned officially if need be, is one of the fundamental features of a fair trial (see Krombach v. France, no. 29731/96, § 89, ECHR 2001‑II). As a rule, access to a lawyer should be provided from the first questioning of a suspect by the investigative authority, unless it can be demonstrated in the light of the particular circumstances of each case that there were compelling reasons to restrict this right (see Salduz v. Turkey [GC], no. 36391/02, § 55, 27 November 2008). The very fact of unjustified restriction of access of a detained suspect to a lawyer may prejudice the rights of the defence even where no incriminating statements were obtained as a result (see Dayanan v. Turkey, no. 7377/03, §§ 32-33, 13 October 2009). At the same time, neither the letter nor the spirit of Article 6 of the Convention prevents a person from waiving of his own free will, either expressly or tacitly, the entitlement to the guarantees of a fair trial, as long as a waiver of the right is given in an unequivocal manner and was attended by minimum safeguards commensurate to its importance (see Salduz v. Turkey, cited above, § 59 and Paskal v. Ukraine, no. 24652/04, § 76, 15 September 2011).89.\\nTurning to the facts of the present case, the Court notes, firstly, that, insofar as the applicant’s complaint concerns restriction of his right of access to a lawyer following his arrest and until his indictment on 28 December 2002, there is no evidence in support of his submissions that he was arrested and questioned on 19 December 2002 or that he lodged any relevant complaints at the material time. The Court can therefore not examine the relevant allegations. It appears from the available materials that after his arrest on 20 December 2002 and before the appointment of Sh. as his legal-aid lawyer, the applicant was questioned twice. Before each of these questionings, the applicant signed documents containing very detailed descriptions of his procedural rights and provided reasoned handwritten explanations as to why he chose to waive his right to a lawyer (see paragraphs 7-9 above). There is no medical or other evidence that the applicant had signed those waivers under pressure or as a result of ill‑treatment. Moreover, based on the case-file documents, on 28 December 2002 the applicant explicitly denied any ill-treatment allegations during his questioning in the presence of his legal-aid lawyer, Sh. He also did not pursue any ill-treatment complaints before the prosecutorial authorities at a later date and did not raise any relevant complaint in his cassation appeal. Furthermore, the applicant did not give any self-incriminating statements in the course of the questionings at issue. On the contrary, he consistently denied all the charges against him, as he also did during the subsequent proceedings. In light of all the above, the Court has no basis on which to conclude that in waiving his right to legal representation between 20 and 28 December 2002 the applicant was misled, coerced or that he did not understand the consequences of his actions. The Court therefore finds that there was no undue restriction of the applicant’s right to legal representation in respect of the period in question.90.\\nAs regards the applicant’s complaint concerning the poor performance of his legal-aid lawyer, Sh., the Court reiterates that the mere nomination of legal-aid counsel does not in itself necessarily settle the issue of compliance with the requirements of Article 6 § 3 (c), as a lawyer appointed for legal-aid purposes may be prevented from performing or may shirk his or her duties (see Iglin, cited above, § 67). The competent national authorities may be required under Article 6 § 3 (c) to intervene if a failure by legal-aid counsel to provide effective representation is manifest or sufficiently brought to their attention in some other way (see Kamasinski v\\nAustria, 19 December 1989, § 65, Series A no. 168; Daud v. Portugal, 21 April 1998, § 38, Reports 1998-II; and Iglin, ibid.). In other situations, in view of the independence of the legal profession from the State, the conduct of the defence is essentially a matter between the defendant and his counsel, whether that counsel be appointed under a legal-aid scheme or be privately financed (see Cuscani v. the United Kingdom, no. 32771/96, § 39, 24 September 2002, and Iglin, ibid.).91.\\nIn the present case, the applicant agreed to Sh.’s appointment in December 2002 and asked her to step down on 17 April 2003, following which request on 21 April 2003 lawyers R. and D. were admitted in the proceedings. The applicant did not show that he had had no funds to engage a private lawyer, that he had been unable to request Sh.’s replacement at an earlier date or that he had ever attempted to complain to the authorities concerning her performance during the period of her appointment. In the light of the above, the Court finds that any shortcomings in the applicant’s legal representation by Sh. cannot be imputed to the State.92.\\nInsofar as the applicant alleged that his right to legal assistance had been breached because he had been represented only by his father (who was not a lawyer) during some investigative activities in March and April 2003, the Court notes that de jure the applicant’s father’s appointment on 14 March 2003 was complementary to that of his lawyer Sh., subsequently replaced by lawyers, D., R. and M. following the applicant’s requests. Although de facto the applicant took part in several investigative actions in March and April 2003 represented only by his father, there is no evidence that he was coerced or misled into accepting this situation or that he had no opportunity to refuse to take part in those activities in absence of a lawyer. In the light of these considerations, the Court has no basis on which to conclude that the applicant’s right to have a legal representative was unduly restricted in this respect.93.\\nAs regards the trial court’s decision to remove the applicant’s father from the proceedings, the Court notes that the possibility to be represented by relatives provided for by the domestic law is complementary to the right to have a lawyer and as such does not attract the protection of Article 6 § 3 (c) of the Convention concerning right to legal assistance (see Shabelnik v. Ukraine, no. 16404/03, § 39, 19 February 2009). Viewing the present complaint in the context of the more general right to mount one’s defence, the Court reiterates that when appointing defence counsel, the national courts must have regard to the defendant’s wishes. However, they can override those wishes when there are relevant and sufficient grounds for holding that this is necessary in the interests of justice (see Croissant v. Germany, judgment of 25 September 1992, Series A no. 237-B, § 29, and Mayzit, cited above, § 66). The applicant’s father was removed from the proceedings on the grounds that he had abused his procedural rights notwithstanding a prior warning (see paragraph 29 above). His participation in the proceedings was complementary to that of the applicant’s legal counsel, M. The Court therefore considers that the removal of the applicant’s father from the proceedings did not constitute a disproportionate restriction of the applicant’s right to defence or undermine the essence of his right to a fair trial.94.\\nRegard being had to all the above considerations, it follows that the applicant’s right to legal representation was not breached within the meaning of Article 6 § 1 and 3 (c) of the Convention.95.\\nThere was therefore no breach of Article 6 § 1 and 3 (c) of the Convention.III.\\nALLEGED VIOLATION OF ARTICLE 8 OF THE CONVENTION IN RESPECT OF PARENTAL VISITS96.\\nThe applicant complained that throughout 2006 he had been unable to receive extended visits from his parents while in prison. He referred to Article 8 of the Convention in this respect, which reads as follows:“1.\\nEveryone has the right to respect for his private and family life, his home and his correspondence.2.\\nThere shall be no interference by a public authority with the exercise of this right except such as is in accordance with the law and is necessary in a democratic society in the interests of national security, public safety or the economic well-being of the country, for the prevention of disorder or crime, for the protection of health or morals, or for the protection of the rights and freedoms of others.”97.\\nThe Government maintained that the applicant had had an extended visit from his parents on 15 December 2006. In any case, he had not lodged any relevant complaints with competent domestic authorities. Should he have considered that his visiting rights had been breached, he could have instituted proceedings before the administrative courts.98.\\nThe applicant disagreed. He pointed out that on 15 December 2006 he had been allowed to spend considerable time with his parents without having been supervised by the guard, however, he had been denied an opportunity to spend three days co-habiting with them, which was implicit in the concept of an “extended visit” within the meaning of applicable legal provisions. The Committee for the Protection of Political Prisoners had lodged a complaint on his behalf, which had been rejected by the prosecutor’s office with reference to a delay in the construction of a prison hostel facility. There was no measure an administrative court could order to tackle that structural problem and restore the applicant’s rights. On the contrary, the lodging of a complaint could have turned the prison administration against the applicant, whose position as a detainee was very vulnerable.99.\\nThe Court reiterates that detention or any other measure depriving a person of his liberty entails inherent limitations on his private and family life. However, it is an essential part of a detainee’s right to respect for family life that the authorities enable him or, if need be, assist him, in maintaining contact with his close family (see Moiseyev, cited above, § 246 and Trosin v. Ukraine, no. 39758/05, § 39, 23 February 2012). At the same time, the Contracting States enjoy a wide margin of appreciation in determining the steps to be taken to ensure compliance with that Convention obligation with due regard to the needs and resources of the community and of individuals (see e.g. Dickson v. the United Kingdom [GC], no. 44362/04, § 81, ECHR 2007‑V). The Court has found that Article 8 does not impose a duty to arrange co-habitation visits for the detainees and their spouses (see e.g. Aliev v. Ukraine, no. 41220/98, § 188, 29 April 2003; Dickson v. the United Kingdom cited above and Epners-Gefners v. Latvia, no. 37862/02, § 62, 29 May 2012). It has also found no interference by the State with detainees’ Article 8 rights in situations where they failed to provide sufficient evidence that they had solicited family visits which they claimed they had not received (see Čistiakov v. Latvia, no. 67275/01, § 86, 8 February 2007; Savenkovas v. Lithuania, no. 871/02, § 101, 18 November 2008; and Epners-Gefners, cited above, § 65).100.\\nTurning to the facts of the present case, the Court finds that in order to bring the applicant’s complaint within the ambit of Article 8, he should have provided evidence that he and his parents sought to have the visits they claimed they had not received (see, by contrast, Varnas v. Lithuania, no. 42615/06, § 110, 9 July 2013). In the meantime, as follows from the materials on file, in 2006 the applicant, who received seven short visits and had one telephone conversation with his father, did not use up the short-visit and telephone conversation quotas established by the applicable law (see paragraph 46 above). It further appears that in December 2006, despite the absence of hostel facilities, the prison administration made a certain concession and allowed the applicant to have an unsupervised visit which lasted more than four hours. Neither the applicant, nor his parents lodged any complaints concerning having been restricted in their visiting rights. When the prosecutor’s office started investigating the applicant’s situation following a complaint lodged by the Committee for the Protection of Political Prisoners on his behalf, the applicant refused to pursue any claims against the prison administration (see paragraph 42 above). There is no evidence on file that pursuing such a complaint would have put the applicant at imminent risk of sanctions.101.\\nRegard being had to the materials in its possession, the Court has no basis on which to conclude that the prison administration interfered with the applicant’s and his parents’ efforts to stay in closer touch with each other in 2006. It follows that the applicant has not made out an arguable claim of interference with his rights guaranteed by Article 8 of the Convention in this respect.102.\\nIn these circumstances the Court finds that it is not necessary to examine the Government’s argument concerning non-exhaustion of domestic remedies and rejects this part of the application as manifestly ill‑founded in accordance with Article 35 §§ 3 (a) and 4 of the Convention.IV.\\nALLEGED VIOLATION OF ARTICLE 13 OF THE CONVENTION103.\\nThe applicant alleged that he did not have at his disposal an effective domestic remedy for his complaints under Article 3 concerning the conditions of his detention and the inadequate medical assistance in the Odessa SIZO, as required by Article 13 of the Convention. This provision reads as follows:“Everyone whose rights and freedoms as set forth in [the] Convention are violated shall have an effective remedy before a national authority notwithstanding that the violation has been committed by persons acting in an official capacity.”A.\\nAdmissibility104.\\nThe Government referred to their arguments concerning non-exhaustion of domestic remedies, summarised in paragraph 51 above, and contended that the applicant should have complained about his grievances to the prosecutor’s office.105.\\nThe applicant insisted that this remedy was ineffective and would have put him at risk of reprisals.106.\\nThe Court refers to its findings in paragraphs 60-61 above and observes that the applicant has made out an arguable claim under Article 3 only in so far as his allegations concerned the physical conditions of his detention, in particular, the lack of personal space in the Odessa SIZO. It finds, therefore, that his complaint under Article 13 of a lack of effective remedies for the above complaint must be declared admissible.107.\\nAs regards the remainder of the claim, it must be dismissed as manifestly ill-founded in accordance with Article 35 §§ 3 (a) and 4 of the Convention.B.\\nMerits108.\\nThe Court points out that Article 13 of the Convention guarantees the availability at national level of a remedy to enforce the substance of Convention rights and freedoms in whatever form they might happen to be secured in the domestic legal order. With reference to its earlier case-law (see, among other authorities, Melnik, cited above, §§ 113-16, and Ukhan, cited above, §§ 91-92) and the circumstances of the present case, the Court finds that the Government have not proved that the applicant had in practice an opportunity to obtain effective remedies for his complaints, that is to say, remedies which could have prevented the violations from occurring or continuing, or could have afforded the applicant any other appropriate redress.109.\\nThe Court concludes, therefore, that there has been a violation of Article 13 of the Convention on account of the lack of an effective and accessible remedy under domestic law for the applicant’s complaints in respect of the physical conditions of his detention in the Odessa SIZO, in particular, the lack of personal space.V.\\nOTHER ALLEGED VIOLATIONS OF THE CONVENTION110.\\nThe Court notes that on various dates the applicant lodged a number of other complaints under Articles 2, 3, 5, 6, 8, 9, 10, 13, 14 and 34 of the Convention with respect to the facts of the present case.111.\\nHaving considered these complaints in the light of all the material in its possession, the Court finds that, in so far as the matters complained of are within its competence, they do not disclose any appearance of a violation of the rights and freedoms set out in the Convention.112.\\nIt follows that this part of the application must be declared inadmissible as being manifestly ill-founded, pursuant to Article 35 §§ 3 (a) and 4 of the Convention.VI.\\nAPPLICATION OF ARTICLE 41 OF THE CONVENTION113.\\nArticle 41 of the Convention provides:“If the Court finds that there has been a violation of the Convention or the Protocols thereto, and if the internal law of the High Contracting Party concerned allows only partial reparation to be made, the Court shall, if necessary, afford just satisfaction to the injured party.”A.\\nDamage114.\\nThe applicant claimed 20,000 euros (EUR) in respect of non‑pecuniary damage.115.\\nThe Government alleged that this claim was exorbitant and unsubstantiated.116.\\nThe Court has found breaches of the Convention on account of the conditions of the applicant’s detention in the Odessa SIZO and the lack of domestic remedies for the above complaint. Ruling on an equitable basis, the Court awards the applicant EUR 7,500 in respect of non-pecuniary damage.B.\\nCosts and expenses117.\\nThe applicant also claimed 4,045.60 Russian roubles (RUB) for postal expenses and RUB 33,000 in legal fees on his behalf and on behalf of his three co-defendants in the criminal proceedings (Messrs A. Yakovenko, I. Romanov and I. Danilov), who had also lodged applications with the Court and had initially been represented by Mr V. Chernikov and subsequently by Mr V. Komarov, lawyers practicing in Moscow. By way of justification of the postal expenses, the applicant presented postal receipts. One of these receipts indicated that the payment had been made by Mr G. Zhuravlev, several others that the payments had been made by Mr V. Komarov, and the remaining receipts did not indicate the payer.118.\\nBy way of justification of the legal fees, the applicant presented a copy of the first page of a contract for legal services of 20 January 2009 concluded between the lawyer Mr V. Komarov and an individual, Mrs G., for representation of the applicant and his co-defendants listed above in exchange for consideration of RUB 30,000, excluding expenses which were also to be paid by Mrs G. In addition, the applicant also maintained that RUB 3,000 had been paid to lawyer Mr G. Zhuravlev in connection with gathering evidence concerning Mr I. Danilov’s state of health.119.\\nThe Government submitted that they would leave it to the Court’s discretion to decide on the postal expenses. As regards legal fees, they challenged the validity of the contract concluded by Mrs G. on the applicant’s and his co-defendants’ behalf. In particular, they noted that only the first page of the contract, which contained no signatures, had been provided. Moreover, no power of attorney or any other document authorising Mrs G. to conclude a contract for the applicant’s or his co‑defendants’ legal representation had been submitted. They also noted that the relevant documents were insufficiently detailed and that in respect of the payment to Mr G. Zhuravlev, neither an invoice, nor any contract whatsoever had been provided.120.\\nThe Court observes that, based on the documents provided, it is not apparent that the applicant has borne any legal fees, postal or other expenses in connection with the present application or that he has an outstanding obligation in this regard to Mr Komarov, Mrs G. or any other individual or entity. It further notes that, according to its case-law, an applicant is entitled to the reimbursement of costs and expenses only in so far as it has been shown that these have been actually and necessarily incurred and are reasonable as to quantum. In the present case, regard being had to the documents in its possession and the above criteria, the Court is unable to determine the amount of fees and expenses paid or owed by the applicant. It therefore makes no award.C.\\nDefault interest121.\\nThe Court considers it appropriate that the default interest rate should be based on the marginal lending rate of the European Central Bank, to which should be added three percentage points.FOR THESE REASONS, THE COURT,UNANIMOUSLY,1.\\nDeclares the complaints concerning the physical conditions of detention in the Odessa SIZO, the breach of the right to legal representation and the lack of domestic remedies in respect of the complaint concerning the conditions of detention admissible and the remainder of the application inadmissible; 2.\\nHolds that there has been a violation of Article 3 of the Convention on account of the physical conditions of the applicant’s detention in the Odessa SIZO; 3.\\nHolds that there has been no violation of Article 6 of the Convention on account of the alleged breach of the applicant’s right to legal assistance; 4.\\nHolds that there has been a violation of Article 13 of the Convention; 5.\\nHolds(a)\\nthat the respondent State is to pay the applicant, within three months from the date on which the judgment becomes final in accordance with Article 44 § 2 of the Convention, EUR 7,500 (seven thousand five hundred euros), plus any tax that may be chargeable, in respect of non-pecuniary damage, to be converted into the currency of the respondent State at the rate applicable at the date of settlement;(b)\\nthat from the expiry of the above-mentioned three months until settlement simple interest shall be payable on the above amount at a rate equal to the marginal lending rate of the European Central Bank during the default period plus three percentage points; 6.\\nDismisses the remainder of the applicant’s claim for just satisfaction.Done in English, and notified in writing on 13 March 2014, pursuant to Rule 77 §§ 2 and 3 of the Rules of Court.              Claudia WesterdiekMark VilligerRegistrarPresident'"
      ]
     },
     "execution_count": 38,
     "metadata": {},
     "output_type": "execute_result"
    }
   ],
   "source": [
    "df['text'][0]"
   ]
  },
  {
   "cell_type": "code",
   "execution_count": 39,
   "metadata": {},
   "outputs": [
    {
     "data": {
      "text/plain": [
       "(62912.49842271293, 59626.027338846034, 439139)"
      ]
     },
     "execution_count": 39,
     "metadata": {},
     "output_type": "execute_result"
    }
   ],
   "source": [
    "lens = df.text.str.len()\n",
    "lens.mean(), lens.std(), lens.max()"
   ]
  },
  {
   "cell_type": "code",
   "execution_count": 40,
   "metadata": {},
   "outputs": [],
   "source": [
    "df.to_csv('Article3.csv')"
   ]
  },
  {
   "cell_type": "code",
   "execution_count": 41,
   "metadata": {},
   "outputs": [],
   "source": [
    "#df.read_csv('Article3.csv')"
   ]
  },
  {
   "cell_type": "code",
   "execution_count": 42,
   "metadata": {},
   "outputs": [
    {
     "data": {
      "text/plain": [
       "<matplotlib.axes._subplots.AxesSubplot at 0x7fc1691c3908>"
      ]
     },
     "execution_count": 42,
     "metadata": {},
     "output_type": "execute_result"
    },
    {
     "data": {
      "image/png": "[encoded data removed]",
      "text/plain": [
       "<Figure size 432x288 with 1 Axes>"
      ]
     },
     "metadata": {},
     "output_type": "display_data"
    }
   ],
   "source": [
    "lens.hist()"
   ]
  },
  {
   "cell_type": "code",
   "execution_count": 43,
   "metadata": {},
   "outputs": [
    {
     "data": {
      "text/html": [
       "<div>\n",
       "<style scoped>\n",
       "    .dataframe tbody tr th:only-of-type {\n",
       "        vertical-align: middle;\n",
       "    }\n",
       "\n",
       "    .dataframe tbody tr th {\n",
       "        vertical-align: top;\n",
       "    }\n",
       "\n",
       "    .dataframe thead th {\n",
       "        text-align: right;\n",
       "    }\n",
       "</style>\n",
       "<table border=\"1\" class=\"dataframe\">\n",
       "  <thead>\n",
       "    <tr style=\"text-align: right;\">\n",
       "      <th></th>\n",
       "      <th>id</th>\n",
       "      <th>label</th>\n",
       "      <th>text</th>\n",
       "    </tr>\n",
       "  </thead>\n",
       "  <tbody>\n",
       "    <tr>\n",
       "      <th>163</th>\n",
       "      <td>001-174953</td>\n",
       "      <td>0</td>\n",
       "      <td>FIFTH SECTION     CASE OF SADKOV v. UKRAINE (A...</td>\n",
       "    </tr>\n",
       "    <tr>\n",
       "      <th>144</th>\n",
       "      <td>001-171473</td>\n",
       "      <td>0</td>\n",
       "      <td>FIFTH SECTION     CASE OF ARTUR PARKHOMENKO v....</td>\n",
       "    </tr>\n",
       "    <tr>\n",
       "      <th>30</th>\n",
       "      <td>001-150298</td>\n",
       "      <td>0</td>\n",
       "      <td>FIRST SECTION        CASE OF DRAGOJEVIĆ v. CRO...</td>\n",
       "    </tr>\n",
       "    <tr>\n",
       "      <th>156</th>\n",
       "      <td>001-173463</td>\n",
       "      <td>0</td>\n",
       "      <td>THIRD SECTION         CASE OF MURTAZALIYEVA v....</td>\n",
       "    </tr>\n",
       "    <tr>\n",
       "      <th>257</th>\n",
       "      <td>001-166488</td>\n",
       "      <td>1</td>\n",
       "      <td>SECOND SECTION       CASE OF CINDRIĆ AND BEŠLI...</td>\n",
       "    </tr>\n",
       "  </tbody>\n",
       "</table>\n",
       "</div>"
      ],
      "text/plain": [
       "             id  label                                               text\n",
       "163  001-174953      0  FIFTH SECTION     CASE OF SADKOV v. UKRAINE (A...\n",
       "144  001-171473      0  FIFTH SECTION     CASE OF ARTUR PARKHOMENKO v....\n",
       "30   001-150298      0  FIRST SECTION        CASE OF DRAGOJEVIĆ v. CRO...\n",
       "156  001-173463      0  THIRD SECTION         CASE OF MURTAZALIYEVA v....\n",
       "257  001-166488      1  SECOND SECTION       CASE OF CINDRIĆ AND BEŠLI..."
      ]
     },
     "execution_count": 43,
     "metadata": {},
     "output_type": "execute_result"
    }
   ],
   "source": [
    "df.head()"
   ]
  },
  {
   "cell_type": "code",
   "execution_count": 44,
   "metadata": {},
   "outputs": [
    {
     "data": {
      "text/html": [
       "<div>\n",
       "<style scoped>\n",
       "    .dataframe tbody tr th:only-of-type {\n",
       "        vertical-align: middle;\n",
       "    }\n",
       "\n",
       "    .dataframe tbody tr th {\n",
       "        vertical-align: top;\n",
       "    }\n",
       "\n",
       "    .dataframe thead th {\n",
       "        text-align: right;\n",
       "    }\n",
       "</style>\n",
       "<table border=\"1\" class=\"dataframe\">\n",
       "  <thead>\n",
       "    <tr style=\"text-align: right;\">\n",
       "      <th></th>\n",
       "      <th>label</th>\n",
       "      <th>none</th>\n",
       "    </tr>\n",
       "  </thead>\n",
       "  <tbody>\n",
       "    <tr>\n",
       "      <th>count</th>\n",
       "      <td>317.000000</td>\n",
       "      <td>317.000000</td>\n",
       "    </tr>\n",
       "    <tr>\n",
       "      <th>mean</th>\n",
       "      <td>0.529968</td>\n",
       "      <td>0.470032</td>\n",
       "    </tr>\n",
       "    <tr>\n",
       "      <th>std</th>\n",
       "      <td>0.499890</td>\n",
       "      <td>0.499890</td>\n",
       "    </tr>\n",
       "    <tr>\n",
       "      <th>min</th>\n",
       "      <td>0.000000</td>\n",
       "      <td>0.000000</td>\n",
       "    </tr>\n",
       "    <tr>\n",
       "      <th>25%</th>\n",
       "      <td>0.000000</td>\n",
       "      <td>0.000000</td>\n",
       "    </tr>\n",
       "    <tr>\n",
       "      <th>50%</th>\n",
       "      <td>1.000000</td>\n",
       "      <td>0.000000</td>\n",
       "    </tr>\n",
       "    <tr>\n",
       "      <th>75%</th>\n",
       "      <td>1.000000</td>\n",
       "      <td>1.000000</td>\n",
       "    </tr>\n",
       "    <tr>\n",
       "      <th>max</th>\n",
       "      <td>1.000000</td>\n",
       "      <td>1.000000</td>\n",
       "    </tr>\n",
       "  </tbody>\n",
       "</table>\n",
       "</div>"
      ],
      "text/plain": [
       "            label        none\n",
       "count  317.000000  317.000000\n",
       "mean     0.529968    0.470032\n",
       "std      0.499890    0.499890\n",
       "min      0.000000    0.000000\n",
       "25%      0.000000    0.000000\n",
       "50%      1.000000    0.000000\n",
       "75%      1.000000    1.000000\n",
       "max      1.000000    1.000000"
      ]
     },
     "execution_count": 44,
     "metadata": {},
     "output_type": "execute_result"
    }
   ],
   "source": [
    "label_cols = ['label']\n",
    "df['none'] = 1-df[label_cols].max(axis=1)\n",
    "df.describe()"
   ]
  },
  {
   "cell_type": "code",
   "execution_count": 45,
   "metadata": {},
   "outputs": [],
   "source": [
    "import re, string\n",
    "re_tok = re.compile(f'([{string.punctuation}“”¨«»®´·º½¾¿¡§£₤‘’])')\n",
    "def tokenize(s): return re_tok.sub(r' \\1 ', s).split()"
   ]
  },
  {
   "cell_type": "code",
   "execution_count": 46,
   "metadata": {},
   "outputs": [],
   "source": [
    "train, test = train_test_split(df, test_size=0.2)"
   ]
  },
  {
   "cell_type": "code",
   "execution_count": 47,
   "metadata": {},
   "outputs": [],
   "source": [
    "n = train.shape[0]\n",
    "vec = TfidfVectorizer(ngram_range=(1,4), tokenizer=tokenize,\n",
    "               min_df=3, max_df=0.9, strip_accents='unicode', use_idf=1,\n",
    "               smooth_idf=1, sublinear_tf=1, max_features=100000 )\n",
    "trn_term_doc = vec.fit_transform(train['text'])\n",
    "test_term_doc = vec.transform(test['text'])"
   ]
  },
  {
   "cell_type": "code",
   "execution_count": 48,
   "metadata": {},
   "outputs": [
    {
     "data": {
      "text/plain": [
       "(<253x100000 sparse matrix of type '<class 'numpy.float64'>'\n",
       " \twith 2457755 stored elements in Compressed Sparse Row format>,\n",
       " <64x100000 sparse matrix of type '<class 'numpy.float64'>'\n",
       " \twith 570253 stored elements in Compressed Sparse Row format>)"
      ]
     },
     "execution_count": 48,
     "metadata": {},
     "output_type": "execute_result"
    }
   ],
   "source": [
    "trn_term_doc, test_term_doc"
   ]
  },
  {
   "cell_type": "code",
   "execution_count": 49,
   "metadata": {},
   "outputs": [],
   "source": [
    "def pr(y_i, y):\n",
    "    p = x[y==y_i].sum(0)\n",
    "    return (p+1) / ((y==y_i).sum()+1)"
   ]
  },
  {
   "cell_type": "code",
   "execution_count": 50,
   "metadata": {},
   "outputs": [],
   "source": [
    "x = trn_term_doc\n",
    "test_x = test_term_doc"
   ]
  },
  {
   "cell_type": "code",
   "execution_count": 51,
   "metadata": {},
   "outputs": [],
   "source": [
    "def get_mdl(y):\n",
    "    y = y.values\n",
    "    r = np.log(pr(1,y) / pr(0,y))\n",
    "    m = LogisticRegression(C=50, dual=True)\n",
    "    x_nb = x.multiply(r)\n",
    "    return m.fit(x_nb, y), r"
   ]
  },
  {
   "cell_type": "code",
   "execution_count": 52,
   "metadata": {},
   "outputs": [
    {
     "name": "stdout",
     "output_type": "stream",
     "text": [
      "fit label\n"
     ]
    }
   ],
   "source": [
    "preds = np.zeros((len(test), len(label_cols)))\n",
    "\n",
    "for i, j in enumerate(label_cols):\n",
    "    print('fit', j)\n",
    "    m,r = get_mdl(train[j])\n",
    "    preds[:,i] = m.predict_proba(test_x.multiply(r))[:,1]"
   ]
  },
  {
   "cell_type": "code",
   "execution_count": 53,
   "metadata": {},
   "outputs": [],
   "source": [
    "preds_y = (preds>0.5) * 1"
   ]
  },
  {
   "cell_type": "code",
   "execution_count": 54,
   "metadata": {},
   "outputs": [
    {
     "name": "stderr",
     "output_type": "stream",
     "text": [
      "/home/nti14147326/.local/lib/python3.6/site-packages/ipykernel_launcher.py:1: FutureWarning: Method .as_matrix will be removed in a future version. Use .values instead.\n",
      "  \"\"\"Entry point for launching an IPython kernel.\n"
     ]
    }
   ],
   "source": [
    "test_y = test['label'].as_matrix()"
   ]
  },
  {
   "cell_type": "code",
   "execution_count": 55,
   "metadata": {},
   "outputs": [
    {
     "data": {
      "text/plain": [
       "(64, 1)"
      ]
     },
     "execution_count": 55,
     "metadata": {},
     "output_type": "execute_result"
    }
   ],
   "source": [
    "preds_y.shape"
   ]
  },
  {
   "cell_type": "code",
   "execution_count": 56,
   "metadata": {},
   "outputs": [],
   "source": [
    "test_y = test_y.reshape(-1, 1)"
   ]
  },
  {
   "cell_type": "code",
   "execution_count": 57,
   "metadata": {},
   "outputs": [
    {
     "data": {
      "text/plain": [
       "array([0.71875])"
      ]
     },
     "execution_count": 57,
     "metadata": {},
     "output_type": "execute_result"
    }
   ],
   "source": [
    "sum((preds_y == test_y) * 1)/len(test_y)"
   ]
  },
  {
   "cell_type": "code",
   "execution_count": 58,
   "metadata": {},
   "outputs": [],
   "source": [
    "clf = NBSVM(C=1000, alpha=0.00001, beta=0.25)"
   ]
  },
  {
   "cell_type": "code",
   "execution_count": 59,
   "metadata": {},
   "outputs": [
    {
     "name": "stderr",
     "output_type": "stream",
     "text": [
      "/home/nti14147326/.local/lib/python3.6/site-packages/ipykernel_launcher.py:1: FutureWarning: Method .as_matrix will be removed in a future version. Use .values instead.\n",
      "  \"\"\"Entry point for launching an IPython kernel.\n"
     ]
    }
   ],
   "source": [
    "y_train = train['label'].as_matrix()"
   ]
  },
  {
   "cell_type": "code",
   "execution_count": 60,
   "metadata": {},
   "outputs": [],
   "source": [
    "X_train = trn_term_doc"
   ]
  },
  {
   "cell_type": "code",
   "execution_count": 62,
   "metadata": {},
   "outputs": [
    {
     "data": {
      "text/plain": [
       "<253x100000 sparse matrix of type '<class 'numpy.float64'>'\n",
       "\twith 2457755 stored elements in Compressed Sparse Row format>"
      ]
     },
     "execution_count": 62,
     "metadata": {},
     "output_type": "execute_result"
    }
   ],
   "source": [
    "X_train.reshape(253, -1)"
   ]
  },
  {
   "cell_type": "code",
   "execution_count": 63,
   "metadata": {},
   "outputs": [],
   "source": [
    "score = np.mean(cross_val_score(clf, X_train, y_train, cv=10))"
   ]
  },
  {
   "cell_type": "code",
   "execution_count": 64,
   "metadata": {},
   "outputs": [
    {
     "data": {
      "text/plain": [
       "0.759076923076923"
      ]
     },
     "execution_count": 64,
     "metadata": {},
     "output_type": "execute_result"
    }
   ],
   "source": [
    "score"
   ]
  },
  {
   "cell_type": "code",
   "execution_count": null,
   "metadata": {},
   "outputs": [],
   "source": []
  }
 ],
 "metadata": {
  "kernelspec": {
   "display_name": "Python 3",
   "language": "python",
   "name": "python3"
  },
  "language_info": {
   "codemirror_mode": {
    "name": "ipython",
    "version": 3
   },
   "file_extension": ".py",
   "mimetype": "text/x-python",
   "name": "python",
   "nbconvert_exporter": "python",
   "pygments_lexer": "ipython3",
   "version": "3.6.5"
  }
 },
 "nbformat": 4,
 "nbformat_minor": 2
}
