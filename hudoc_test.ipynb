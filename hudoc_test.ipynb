{
 "cells": [
  {
   "cell_type": "code",
   "execution_count": 1,
   "metadata": {},
   "outputs": [],
   "source": [
    "import pandas as pd, numpy as np\n",
    "from sklearn.linear_model import LogisticRegression\n",
    "from sklearn.svm import LinearSVC\n",
    "from sklearn.feature_extraction.text import CountVectorizer, TfidfVectorizer\n",
    "from sklearn.utils import shuffle\n",
    "from sklearn.model_selection import train_test_split\n",
    "from utils.nbsvm import NBSVM\n",
    "from sklearn.model_selection import cross_val_score"
   ]
  },
  {
   "cell_type": "code",
   "execution_count": 2,
   "metadata": {},
   "outputs": [],
   "source": [
    "path = 'hudoc/Article3'"
   ]
  },
  {
   "cell_type": "code",
   "execution_count": 3,
   "metadata": {},
   "outputs": [],
   "source": [
    "data = []\n",
    "\n",
    "folders = !ls {path}\n",
    "for idx, folder in enumerate(folders):\n",
    "    files = !ls {path}/{folder}\n",
    "    for file in files:\n",
    "        data.append({'id': file[:-4], 'text': open(f'{path}/{folder}/{file}').read(), 'label': idx})"
   ]
  },
  {
   "cell_type": "code",
   "execution_count": 4,
   "metadata": {},
   "outputs": [],
   "source": [
    "df = pd.DataFrame(data=data)"
   ]
  },
  {
   "cell_type": "code",
   "execution_count": 5,
   "metadata": {},
   "outputs": [],
   "source": [
    "df = shuffle(df)"
   ]
  },
  {
   "cell_type": "code",
   "execution_count": 6,
   "metadata": {},
   "outputs": [
    {
     "data": {
      "text/plain": [
       "\"FIRST SECTION      CASE OF BENUYEVA AND OTHERS v. RUSSIA (Application no. 8347/05)        JUDGMENT   STRASBOURG  22 July 2010 FINAL 22/11/2010 This judgment has become final under Article 44 § 2 of the Convention. It may be subject to editorial revision.In the case of Benuyeva and Others v. Russia,The European Court of Human Rights (First Section), sitting as a Chamber composed of:Christos Rozakis, President,Anatoly Kovler,Elisabeth Steiner,Dean Spielmann,Sverre Erik Jebens,Giorgio Malinverni,George Nicolaou, judges,and Søren Nielsen, Section Registrar,Having deliberated in private on 1 July 2010,Delivers the following judgment, which was adopted on that date:PROCEDURE1.\\nThe case originated in an application (no. 8347/05) against the Russian Federation lodged with the Court under Article 34 of the Convention for the Protection of Human Rights and Fundamental Freedoms (“the Convention”) by fifteen Russian nationals listed below (“the applicants”), on 25 February 2005.2.\\nThe applicants were represented by lawyers of the Stichting Russian Justice Initiative (“SRJI”), an NGO based in the Netherlands with a representative office in Moscow. The Russian Government (“the Government”) were represented by Ms V. Milinchuk, former Representative of the Russian Federation at the European Court of Human Rights, and subsequently by their Representative, Mr G. Matyushkin.3.\\nOn 1 September 2005 the Court decided to apply Rule 41 of the Rules of Court and to grant priority treatment to the application.4.\\nOn 7 January 2008 the Court decided to give notice of the application to the Government. It was also decided to examine the merits of the application at the same time as its admissibility (Article 29 § 1).5.\\nThe Government objected to the joint examination of the admissibility and merits of the application. Having considered the Government's objection, the Court dismissed it.THE FACTSI.\\nTHE CIRCUMSTANCES OF THE CASE6.\\nThe applicants are:1) Ms Zayra Benuyeva, born in 1951,2) Ms Kheda Benuyeva, born in 1985,3) Ms Razet Benuyeva, born in 1976,4) Ms Larisa Benuyeva, born in 1977,5) Ms Khava Benuyeva, born in 1994,6) Ms Rezida Benuyeva, born in 1982,7) Mr Saydmagomed Benuyev, born in 1986,8) Mr Zelimkhan Benuyev, born in 1989,9) Mr Magomed Zhanalayev, born in 1941,10) Ms Lula Zhanalayeva, born in 1951,11) Ms Billant Musayeva, born in 1975,12) Ms Kheda Zhanalayeva, born in 1979,13) Mr Denis Zhanalayev, born in 1971,14) Mr Ilyas Zhanalayev, born in 1983, and15) Mr Imam Zhanalayev, born in 1993.7.\\nThe applicants live in the Chechen Republic. The third applicant lives in the town of Urus-Martan. The twelfth applicant lives in the village of Grushevoye, the Urus-Martan District. The other applicants live in the village of Martan-Chu, the Urus-Martan District.8.\\nThe first applicant was married to Mr Mumad Benuyev, born in 1951. The couple were the parents of the second, third, fourth, fifth, sixth, seventh and eighth applicants, and of Mr Sayd-Selim Benuyev, born in 1982. Mumad Benuyev died in 2005.9.\\nThe ninth and tenth applicants are the parents of the eleventh, twelfth, thirteenth, fourteenth and fifteenth applicants, and of Mr Abu Zhanalayev, born in 1973.A.\\nAbduction of the applicants' relatives1.\\nThe applicants' account(a)\\nAbduction of Abu Zhanalayev10.\\nAbu Zhanalayev and his parents lived at 31 Pervomayskaya Street, in the village of Martan-Chu. Their house shared a courtyard with three other houses belonging to their relatives, including that of Mr Khasmagomed Dzhanalayev, Abu Zhanalayev's uncle.11.\\nIn the evening of 24 November 2002 around twelve armed men wearing masks entered Khasmagomed Dzhanalayev's house without identifying themselves and started searching it. They asked if someone named Ayup lived there; Khasmagomed Dzhanalayev replied in the negative.12.\\nIn the meantime, other armed men searched the houses of two other relatives of the Zhanalayevs. Abu Zhanalayev's house was not searched.13.\\nAt some point the armed men decided to leave Khasmagomed Dzhanalayev's house. In the courtyard they met Abu Zhanalayev and ordered him to produce his identity papers. Abu Zhanalayev asked his uncle to bring the papers. Khasmagomed Dzhanalayev went to the Zhanalayevs' house and told the tenth applicant about the armed men; then they took Abu's identity papers and rushed to the courtyard. They saw no trace of Abu Zhanalayev or the armed men and noticed a UAZ vehicle driving away from their courtyard.(b)\\nAbduction of Sayd-Selim Benuyev14.\\nIn the evening of 24 November 2002 Sayd-Selim Benuyev, his parents, siblings and other relatives were at their family home at 24 Pervomayskaya Street, in Martan-Chu. It appears that on that night there was a blackout in the village as the electricity had been cut off.15.\\nAt about 9 p.m. around twelve armed men wearing camouflage uniforms and armed with machine guns burst into the Benuyevs' house. All but four of them wore masks; those that were unmasked had Slavic features. The armed men spoke unaccented Russian. The Benuyev family inferred that the armed men belonged to the Russian military.16.\\nThe servicemen locked the first applicant in one of the rooms. Then they forced Mumad Benuyev to the floor and asked him where his sons were. Then they asked for Sayd-Selim Benuyev. When Sayd-Selim identified himself, the servicemen kicked and beat him and his father with machine gun butts until the two Benuyev men started to bleed. The servicemen also beat the second applicant.17.\\nAt some point the servicemen put a sack on Sayd-Selim Benuyev's head and took him barefoot into the street. The first applicant saw two UAZ vehicles parked near her house. The seventh applicant pointed at one of the UAZ vehicles with a flashlight and the first applicant noticed scratches on its right side; the vehicle had an aerial on its roof. The servicemen put Sayd‑Selim Benuyev into the UAZ with the aerial and drove off.(c)\\nSubsequent events18.\\nImmediately after Abu Zhanalayev's abduction the tenth applicant and Khasmagomed Dzhanalayev followed the UAZ vehicles. A few minutes later they met the first applicant and her brother-in-law.19.\\nThe relatives of the two abducted men chased the UAZ vehicles in a car. At some point Mr S., a serviceman of the military commander's office, managed to stop their car and told them not to follow the vehicles because they might be shot. Mr S. added that the UAZ vehicles belonged to the department of the interior of the Urus-Martan District (“the ROVD”).20.\\nLater, villagers of Martan-Chu saw red and a green flares in the sky. At about 10 p.m. some of them noticed two UAZ vehicles parked next to the military commander's office of Martan-Chu. Five or ten minutes later three military servicemen got out of the vehicles and entered the military commander's office, while a few men walked out of it and got into them. The two vehicles then drove away in the direction of Urus-Martan.21.\\nAt about 11 p.m. two servicemen, acquaintances of the applicants, saw two UAZ vehicles driving in the direction of Urus-Martan. At some point they contacted other servicemen on duty at several checkpoints via portable radio and found out that the two vehicles had arrived at the ROVD.2.\\nThe Government's account22.\\nOn 24 November 2002 Abu Zhanalayev and Sayd-Selim Benuyev were kidnapped from the village of Martan-Chu.B.\\nOfficial investigation into the disappearance of Abu Zhanalayev and Sayd-Selim Benuyev1.\\nThe applicants' account23.\\nAt about 11 p.m. on 24 November 2002 the first and tenth applicants went to the house of Mr M., the head of the ROVD. Mr M.'s bodyguards fired at the two women. They shouted and the firing ceased. Then the first and tenth applicants talked to Mr M. who told them not to worry and to go home.24.\\nOn 25 November 2002 the first and tenth applicants lodged written complaints about their relatives' abduction with the ROVD, the military commander's office of Urus-Martan, the prosecutor's office of the Urus‑Martan District (“the district prosecutor's office”) and the local administration.25.\\nAt about 11 a.m. on 26 November 2002 the first and tenth applicants saw two UAZ vehicles without registration numbers leaving the courtyard of the ROVD. They recognised the vehicles by their distinctive marks because one of them had a thick scratch and an aerial and the other one had white oil-cloth replacing broken windows.26.\\nOn 25 November 2002 the head of the ROVD told the applicants that he had contacted those who had abducted Abu Zhanalayev and Sayd‑Selim Benuyev and had asked them not to use force against the two men.27.\\nTrying to establish the fate and whereabouts of their missing sons, the first and tenth applicants repeatedly contacted, in person and in writing, various State agencies and officials requesting assistance in the search for Abu Zhanalayev and Sayd-Selim Benuyev. In particular, they applied to the Russian State Duma, the President of the Chechen Republic, the Administration of the Chechen Republic and the local administration. Most of those complaints were forwarded to prosecutors' offices at different levels.28.\\nOn 25 November 2002 the tenth applicant complained to the district prosecutor's office about her son's abduction. She mentioned the searches of her relatives' homes. On the same date the first applicant asked the district prosecutor's office to establish her son's whereabouts; she noted that her husband and daughter had been beaten.29.\\nOn 27 November 2002 the district prosecutor's office instituted an investigation into the disappearance of Abu Zhanalayev and Sayd-Selim Benuyev under Article 126 § 2 of the Russian Criminal Code (aggravated kidnapping). The case was assigned the number 61161.30.\\nOn 29 November 2002 the local administration of the Urus-Martan District informed the first applicant that her complaint about the beating of Mumad Benuyev and the second applicant, as well as about the arrest of Sayd-Selim Benuyev had been forwarded to the military commander's office.31.\\nOn 20 December 2002 the prosecutor's office of the Chechen Republic forwarded the tenth applicant's complaint about her son's abduction by State agents to the district prosecutor's office.32.\\nOn 25 January 2003 the district prosecutor's office granted victim status in case no. 61161 to Mumad Benuyev and Khasmagomed Dzhanalayev.33.\\nOn 27 January 2003 the district prosecutor's office informed Mumad Benuyev and Khasmagomed Dzhanalayev that the investigation in case no. 61161 had been suspended for failure to identify those responsible.34.\\nOn 7 April 2003 the first applicant complained to the prosecutor's office of the Chechen Republic that Russian servicemen had abducted her son and beaten her husband and daughter.35.\\nOn an unspecified date the tenth applicant asked the district prosecutor's office to resume the investigation into her son's kidnapping. On 11 April 2003 the request was declined for the reason that all possible investigative measures had been taken to solve the crime.36.\\nOn 12 May 2003 the prosecutor's office of the Chechen Republic forwarded the first applicant's complaint to the district prosecutor's office.37.\\nOn 14 and 16 May 2003 respectively, the district prosecutor's office informed the tenth and first applicants that the investigation in case no. 61161 had been resumed.38.\\nOn 30 May 2003 the military prosecutor's office of the United Group Alignment forwarded the first applicant's complaint to the military prosecutor's office of military unit no. 20102 (“the unit prosecutor's office”).39.\\nOn 6 June 2003 the district prosecutor's office informed the first applicant that on 19 May 2003 the investigation in case no. 61161 had been resumed. They also noted that they were verifying whether the vehicles belonging to the ROVD could have been used in the kidnapping.40.\\nOn 7 June 2003 the unit prosecutor's office forwarded the tenth applicant's complaint to the district prosecutor's office pursuant to jurisdiction rules.41.\\nOn 7 June 2003 the head of the Department of the Federal Security Service of the Chechen Republic (“the Chechen FSB”) informed the first and tenth applicants that required measures were being taken to establish their sons' whereabouts and that Abu Zhanalayev and Sayd-Selim Benuyev had not been arrested by the Chechen FSB because there had been no legal grounds for their arrest.42.\\nOn 10 June 2003 the prosecutor's office of the Chechen Republic informed the tenth applicant that the investigation in case no. 61161 had been suspended on 27 January 2003. They also noted that law-enforcement agencies would search for her son more vigorously.43.\\nOn 19 June 2003 the prosecutor's office of the Chechen Republic asked the district prosecutor's office for an update on progress in the investigation in case no. 61161.44.\\nOn 7 July 2003 the prosecutor's office of the Chechen Republic informed the first and tenth applicants that the decision on suspension of the investigation had been quashed on 19 May 2003 and that investigative measures were being taken to solve their sons' kidnapping.45.\\nOn 31 July 2003 the first and tenth applicants asked the district prosecutor's office to update them on the progress of the investigation.46.\\nOn 8 August 2003 the tenth applicant complained to the prosecutor's office of the Chechen Republic that the district prosecutor's office was taking no action.47.\\nOn 18 August 2003 the district prosecutor's office informed the applicants that the investigation in case no. 61161 had been suspended on 19 July 2003.48.\\nOn 25 August 2003 the prosecutor's office of the Chechen Republic informed the first and tenth applicants that the decision on suspension of the investigation in case no. 61161 had been quashed on 20 August 2003 and that investigative measures were being taken to solve the crime.49.\\nOn 4 September 2003 the first applicant complained to the district prosecutor's office about her son's abduction by Russian servicemen and asked them to take certain investigative measures in order to establish his whereabouts.50.\\nOn 8 September 2003 the district prosecutor's office informed the first applicant that the investigation in case no. 61161 had been resumed on 20 August 2003 and was under way.51.\\nOn 30 December 2003 the SRJI asked, on behalf of the applicants, the district prosecutor's office to take certain measures in order to establish the whereabouts of Abu Zhanalayev and Sayd-Selim Benuyev.52.\\nOn 27 and 30 April 2004 respectively, the district prosecutor's office informed the tenth and first applicants that the investigation in case no. 61161 had been suspended on 20 September 2003 for failure to identify those responsible.53.\\nOn 23 June 2004 the first and tenth applicants asked the district prosecutor's office to allow them access to the investigation file.54.\\nOn 26 October 2004 an investigator of the district prosecutor's office told the first and tenth applicants that there was no need to search for Abu Zhanalayev and Sayd-Selim Benuyev as they were most probably dead.55.\\nOn 19 December 2005 the first and tenth applicants complained about their sons' abduction and the suspension of the criminal investigation to the military commander of the Urus-Martan District.56.\\nOn 24 January 2007 the first and tenth applicants asked the district prosecutor's office to update them on the progress of the investigation in case no. 61161 and to resume it if it had been suspended.57.\\nOn 31 January 2007 the district prosecutor's office informed the first and tenth applicants that the investigation had been suspended on 20 September 2003 but that investigative measures were being taken to find their sons and the perpetrators despite the suspension.2.\\nThe Government's account58.\\nOn 27 November 2002 the district prosecutor's office instituted an investigation into the kidnapping of Abu Zhanalayev and Sayd-Selim Benuyev in case no. 61161 on the basis of complaints lodged by the first and tenth applicants.59.\\nMumad Benuyev and Khas-Magomed Zhanalayev were granted victim status.60.\\nOn 15 December 2002 the first applicant was questioned as a witness and stated that on 24 November 2002 around twelve armed men wearing camouflage uniforms and masks had arrived in two UAZ-469 vehicles at her house; one of the vehicles had been khaki with an aerial on its roof and a dent on its right door. The armed men had beaten the first applicant's husband, the second applicant and two other relatives. They had demanded that the Benuyevs produce identity papers; while Sayd-Selim Benuyev had been trying to reach for his papers, they had captured him and dragged him outside, put a plastic bag over his head and taken him away. Sayd-Selim Benuyev had not participated in illegal armed groups.61.\\nOn 16 December 2002 Mumad Benuyev was questioned and made a statement identical to that of the first applicant. He noted that the UAZ vehicles had been grey and khaki.62.\\nOn 16 December 2002 Khas-Magomed Zhanalayev was questioned as a witness and stated that on 24 November 2002 Abu Zhanalayev had stepped out of his house and encountered armed men who had demanded to see his identity papers. Abu Zhanalayev had asked Khas-Magomed Zhanalayev to bring the papers from his house. While Khas-Magomed Zhanalayev had been absent, Abu Zhanalayev had been taken away by the armed men in a UAZ-469 vehicle. Abu Zhanalayev had not participated in illegal armed groups.63.\\nOn an unspecified date the first applicant was again questioned. She stated that the armed men in camouflage uniforms had beaten her guests who had arrived to attend a neighbour's wedding. There had been around twelve armed men, they had all been tall. Four of them had not been masked and one armed man had had red hair and a beard.64.\\nOn 24 January 2003 the department of the interior of the Vedenskiy District established that Abu Zhanalayev and Sayd-Selim Benuyev had not been kept in temporary detention facilities and that their dead bodies had not been found.65.\\nOn 22 May 2003 the investigators requested information on vehicles used by the ROVD between 10 November 2002 and 25 May 2003 from the head of the ROVD. According to the reply received, the ROVD owned twenty-eight vehicles, none of which was an UAZ-469.66.\\nOn 8 July 2003 an ROVD officer questioned the second applicant and Mr U., a relative of the Benuyevs. They both stated that at about 11 p.m. on 24 November 2002 armed men speaking Russian had arrived at their house in two UAZ vehicles – one grey and one khaki – and had taken away Sayd-Selim Benuyev.67.\\nOn 14 September 2003 ROVD officers presented seven UAZ vehicles used by the ROVD for the first applicant to identify. She did not recognise any of those as the vehicle used by her son's kidnappers.68.\\nOn 20 September 2003 the investigation into the kidnapping was suspended for failure to identify those responsible.69.\\nThe investigation into the kidnapping of Abu Zhanalayev and Sayd‑Selim Benuyev was repeatedly suspended and then resumed. The proceedings were pending and the required investigative measures were being taken to solve the crime.70.\\nDespite specific requests from the Court, the Government refrained from disclosing most of the documents from the investigation file in case no. 61161, except for copies of the decision to institute the investigation, transcripts of witness interviews, a record of the first and tenth applicants' identification of UAZ vehicles and the court judgments of 18 March and 6 April 2005. Relying on information obtained from the Prosecutor General's Office, the Government stated that the investigation was in progress and that disclosure of the documents would be in violation of Article 161 of the Code of Criminal Procedure since the file contained information of a military nature and personal data concerning witnesses or other participants in the criminal proceedings.C.\\nJudicial proceedings instituted by the applicants71.\\nOn 14 April 2003 the first applicant complained to the Urus-Martan District Court that the district prosecutor's office was taking no action in case no. 61161. It is unclear whether the complaint has been examined.72.\\nOn 28 December 2004 the first and tenth applicants challenged the lawfulness of the decision on suspension of the proceedings of 20 September 2003 before the Urus-Martan District Court.73.\\nOn 27 January 2005 the Urus-Martan District Court upheld the decision arguing that the district prosecutor's office had taken all the required investigative measures. The applicants appealed.74.\\nOn 16 February 2005 the Supreme Court of the Chechen Republic allowed the first and tenth applicants' appeal, quashed the judgment of 27 January 2005 and remitted the case for fresh examination at the first instance.75.\\nOn 18 March 2005 the Urus-Martan District Court again dismissed the first and tenth applicants' complaint reproducing the reasoning of the judgment of 27 January 2005 verbatim.76.\\nOn 6 April 2005 the Supreme Court of the Chechen Republic upheld the judgment of 18 March 2005.II.\\nRELEVANT DOMESTIC LAW77.\\nFor a summary of the relevant domestic law see Akhmadova and Sadulayeva v. Russia (no. 40464/02, §§ 67-69, 10 May 2007).THE LAWI.\\nThe government's objection regarding non‑exhaustion of domestic remediesA.\\nThe parties' submissions78.\\nThe Government contended that the application should be declared inadmissible for non-exhaustion of domestic remedies. They submitted that the investigation into the kidnapping of Abu Zhanalayev and Sayd-Selim Benuyev had not yet been completed. They further submitted that the applicants could have also lodged civil claims for pecuniary and non‑pecuniary damages, but had failed to do so.79.\\nThe applicants contested that objection. They stated that the criminal investigation had been pending for more than six years without producing any meaningful results and thus had proved to be ineffective. Moreover, they pointed out that their court complaint had produced no positive results. The applicants further asserted that civil remedies were ineffective in the circumstances of the case.B.\\nThe Court's assessment80.\\nThe Court will examine the arguments of the parties in the light of the provisions of the Convention and its relevant practice (for a relevant summary, see Estamirov and Others v. Russia, no. 60272/00, §§ 73-74, 12 October 2006).81.\\nThe Court notes that the Russian legal system provides, in principle, two avenues of recourse for the victims of illegal and criminal acts attributable to the State or its agents, namely civil and criminal remedies.82.\\nAs regards a civil action to obtain redress for damage sustained through the alleged illegal acts or unlawful conduct of State agents, the Court has already found in a number of similar cases that this procedure alone cannot be regarded as an effective remedy in the context of claims brought under Article 2 of the Convention. A civil court is unable to pursue any independent investigation and is incapable, without the benefit of the conclusions of a criminal investigation, of making any meaningful findings regarding the identity of the perpetrators of fatal assaults or disappearances, still less of establishing their responsibility (see Khashiyev and Akayeva v. Russia, nos. 57942/00 and 57945/00, §§ 119-21, 24 February 2005). In the light of the above, the Court confirms that the applicants were not obliged to pursue civil remedies.83.\\nAs regards criminal-law remedies provided for by the Russian legal system, the Court observes that the applicants complained to the law‑enforcement authorities immediately after the kidnapping of Abu Zhanalayev and Sayd-Selim Benuyev and that an investigation into it has been pending since 27 November 2002. The applicants and the Government dispute the effectiveness of the investigation.84.\\nThe Court considers that this part of the Government's objection raises issues concerning the effectiveness of the investigation which are closely linked to the merits of the applicants' complaints. Thus, it decides to join this objection to the merits of the case and considers that the issue falls to be examined below.II.\\nALLEGED VIOLATION OF ARTICLE 2 OF THE CONVENTION85.\\nThe applicants complained that Abu Zhanalayev and Sayd-Selim Benuyev had been arrested by Russian servicemen and then disappeared and that the domestic authorities had failed to carry out an effective investigation into the matter. They relied on Article 2 of the Convention, which reads:“1.\\nEveryone's right to life shall be protected by law. No one shall be deprived of his life intentionally save in the execution of a sentence of a court following his conviction of a crime for which this penalty is provided by law.2.\\nDeprivation of life shall not be regarded as inflicted in contravention of this article when it results from the use of force which is no more than absolutely necessary:(a)\\nin defence of any person from unlawful violence;(b)\\nin order to effect a lawful arrest or to prevent the escape of a person lawfully detained;(c)\\nin action lawfully taken for the purpose of quelling a riot or insurrection.”A.\\nArguments of the parties1.\\nThe Government86.\\nThe Government argued that it had not been proven that the applicants' relatives had been abducted by State agents. Their dead bodies had not been discovered and thus there was no evidence that they were no longer alive.87.\\nThe Government further observed that camouflage uniforms could have been freely purchased by criminals intending to be disguised as servicemen. The applicants had not noticed any insignia, which would necessarily be visible on the military uniforms. UAZ vehicles with aerials could be used by civilians. A considerable number of weapons had been seized by members of illegal armed groups in the course of battles with the federal military. The fact that the perpetrators had had Slavic features and spoke Russian did not prove their attachment to the Russian military because groups of Ukrainian, Belarusian and ethnic Russian mercenaries had committed crimes in the territory of the Chechen Republic.88.\\nThe applicants had made contradictory statements in the course of the investigation. For instance, the first applicant had claimed that she had not seen the vehicles' registration plates because it had been dark outside but that she had managed to see the dent on the vehicle and the aerial. Khas‑Magomed Dzhanalayev had first stated that the armed men had not asked for his nephew's identity papers and later claimed that they had done so. He had also claimed initially that Abu Zhanalayev had been detained on his way to his uncle's house and then alleged that the missing man had been detained on his way home. There had been no other witnesses to Sayd‑Selim Benuyev's kidnapping except for his relatives. Furthermore, the applicants had not reported the investigator's statement in which he had said that the two missing men were probably dead to the domestic investigative authorities and courts. Neither had they mentioned the military serviceman who had allegedly confirmed that the applicants' relatives had been taken away in the UAZ vehicles.89.\\nThe investigators had sent numerous requests to various State agencies and checked all possible places of temporary detention. A number of witnesses had been questioned. In sum, the investigation into the kidnapping had been effective, although so far fruitless, and was ongoing.2.\\nThe applicants90.\\nThe applicants maintained their complaints.91.\\nThey claimed that the inconsistencies in the witnesses' statements referred to by the Government were minor and that the investigators could have resolved them many years ago. They had not informed the investigators of the name of the military serviceman because it had been up to the prosecutor's office to question the servicemen and that the serviceman in question could have at risk of reprisals from other servicemen. The first applicant had seen the dent and the aerial because they had been lit by a torch while the registration plate had been in the dark.92.\\nThe applicants further stated that their relatives' abductors had been able to drive through the military checkpoint in paramilitary vehicles during the curfew hours. Moreover, according to Khasmagomed Dzhanalayev, the armed men had asked questions concerning the killing of policemen, which, in the applicants' view, clearly indicated that they had been State agents.93.\\nThe applicants further alleged that the investigations in case no. 61161 had been ineffective and futile.B.\\nThe Court's assessment1.\\nAdmissibility94.\\nThe Court considers, in the light of the parties' submissions, that the complaint raises serious issues of fact and law under the Convention, the determination of which requires an examination of the merits. The Court has already found that the Government's objection concerning the alleged non‑exhaustion of criminal domestic remedies should be joined to the merits of the complaint (see paragraph 83 above). The complaint under Article 2 of the Convention must therefore be declared admissible.2.\\nMerits(a)\\nThe alleged violation of the right to life of Abu Zhanalayev and Sayd-Selim Benuyevi.\\nEstablishment of the facts95.\\nThe Court reiterates that, in the light of the importance of the protection afforded by Article 2, it must subject allegations of deprivation of life to the most careful scrutiny, taking into consideration not only the actions of State agents but also all the surrounding circumstances. Detained persons are in a vulnerable position and the obligation on the authorities to account for the treatment of a detained individual is particularly stringent where that individual dies or disappears thereafter (see Orhan v. Turkey, no. 25656/94, § 326, 18 June 2002). Where the events in issue lie wholly or largely within the exclusive knowledge of the authorities, as in the case of persons within their control in detention, strong presumptions of fact will arise in respect of injuries and death occurring during that detention. Indeed, the burden of proof may be regarded as resting on the authorities to provide a satisfactory and convincing explanation (see Salman v. Turkey [GC], no. 21986/93, § 100, ECHR 2000-VII, and Çakıcı v. Turkey [GC], no. 23657/94, § 85, ECHR 1999‑IV).96.\\nThe Court observes that it has developed a number of general principles relating to the establishment of facts in dispute, in particular when faced with allegations of disappearance under Article 2 of the Convention (for a summary of these, see Bazorkina v. Russia, no. 69481/01, §§ 103-09, 27 July 2006). The Court also notes that the conduct of the parties when evidence is being obtained has to be taken into account (see Ireland v. the United Kingdom, 18 January 1978, § 161, Series A no. 25).97.\\nThe Court notes that despite its requests for a copy of the entire investigation file into the kidnapping of Abu Zhanalayev and Sayd-Selim Benuyev, the Government refused to produce most of the documents from the file on the grounds that they were precluded from providing them all by Article 161 of the Code of Criminal Procedure. The Court observes that in previous cases it has found this explanation insufficient to justify the withholding of key information requested by the Court (see Imakayeva v. Russia, no. 7615/02, § 123, ECHR 2006‑XIII (extracts)).98.\\nIn view of the foregoing and bearing in mind the principles referred to above, the Court finds that it can draw inferences from the Government's conduct in this respect. It considers that the applicants have presented a coherent and convincing picture of their relatives' abduction.99.\\nThe Government suggested that the persons who had detained Abu Zhanalayev and Sayd-Selim Benuyev could have been members of paramilitary groups. However, this allegation was not specific and they did not submit any material to support it. The Court would stress in this regard that the evaluation of the evidence and the establishment of the facts is a matter for the Court, and it is incumbent on it to decide on the evidentiary value of the documents submitted to it (see Çelikbilek v. Turkey, no. 27693/95, § 71, 31 May 2005).100.\\nThe Court further points out that the perpetrators travelled in UAZ vehicles – paramilitary vehicles regularly used by the military and law-enforcement agencies. It takes note of the Government's allegation that the weaponry and camouflage uniforms were probably stolen by insurgents from Russian arsenals in the 1990s. Nonetheless, it considers it very unlikely that heavily armed insurgents in camouflage uniforms travelling past curfew in paramilitary vehicles could have freely passed through Russian military checkpoints to enter the village without being noticed.101.\\nIt is of relevance in this respect that the domestic investigators accepted factual assumptions as presented by the applicants and looked at the possibility of the ROVD servicemen's implication in the crime (see paragraphs 65 and 67 above).102.\\nThe Court therefore considers that the fact that a large group of armed men in uniform equipped with paramilitary vehicles was able to move freely through Martan-Chu and to arrest the two men strongly supports the applicants' version of an involvement of State servicemen in their relatives' kidnapping.103.\\nThe Court reiterates that where the applicant makes out a prima facie case and the Court is prevented from reaching factual conclusions owing to the lack of documents withheld by the Government, it is for the latter to argue conclusively why the documents in question cannot serve to corroborate the allegations made by the applicant, or to provide a satisfactory and convincing explanation of how the events in question occurred. The burden of proof is thus shifted to the Government, and if they fail in their arguments, issues will arise under Article 2 and/or Article 3 (see Toğcu v. Turkey, no. 27601/95, § 95, 31 May 2005, and Akkum and Others v. Turkey, no. 21894/93, § 211, ECHR 2005‑II).104.\\nIn their observations on the admissibility and merits of the present application the Government seemed to raise doubts as to the credibility of the first applicant's statements, as well as those by Khasmagomed Dzhanalayev, concerning the factual circumstances of the abduction of Abu Zhanalayev and Sayd-Selim Benuyev.\\nThe Court notes in this connection that the crucial elements underlying the applicants' submissions as to the facts have not been disputed by the Government. The Government did not dispute that the abduction of the applicants' relatives had actually been committed by a group of armed men at the time stated by the applicants. This fact was confirmed by the official investigation conducted by the district prosecutor's office. The Court finds that the inconsistencies pointed out by the Government in the applicants' description of events are so insignificant that they cannot cast doubt on the overall credibility of the applicants' submission.105.\\nTaking into account the above elements, the Court is satisfied that the applicants have made a prima facie case that Abu Zhanalayev and Sayd‑Selim Benuyev were arrested by State servicemen. The Government's statement that the investigation did not find any evidence to support the involvement of the State agencies in the abduction is insufficient to discharge them from the above-mentioned burden of proof. Drawing inferences from the Government's failure to submit the documents which were in their exclusive possession or to provide another plausible explanation for the events in question, the Court considers that Abu Zhanalayev and Sayd-Selim Benuyev were abducted on 24 November 2002 by State servicemen during an unacknowledged security operation.106.\\nThe Court has to decide further whether Abu Zhanalayev and Sayd‑Selim Benuyev are to be considered dead. It notes in this regard that there has been no reliable news of the missing men since 24 November 2002. Their names have not been found in any official records of detention facilities. Lastly, the Government did not submit any explanation as to what happened to them after the abduction.107.\\nHaving regard to the previous cases concerning disappearances of people in the Chechen Republic which have come before the Court (see, for example, Imakayeva, cited above, and Luluyev and Others v. Russia, no. 69480/01, ECHR 2006‑XIII ), the Court considers that, in the context of the conflict in the Chechen Republic, when a person is detained by unidentified servicemen without any subsequent acknowledgement of the detention, this can be regarded as life-threatening. The absence of Abu Zhanalayev and Sayd-Selim Benuyev or any news of them for over six years corroborates this assumption.108.\\nAccordingly, the Court finds it established that on 24 November 2002 Abu Zhanalayev and Sayd-Selim Benuyev were abducted by State servicemen and that they must be presumed dead following their unacknowledged detention.ii.\\nThe State's compliance with Article 2109.\\nThe Court reiterates that Article 2, which safeguards the right to life and sets out the circumstances when deprivation of life may be justified, ranks as one of the most fundamental provisions in the Convention, from which no derogation is permitted (see McCann and Others v. the United Kingdom, 27 September 1995, § 147, Series A no. 324).110.\\nThe Court has already found it established that Abu Zhanalayev and Sayd-Selim Benuyev must be dead following their unacknowledged detention by State servicemen (see paragraph 108 above). Given that the authorities do not rely on any ground of justification in respect of the use of lethal force by their agents, the deaths of Abu Zhanalayev and Sayd-Selim Benuyev are attributable to the respondent Government.111.\\nAccordingly, the Court finds that there has been a violation of Article 2 of the Convention in respect of Abu Zhanalayev and Sayd-Selim Benuyev.(b)\\nThe alleged inadequacy of the investigation into the abduction112.\\nThe Court reiterates that the obligation to protect the right to life under Article 2 of the Convention, read in conjunction with the State's general duty under Article 1 of the Convention to “secure to everyone within [its] jurisdiction the rights and freedoms defined in [the] Convention”, also requires by implication that there should be some form of effective official investigation when individuals have been killed as a result of the use of force (see, mutatis mutandis, McCann and Others, cited above, § 161, and Kaya v. Turkey, 19 February 1998, § 86, Reports of Judgments and Decisions 1998‑I). The essential purpose of such an investigation is to secure the effective implementation of the domestic laws which protect the right to life and, in those cases involving State agents or bodies, to ensure their accountability for deaths occurring under their responsibility. This investigation should be independent, accessible to the victim's family, carried out with reasonable promptness and expedition, effective in the sense that it is capable of leading to a determination of whether the force used in such cases was or was not justified in the circumstances or otherwise unlawful, and afford a sufficient element of public scrutiny of the investigation or its results (see Hugh Jordan v. the United Kingdom, no. 24746/94, §§ 105-09, ECHR 2001‑III (extracts), and Douglas-Williams v. the United Kingdom (dec.), no. 56413/00, 8 January 2002).113.\\nIn the present case, the kidnapping of Abu Zhanalayev and Sayd‑Selim Benuyev was investigated. The Court must now assess whether that investigation met the requirements of Article 2 of the Convention.114.\\nThe Court notes at the outset that the majority of the documents from the investigation were not disclosed by the Government. It therefore has to assess the effectiveness of the investigation on the basis of the few documents submitted by the parties and the sparse information on its progress presented by the Government.115.\\nThe Court first notes that the authorities were made aware of the kidnapping of Abu Zhanalayev and Sayd-Selim Benuyev through the applicants' submissions shortly after the incident (see paragraphs 23 and 24 above). The investigation in case no. 61161 was instituted on 27 November 2002, that is, three days after the abduction. The Court notes that the delay in opening the criminal proceedings in the present case was not appallingly long but points out nonetheless that an effective investigation into kidnapping in life-threatening circumstances requires that crucial actions be taken in the first days after the event.116.\\nThe Court further points out that the information on the course of the investigation into the kidnapping of Abu Zhanalayev and Sayd-Selim Benuyev at its disposal is highly inadequate. It observes that the applicants, who themselves were not updated on the progress of the case, could not provide it with a list of investigative measures taken by the domestic authorities.117.\\nThe Government, in their turn, vaguely referred to the investigative steps taken to solve the kidnapping of Abu Zhanalayev and Sayd-Selim Benuyev. However, it follows from the information which they submitted that there were considerable delays in carrying out those measures.118. For instance, the first applicant, her husband and Khasmagomed Dzhanalayev were questioned for the first time more than two weeks after the investigation began (see paragraphs 60 and 61 above). The Court is struck by the fact that the second applicant and another eyewitness to Sayd‑Selim Benuyev's kidnapping were questioned for the first time only on 8 July 2003 (see paragraph 66 above), that is, more than seven months after the investigation had been opened. The investigators also failed to demonstrate due diligence when requesting information about vehicles employed by the ROVD six months after the events (see paragraph 65 above) and presenting the ROVD vehicles to the first applicant for identification ten months after the crime (see paragraph 67 above). It is obvious that these investigative measures, if they were to produce any meaningful results, should have been taken immediately after the crime was reported to the authorities, and as soon as the investigation began (see Gekhayeva and Others v. Russia, no. 1755/04, § 105, 29 May 2008).119.\\nFurthermore, a number of important investigative steps were never carried out. For instance, it does not appear that such a basic measure as the inspection of the crime scene has ever taken place. Moreover, nothing in the materials at the Court's disposal warrants the conclusion that the investigators tried to question the servicemen who had manned the checkpoints in Martan-Chu on the night of the abduction or to collect the registration logs of the passing vehicles.120.\\nAccordingly, the Court considers that the domestic investigative authorities demonstrably failed to act of their own motion and breached their obligation to act with exemplary diligence and promptness in dealing with a crime as serious as kidnapping (see Öneryıldız v. Turkey [GC], no. 48939/99, § 94, ECHR 2004‑XII).121.\\nThe Court also notes that the applicants were not promptly informed of significant developments in the investigation and considers therefore that the investigators failed to ensure that the investigation received the required level of public scrutiny, or to safeguard the interests of the next of kin in the proceedings (see Oğur v. Turkey [GC], no. 21594/93, § 92, ECHR 1999‑III).122.\\nLastly, the Court notes that the investigation into the kidnapping of Abu Zhanalayev and Sayd-Selim Benuyev was repeatedly suspended and then resumed, which led to lengthy periods of inactivity on the part of the investigators when no proceedings were pending. Owing to the Government's failure to submit the entire case file, the Court is unable to establish the exact timeline of the investigation. However, it is not disputed between the parties that no proceedings have been pending since 20 September 2003, that is, for more than six years. Such handling of the investigation could only have had a negative impact on the prospects of identifying the perpetrators and establishing the fate of the applicants' relatives.123.\\nHaving regard to the limb of the Government's objection concerning the fact that the domestic investigation is still pending which was joined to the merits of the application, the Court notes that the investigation, which was opened on 27 November 2002, has produced no tangible results to date. Accordingly, the Court finds that the remedy relied on by the Government was ineffective in the circumstances and rejects their objection.124.\\nIn the light of the foregoing, the Court finds that the authorities failed to carry out an effective criminal investigation into the circumstances surrounding the disappearance of Abu Zhanalayev and Sayd-Selim Benuyev, in breach of Article 2 of the Convention in its procedural aspect.III.\\nALLEGED VIOLATION OF ARTICLE 3 OF THE CONVENTION125.\\nThe applicants complained that, at the moment of their abduction and after it, Abu Zhanalayev and Sayd-Selim Benuyev were subjected to ill‑treatment. The second applicant also complained that she had been beaten by the men who had abducted her brother. The applicants further claimed that, as a result of the disappearance of their relatives and the State's failure to investigate the crimes properly, they had endured profound mental suffering. They relied on Article 3 of the Convention, which reads:“No one shall be subjected to torture or to inhuman or degrading treatment or punishment.”A.\\nThe parties' submissions126.\\nThe Government disagreed with these allegations and argued that the investigation had not established that Abu Zhanalayev and Sayd-Selim Benuyev had been subjected to inhuman or degrading treatment prohibited by Article 3 of the Convention. The second applicant had not brought her grievance concerning her alleged beating to the attention of the domestic authorities and thus had failed to exhaust available domestic remedies. The Government further argued that the applicants' mental suffering could not be imputable to the State.127.\\nThe applicants stated that they had informed the domestic authorities about the second applicant's beating and maintained their complaints.B.\\nThe Court's assessment1.\\nAdmissibility(a)\\nThe complaint concerning ill-treatment of Abu Zhanalayev and Sayd‑Selim Benuyev128.\\nThe Court reiterates that allegations of ill-treatment must be supported by appropriate evidence. To assess this evidence, the Court adopts the standard of proof “beyond reasonable doubt” but adds that such proof may follow from the coexistence of sufficiently strong, clear and concordant inferences or of similar unrebutted presumptions of fact (see Ireland v. the United Kingdom, cited above, § 161 in fine).129.\\nThe Court has found it established that Abu Zhanalayev and Sayd‑Selim Benuyev were taken away on 24 November 2002 by Russian federal forces and that no reliable news of them has been received since. It has also found that, in view of all the known circumstances, they can be presumed dead and that the responsibility for their deaths lies with the State authorities (see paragraph 108 above). However, questions remain as to the exact way in which they died and whether they were subjected to ill‑treatment following their abduction. The Court considers that the materials at its disposal do not enable it to find beyond all reasonable doubt that Abu Zhanalayev and Sayd-Selim Benuyev were ill-treated in detention. It thus finds that this part of the complaint under Article 3 of the Convention has not been substantiated.130.\\nIt follows that this part of the complaint under Article 3 of the Convention is manifestly ill-founded and should be rejected in accordance with Article 35 §§ 3 and 4 of the Convention.(b)\\nThe complaint concerning the second applicant's ill-treatment131.\\nThe Court takes note of the Government's plea of non-exhaustion; however, it does not deem it necessary to establish whether the second applicant made use of available domestic remedies for the following reason.132.\\nThe second applicant has not provided the Court with any medical evidence confirming that she sustained any injuries on the night of her brother's abduction. In the absence of any document confirming her allegations, the Court is bound to conclude that the second applicant's complaint concerning the alleged ill-treatment is unsubstantiated.133.\\nIt follows that this part of the complaint under Article 3 of the Convention is manifestly ill-founded and should be rejected in accordance with Article 35 §§ 3 and 4 of the Convention.(c)\\nThe complaint concerning the applicants' mental suffering134.\\nThe Court notes that this part of the complaint under Article 3 of the Convention is not manifestly ill-founded within the meaning of Article 35 § 3 of the Convention. It further notes that it is not inadmissible on any other grounds. It must therefore be declared admissible.2.\\nMerits135.\\nThe Court observes that the question whether a family member of a “disappeared person” is a victim of treatment contrary to Article 3 will depend on the existence of special factors which give the applicants' suffering a dimension and character distinct from the emotional distress which may be regarded as inevitably caused to relatives of a victim of a serious human-rights violation. Relevant elements will include the proximity of the family tie, the particular circumstances of the relationship, the extent to which the family member witnessed the events in question, the involvement of the family member in the attempts to obtain information about the disappeared person and the way in which the authorities responded to those enquiries. The Court would further emphasise that the essence of such a violation does not mainly lie in the fact of the “disappearance” of the family member but rather concerns the authorities' reactions and attitudes to the situation when it is brought to their attention. It is especially in respect of the latter that a relative may claim directly to be a victim of the authorities' conduct (see Orhan v. Turkey, no. 25656/94, § 358, 18 June 2002, and Imakayeva, cited above, § 164).136.\\nIn the present case the Court notes that Sayd-Selim Benuyev is a son of the first applicant and a sibling of the second, third, fourth, fifth, sixth, seventh and eighth applicants, while Abu Zhanalayev is a son of the ninth and tenth applicants and a sibling of the eleventh, twelfth, thirteenth, fourteenth and fifteenth applicants. It appears from the documents at the Court's disposal that it was only the first and tenth applicants who made various applications and enquiries to the domestic authorities in connection with their sons' disappearance. The Court accepts in principle that the ninth applicant, Abu Zhanalayev's father, may be regarded as having taken part in the search for his son together with his wife. It notes at the same time that no evidence has been submitted to the Court that the missing men's siblings were in any manner involved in the search for Abu Zhanalayev and Sayd‑Selim Benuyev (see, by contrast, Luluyev and Others, cited above, § 112). In such circumstances, the Court, while accepting that the events of 24 November 2002 might have been a source of considerable distress to the second, third, fourth, fifth, sixth, seventh and eighth applicants, and to the eleventh, twelfth, thirteenth, fourteenth and fifteenth applicants, is nevertheless unable to conclude that their mental and emotional suffering was distinct from the inevitable emotional distress in a situation such as in the present case and that it was so serious that it fell within the ambit of Article 3 of the Convention (see Saydaliyeva and Others v. Russia, no. 41498/04, § 124, 2 April 2009, and Malsagova and Others v. Russia, no. 27244/03, § 133, 9 April 2009).137.\\nAs regards the first, ninth and tenth applicants, the Court notes that for more than seven years they have not had any news of their sons. During this period the first and tenth applicants have applied to various official bodies with enquiries about her son, both in writing and in person. Despite all their efforts, they have never received any plausible explanation or information as to what became of their sons following his arrest. The responses received by the applicants mostly denied that the State was responsible or simply informed them that an investigation was ongoing. The Court's findings under the procedural aspect of Article 2 are also of direct relevance here.138.\\nIn view of the above, the Court finds that the first, ninth and tenth applicants suffered, and continue to suffer, distress and anguish as a result of the disappearance of their sons and their inability to find out what happened to them. The manner in which their complaints have been dealt with by the authorities must be considered to constitute inhuman treatment contrary to Article 3.139.\\nThe Court therefore concludes that there has been a violation of Article 3 of the Convention on account of the first, ninth and tenth applicants' mental suffering and no violation of this provision on account of the second, third, fourth, fifth, sixth, seventh, eighth, eleventh, twelfth, thirteenth, fourteenth and fifteenth applicants' mental suffering.IV.\\nALLEGED VIOLATION OF ARTICLE 5 OF THE CONVENTION140.\\nThe applicants further stated that their relatives had been detained in violation of the guarantees of Article 5 of the Convention, which reads, in so far as relevant:“1.\\nEveryone has the right to liberty and security of person. No one shall be deprived of his liberty save in the following cases and in accordance with a procedure prescribed by law:...(c)\\nthe lawful arrest or detention of a person effected for the purpose of bringing him before the competent legal authority on reasonable suspicion of having committed an offence or when it is reasonably considered necessary to prevent his committing an offence or fleeing after having done so;...2.\\nEveryone who is arrested shall be informed promptly, in a language which he understands, of the reasons for his arrest and of any charge against him.3.\\nEveryone arrested or detained in accordance with the provisions of paragraph 1 (c) of this Article shall be brought promptly before a judge or other officer authorised by law to exercise judicial power and shall be entitled to trial within a reasonable time or to release pending trial. Release may be conditioned by guarantees to appear for trial.4.\\nEveryone who is deprived of his liberty by arrest or detention shall be entitled to take proceedings by which the lawfulness of his detention shall be decided speedily by a court and his release ordered if the detention is not lawful.5.\\nEveryone who has been the victim of arrest or detention in contravention of the provisions of this Article shall have an enforceable right to compensation.”A.\\nThe parties' submissions141.\\nIn the Government's opinion, no evidence was obtained by the investigators to confirm that the applicants' relatives had been deprived of their liberty in breach of the guarantees set out in Article 5 of the Convention.142.\\nThe applicants reiterated the complaint.B.\\nThe Court's assessment1.\\nAdmissibility143.\\nThe Court notes that this complaint is not manifestly ill-founded within the meaning of Article 35 § 3 of the Convention. It further notes that the complaint is not inadmissible on any other grounds and must therefore be declared admissible.2.\\nMerits144.\\nThe Court has previously noted the fundamental importance of the guarantees contained in Article 5 to secure the right of individuals in a democracy to be free from arbitrary detention. It has also stated that unacknowledged detention is a complete negation of these guarantees and discloses a very grave violation of Article 5 (see Çiçek v. Turkey, no. 25704/94, § 164, 27 February 2001, and Luluyev, cited above, § 122).145.\\nThe Court has found it established that Abu Zhanalayev and Sayd‑Selim Benuyev were abducted by State servicemen on 24 November 2002. Their detention was not acknowledged or logged in any custody records and there exists no official trace of the missing men's subsequent whereabouts or fate. In accordance with the Court's practice, this fact in itself must be considered a most serious failing, since it enables those responsible for an act of deprivation of liberty to conceal their involvement in a crime, to cover their tracks and to escape accountability for the fate of a detainee. Furthermore, the absence of detention records, noting such matters as the date, time and location of detention and the name of the detainee as well as the reasons for the detention and the name of the person effecting it, must be seen as incompatible with the very purpose of Article 5 of the Convention (see Orhan, cited above, § 371).146.\\nIn view of the foregoing, the Court finds that Abu Zhanalayev and Sayd-Selim Benuyev were held in unacknowledged detention without any of the safeguards contained in Article 5. This constitutes a particularly grave violation of the right to liberty and security enshrined in Article 5 of the Convention.V.\\nALLEGED VIOLATION OF ARTICLE 13 OF THE CONVENTION147.\\nThe applicants complained that they had been deprived of effective remedies in respect of the aforementioned violations of Articles 2 and 3, contrary to Article 13 of the Convention, which provides:“Everyone whose rights and freedoms as set forth in [the] Convention are violated shall have an effective remedy before a national authority notwithstanding that the violation has been committed by persons acting in an official capacity.”A.\\nThe parties' submissions148.\\nThe Government contended that the applicants had had effective remedies at their disposal as required by Article 13 of the Convention and that the authorities had not prevented them from using them. The applicants had had an opportunity to challenge any actions or omissions on the part of the investigating authorities in court and in fact made use of it when challenging lawfulness of the decision of 20 September 2003. They could also claim damages through civil proceedings.149.\\nThe applicants reiterated the complaint.B.\\nThe Court's assessment1.\\nAdmissibility150.\\nIn so far as the complaint under Article 13 concerns the existence of a domestic remedy in respect of the complaints concerning the alleged ill‑treatment of the second applicant, Abu Zhanalayev and Sayd-Selim Benuyev, the Court notes that these parts of the complaint under Article 3 were declared manifestly ill-founded in paragraphs 130 and 133 above. Accordingly, the applicants did not have an “arguable claim” of a violation of a substantive Convention provision in this respect and, therefore, Article 13 of the Convention is inapplicable.151.\\nIt follows that these parts of the complaint under Article 13 of the Convention are incompatible ratione materiae with the provisions of the Convention within the meaning of Article 35 § 3 and must be rejected in accordance with Article 35 § 4 thereof.152.\\nThe Court notes that the remainder of the complaints under Article 13 of the Convention is not manifestly ill-founded within the meaning of Article 35 § 3 of the Convention. It further notes that it is not inadmissible on any other grounds. It must therefore be declared admissible.2.\\nMerits153.\\nThe Court reiterates that in circumstances where, as here, a criminal investigation into the disappearance has been ineffective and the effectiveness of any other remedy that might have existed, including civil remedies suggested by the Government, has consequently been undermined, the State has failed in its obligation under Article 13 of the Convention (see Khashiyev and Akayeva, cited above, § 183).154.\\nConsequently, there has been a violation of Article 13 in conjunction with Article 2 of the Convention.155.\\nAs regards the applicants' mental suffering, the Court considers that, in the circumstances, no separate issue arises in respect of Article 13, read in conjunction with Article 3 of the Convention (see Kukayev v. Russia, no. 29361/02, § 119, 15 November 2007, and Aziyevy v. Russia, no. 77626/01, § 118, 20 March 2008).VI.\\nOTHER ALLEGED VIOLATIONS OF THE CONVENTION156.\\nThe applicants complained under Article 8 of the Convention that the Russian servicemen unlawfully searched their homes and under Article 14 of the Convention alleging that they had been discriminated against in the enjoyment of their Convention rights on the grounds of their Chechen ethnic origin.157.\\nHaving regard to all the material in its possession, and as far as it is within its competence, the Court finds that the applicant's submissions disclose no appearance of violations of the rights and freedoms set out in the Convention or its Protocols. It follows that this part of the application must be rejected as being manifestly ill-founded, pursuant to Article 35 §§ 3 and 4 of the Convention.VII.\\nAPPLICATION OF ARTICLE 41 OF THE CONVENTION158.\\nArticle 41 of the Convention provides:“If the Court finds that there has been a violation of the Convention or the Protocols thereto, and if the internal law of the High Contracting Party concerned allows only partial reparation to be made, the Court shall, if necessary, afford just satisfaction to the injured party.”A.\\nPecuniary damage159.\\nThe first, ninth and tenth applicants, all retired, claimed damages in respect of the loss of their sons' earnings after their disappearance. The applicants submitted that Abu Zhanalayev and Sayd-Selim Benuyev, both unemployed at the time of their disappearance, would not have had incomes lower than the subsistence level applicable in Russia. Basing their calculations on the actuarial tables for use in personal injury and fatal accident cases published by the United Kingdom Government Actuary's Department (“the Ogden tables”) and relevant provisions of the Russian legislation, the first applicant claimed 164,653.92 Russian roubles (RUB) (4,480 euros (EUR)), the ninth applicant claimed RUB 114,947.61 (EUR 3,130) and the tenth applicant claimed RUB 136,693.52 (EUR 3,720) in respect of pecuniary damage.160.\\nThe Government argued that the claims were unsubstantiated and that the three applicants had not made use of the domestic avenues for obtaining compensation for the loss of a breadwinner.161.\\nThe Court reiterates that there must be a clear causal connection between the damage claimed by the applicant and the violation of the Convention, and that this may, in an appropriate case, include compensation in respect of loss of earnings. Having regard to its conclusions above, it finds that there is a direct causal link between the violation of Article 2 in respect of Abu Zhanalayev and Sayd-Selim Benuyev and the loss to the first, ninth and tenth applicants, the retired persons, of the financial support which their sons could have provided.162.\\nHaving regard to the first, ninth and tenth applicants' submissions and the materials in its possession and accepting that it is reasonable to assume Abu Zhanalayev and Sayd-Selim Benuyev would eventually have had some earnings resulting in financial support for their elderly parents, the Court awards EUR 1,500 to the first applicant and EUR 1,500 to the ninth and tenth applicants jointly in respect of pecuniary damage, plus any tax that may be charged thereon.B.\\nNon-pecuniary damage163.\\nThe first, ninth and tenth applicant each claimed EUR 80,000 in respect of non-pecuniary damage for the suffering they had endured as a result of the loss of their sons. The other twelve applicants claimed EUR 30,000 each in respect of non-pecuniary damage caused by the disappearance of their family members.164.\\nThe Government found the amounts claimed exaggerated.165.\\nThe Court has found a violation of Articles 2, 5 and 13 of the Convention on account of the unacknowledged detention and disappearance of the applicants' relatives. The first, ninth and tenth applicants have themselves been found victims of a violation of Article 3 of the Convention. The Court thus accepts that the applicants have suffered non-pecuniary damage which cannot be compensated for solely by the findings of violations. It finds it appropriate to award EUR 55,000 to the first applicant, EUR 55,000 to the ninth and tenth applicants jointly and EUR 850 to the second, third, fourth, fifth, sixth, seventh, eighth, eleventh, twelfth, thirteenth, fourteenth and fifteenth applicants each, plus any tax that may be charged thereon.C.\\nCosts and expenses166.\\nThe applicants were represented by the SRJI. They submitted an itemised list of costs and expenses that included research and interviews in Ingushetia and Moscow, at a rate of EUR 50 per hour, and the drafting of legal documents submitted to the Court and the domestic authorities, at a rate of EUR 50 per hour for SRJI lawyers and EUR 150 per hour for SRJI senior staff, as well as administrative expenses, translation and courier delivery fees. The aggregate claim in respect of costs and expenses related to the applicants' legal representation amounted to EUR 7,416.55 to be paid into the applicants' representatives' account in the Netherlands.167.\\nThe Government pointed out that the applicants should be entitled to the reimbursement of their costs and expenses only in so far as it has been shown that they were actually incurred and are reasonable as to quantum (see Skorobogatova v. Russia, no. 33914/02, § 61, 1 December 2005).168.\\nThe Court now has to establish first whether the costs and expenses indicated by the applicants were actually incurred and, second, whether they were necessary (see McCann and Others v. the United Kingdom, 27 September 1995, § 220, Series A no. 324).169.\\nHaving regard to the details of the information and legal representation contracts submitted by the applicants, the Court is satisfied that these rates are reasonable and reflect the expenses actually incurred.170.\\nAs to whether the costs and expenses incurred for legal representation were necessary, the Court notes that this case was rather complex and required a certain amount of research and preparation. It notes, however, that the case involved little documentary evidence, in view of the Government's refusal to submit the case files. Furthermore, owing to the application of Article 29 § 3 in the present case, the applicants' representatives submitted their observations on admissibility and merits in one set of documents. The Court thus doubts that the case involved the amount of research claimed by the applicants' representatives.171.\\nThe Court thus awards the applicants the amount of EUR 4,000, together with any value-added tax that may be chargeable to the applicants, the net award to be paid into the representatives' bank account in the Netherlands, as identified by the applicants.D.\\nDefault interest172.\\nThe Court considers it appropriate that the default interest should be based on the marginal lending rate of the European Central Bank, to which should be added three percentage points.FOR THESE REASONS, THE COURT UNANIMOUSLY1.\\nDecides to join to the merits the Government's objection as to non‑exhaustion of criminal domestic remedies and rejects it; 2.\\nDeclares the complaints under Article 2, Article 3 in respect of the applicants' mental suffering, Article 5 and Article 13 in connection with Article 3 of the Convention on account of the applicants' mental suffering admissible and the remainder of the application inadmissible; 3.\\nHolds that there has been a violation of Article 2 of the Convention in respect of Abu Zhanalayev and Sayd‑Selim Benuyev; 4.\\nHolds that there has been a violation of Article 2 of the Convention in respect of the failure to conduct an effective investigation into the circumstances in which Abu Zhanalayev and Sayd-Selim Benuyev disappeared; 5.\\nHolds that there has been a violation of Article 3 of the Convention in respect of the first, ninth and tenth applicants on account of their mental suffering; 6.\\nHolds that there has been no violation of Article 3 of the Convention in respect of the second, third, fourth, fifth, sixth, seventh, eighth, eleventh, twelfth, thirteenth, fourteenth and fifteenth applicants on account of their mental suffering; 7.\\nHolds that there has been a violation of Article 5 of the Convention in respect of Abu Zhanalayev and Sayd‑Selim Benuyev; 8.\\nHolds that there has been a violation of Article 13 of the Convention in conjunction with Article 2 of the Convention; 9.\\nHolds that no separate issues arise under Article 13 of the Convention in conjunction with Article 3 of the Convention on account of the applicants' mental suffering; 10.\\nHolds(a)\\nthat the respondent State is to pay, within three months from the date on which the judgment becomes final in accordance with Article 44 § 2 of the Convention, the following amounts:(i)\\nEUR 1,500 (one thousand five hundred euros) to the first applicant and EUR 1,500 (one thousand five hundred euros) to the ninth and tenth applicants jointly in respect of pecuniary damage, to be converted into Russian roubles at the rate applicable at the date of settlement, plus any tax that may be chargeable on these amounts;(ii)\\nEUR 55,000 (fifty-five thousand euros) to the first applicant, EUR 55,000 (fifty-five thousand euros) to the ninth and tenth applicants jointly and EUR 850 (eight hundred and fifty euros) to the second, third, fourth, fifth, sixth, seventh, eighth, eleventh, twelfth, thirteenth, fourteenth and fifteenth applicants each in respect of non-pecuniary damage, to be converted into Russian roubles at the rate applicable at the date of settlement, plus any tax that may be chargeable on these amounts;(iii)\\nEUR 4,000 (four thousand euros), in respect of costs and expenses, to be paid into the representatives' bank account in the Netherlands, plus any tax that may be chargeable to the applicants;(b)\\nthat from the expiry of the above-mentioned three months until settlement simple interest shall be payable on the above amounts at a rate equal to the marginal lending rate of the European Central Bank during the default period plus three percentage points; 11.\\nDismisses the remainder of the applicants' claim for just satisfaction.Done in English, and notified in writing on 22 July 2010, pursuant to Rule 77 §§ 2 and 3 of the Rules of Court.Søren NielsenChristos Rozakis RegistrarPresident\""
      ]
     },
     "execution_count": 6,
     "metadata": {},
     "output_type": "execute_result"
    }
   ],
   "source": [
    "df['text'][0]"
   ]
  },
  {
   "cell_type": "code",
   "execution_count": 7,
   "metadata": {},
   "outputs": [
    {
     "data": {
      "text/plain": [
       "(54409.32914738929, 68524.50361557271, 1028496)"
      ]
     },
     "execution_count": 7,
     "metadata": {},
     "output_type": "execute_result"
    }
   ],
   "source": [
    "lens = df.text.str.len()\n",
    "lens.mean(), lens.std(), lens.max()"
   ]
  },
  {
   "cell_type": "code",
   "execution_count": 8,
   "metadata": {},
   "outputs": [],
   "source": [
    "df.to_csv('Article3.csv')"
   ]
  },
  {
   "cell_type": "code",
   "execution_count": 10,
   "metadata": {},
   "outputs": [],
   "source": [
    "#df.read_csv('Article3.csv')"
   ]
  },
  {
   "cell_type": "code",
   "execution_count": 11,
   "metadata": {},
   "outputs": [
    {
     "data": {
      "text/plain": [
       "<matplotlib.axes._subplots.AxesSubplot at 0x7f97dae76ac8>"
      ]
     },
     "execution_count": 11,
     "metadata": {},
     "output_type": "execute_result"
    }
   ],
   "source": [
    "lens.hist()"
   ]
  },
  {
   "cell_type": "code",
   "execution_count": 12,
   "metadata": {},
   "outputs": [
    {
     "data": {
      "text/html": [
       "<div>\n",
       "<style scoped>\n",
       "    .dataframe tbody tr th:only-of-type {\n",
       "        vertical-align: middle;\n",
       "    }\n",
       "\n",
       "    .dataframe tbody tr th {\n",
       "        vertical-align: top;\n",
       "    }\n",
       "\n",
       "    .dataframe thead th {\n",
       "        text-align: right;\n",
       "    }\n",
       "</style>\n",
       "<table border=\"1\" class=\"dataframe\">\n",
       "  <thead>\n",
       "    <tr style=\"text-align: right;\">\n",
       "      <th></th>\n",
       "      <th>id</th>\n",
       "      <th>label</th>\n",
       "      <th>text</th>\n",
       "    </tr>\n",
       "  </thead>\n",
       "  <tbody>\n",
       "    <tr>\n",
       "      <th>464</th>\n",
       "      <td>001-61940</td>\n",
       "      <td>0</td>\n",
       "      <td>FOURTH SECTION   CASE OF İKİNCİSOY v. TURKEY (...</td>\n",
       "    </tr>\n",
       "    <tr>\n",
       "      <th>1005</th>\n",
       "      <td>001-146388</td>\n",
       "      <td>1</td>\n",
       "      <td>FIRST SECTION       CASE OF MAKAYEVA v. RUSSIA...</td>\n",
       "    </tr>\n",
       "    <tr>\n",
       "      <th>100</th>\n",
       "      <td>001-111177</td>\n",
       "      <td>0</td>\n",
       "      <td>FIRST SECTION      CASE OF SHAKUROV v. RUSSIA ...</td>\n",
       "    </tr>\n",
       "    <tr>\n",
       "      <th>1091</th>\n",
       "      <td>001-152259</td>\n",
       "      <td>1</td>\n",
       "      <td>FIRST SECTION       CASE OF M.S. v. CROATIA (N...</td>\n",
       "    </tr>\n",
       "    <tr>\n",
       "      <th>101</th>\n",
       "      <td>001-111178</td>\n",
       "      <td>0</td>\n",
       "      <td>FIRST SECTION      CASE OF KOZHAYEV v. RUSSIA ...</td>\n",
       "    </tr>\n",
       "  </tbody>\n",
       "</table>\n",
       "</div>"
      ],
      "text/plain": [
       "              id  label                                               text\n",
       "464    001-61940      0  FOURTH SECTION   CASE OF İKİNCİSOY v. TURKEY (...\n",
       "1005  001-146388      1  FIRST SECTION       CASE OF MAKAYEVA v. RUSSIA...\n",
       "100   001-111177      0  FIRST SECTION      CASE OF SHAKUROV v. RUSSIA ...\n",
       "1091  001-152259      1  FIRST SECTION       CASE OF M.S. v. CROATIA (N...\n",
       "101   001-111178      0  FIRST SECTION      CASE OF KOZHAYEV v. RUSSIA ..."
      ]
     },
     "execution_count": 12,
     "metadata": {},
     "output_type": "execute_result"
    }
   ],
   "source": [
    "df.head()"
   ]
  },
  {
   "cell_type": "code",
   "execution_count": 13,
   "metadata": {},
   "outputs": [
    {
     "data": {
      "text/html": [
       "<div>\n",
       "<style scoped>\n",
       "    .dataframe tbody tr th:only-of-type {\n",
       "        vertical-align: middle;\n",
       "    }\n",
       "\n",
       "    .dataframe tbody tr th {\n",
       "        vertical-align: top;\n",
       "    }\n",
       "\n",
       "    .dataframe thead th {\n",
       "        text-align: right;\n",
       "    }\n",
       "</style>\n",
       "<table border=\"1\" class=\"dataframe\">\n",
       "  <thead>\n",
       "    <tr style=\"text-align: right;\">\n",
       "      <th></th>\n",
       "      <th>label</th>\n",
       "      <th>none</th>\n",
       "    </tr>\n",
       "  </thead>\n",
       "  <tbody>\n",
       "    <tr>\n",
       "      <th>count</th>\n",
       "      <td>1513.000000</td>\n",
       "      <td>1513.000000</td>\n",
       "    </tr>\n",
       "    <tr>\n",
       "      <th>mean</th>\n",
       "      <td>0.543291</td>\n",
       "      <td>0.456709</td>\n",
       "    </tr>\n",
       "    <tr>\n",
       "      <th>std</th>\n",
       "      <td>0.498287</td>\n",
       "      <td>0.498287</td>\n",
       "    </tr>\n",
       "    <tr>\n",
       "      <th>min</th>\n",
       "      <td>0.000000</td>\n",
       "      <td>0.000000</td>\n",
       "    </tr>\n",
       "    <tr>\n",
       "      <th>25%</th>\n",
       "      <td>0.000000</td>\n",
       "      <td>0.000000</td>\n",
       "    </tr>\n",
       "    <tr>\n",
       "      <th>50%</th>\n",
       "      <td>1.000000</td>\n",
       "      <td>0.000000</td>\n",
       "    </tr>\n",
       "    <tr>\n",
       "      <th>75%</th>\n",
       "      <td>1.000000</td>\n",
       "      <td>1.000000</td>\n",
       "    </tr>\n",
       "    <tr>\n",
       "      <th>max</th>\n",
       "      <td>1.000000</td>\n",
       "      <td>1.000000</td>\n",
       "    </tr>\n",
       "  </tbody>\n",
       "</table>\n",
       "</div>"
      ],
      "text/plain": [
       "             label         none\n",
       "count  1513.000000  1513.000000\n",
       "mean      0.543291     0.456709\n",
       "std       0.498287     0.498287\n",
       "min       0.000000     0.000000\n",
       "25%       0.000000     0.000000\n",
       "50%       1.000000     0.000000\n",
       "75%       1.000000     1.000000\n",
       "max       1.000000     1.000000"
      ]
     },
     "execution_count": 13,
     "metadata": {},
     "output_type": "execute_result"
    }
   ],
   "source": [
    "label_cols = ['label']\n",
    "df['none'] = 1-df[label_cols].max(axis=1)\n",
    "df.describe()"
   ]
  },
  {
   "cell_type": "code",
   "execution_count": 14,
   "metadata": {},
   "outputs": [],
   "source": [
    "import re, string\n",
    "re_tok = re.compile(f'([{string.punctuation}“”¨«»®´·º½¾¿¡§£₤‘’])')\n",
    "def tokenize(s): return re_tok.sub(r' \\1 ', s).split()"
   ]
  },
  {
   "cell_type": "code",
   "execution_count": 15,
   "metadata": {},
   "outputs": [],
   "source": [
    "train, test = train_test_split(df, test_size=0.2)"
   ]
  },
  {
   "cell_type": "code",
   "execution_count": 16,
   "metadata": {},
   "outputs": [],
   "source": [
    "n = train.shape[0]\n",
    "vec = TfidfVectorizer(ngram_range=(1,4), tokenizer=tokenize,\n",
    "               min_df=3, max_df=0.9, strip_accents='unicode', use_idf=1,\n",
    "               smooth_idf=1, sublinear_tf=1, max_features=100000 )\n",
    "trn_term_doc = vec.fit_transform(train['text'])\n",
    "test_term_doc = vec.transform(test['text'])"
   ]
  },
  {
   "cell_type": "code",
   "execution_count": 17,
   "metadata": {},
   "outputs": [
    {
     "data": {
      "text/plain": [
       "(<1210x100000 sparse matrix of type '<class 'numpy.float64'>'\n",
       " \twith 10639972 stored elements in Compressed Sparse Row format>,\n",
       " <303x100000 sparse matrix of type '<class 'numpy.float64'>'\n",
       " \twith 2612560 stored elements in Compressed Sparse Row format>)"
      ]
     },
     "execution_count": 17,
     "metadata": {},
     "output_type": "execute_result"
    }
   ],
   "source": [
    "trn_term_doc, test_term_doc"
   ]
  },
  {
   "cell_type": "code",
   "execution_count": 18,
   "metadata": {},
   "outputs": [],
   "source": [
    "def pr(y_i, y):\n",
    "    p = x[y==y_i].sum(0)\n",
    "    return (p+1) / ((y==y_i).sum()+1)"
   ]
  },
  {
   "cell_type": "code",
   "execution_count": 19,
   "metadata": {},
   "outputs": [],
   "source": [
    "x = trn_term_doc\n",
    "test_x = test_term_doc"
   ]
  },
  {
   "cell_type": "code",
   "execution_count": 20,
   "metadata": {},
   "outputs": [],
   "source": [
    "def get_mdl(y):\n",
    "    y = y.values\n",
    "    r = np.log(pr(1,y) / pr(0,y))\n",
    "    m = LogisticRegression(C=50, dual=True)\n",
    "    x_nb = x.multiply(r)\n",
    "    return m.fit(x_nb, y), r"
   ]
  },
  {
   "cell_type": "code",
   "execution_count": 21,
   "metadata": {},
   "outputs": [
    {
     "name": "stdout",
     "output_type": "stream",
     "text": [
      "fit label\n"
     ]
    }
   ],
   "source": [
    "preds = np.zeros((len(test), len(label_cols)))\n",
    "\n",
    "for i, j in enumerate(label_cols):\n",
    "    print('fit', j)\n",
    "    m,r = get_mdl(train[j])\n",
    "    preds[:,i] = m.predict_proba(test_x.multiply(r))[:,1]"
   ]
  },
  {
   "cell_type": "code",
   "execution_count": 22,
   "metadata": {},
   "outputs": [],
   "source": [
    "preds_y = (preds>0.5) * 1"
   ]
  },
  {
   "cell_type": "code",
   "execution_count": 23,
   "metadata": {},
   "outputs": [
    {
     "name": "stderr",
     "output_type": "stream",
     "text": [
      "/home/nti14147326/.local/lib/python3.6/site-packages/ipykernel_launcher.py:1: FutureWarning: Method .as_matrix will be removed in a future version. Use .values instead.\n",
      "  \"\"\"Entry point for launching an IPython kernel.\n"
     ]
    }
   ],
   "source": [
    "test_y = test['label'].as_matrix()"
   ]
  },
  {
   "cell_type": "code",
   "execution_count": 24,
   "metadata": {},
   "outputs": [
    {
     "data": {
      "text/plain": [
       "(303, 1)"
      ]
     },
     "execution_count": 24,
     "metadata": {},
     "output_type": "execute_result"
    }
   ],
   "source": [
    "preds_y.shape"
   ]
  },
  {
   "cell_type": "code",
   "execution_count": 25,
   "metadata": {},
   "outputs": [],
   "source": [
    "test_y = test_y.reshape(-1, 1)"
   ]
  },
  {
   "cell_type": "code",
   "execution_count": 26,
   "metadata": {},
   "outputs": [
    {
     "data": {
      "text/plain": [
       "array([0.75247525])"
      ]
     },
     "execution_count": 26,
     "metadata": {},
     "output_type": "execute_result"
    }
   ],
   "source": [
    "sum((preds_y == test_y) * 1)/len(test_y)"
   ]
  },
  {
   "cell_type": "code",
   "execution_count": 27,
   "metadata": {},
   "outputs": [],
   "source": [
    "clf = NBSVM(C=1000, alpha=0.00001, beta=0.25)"
   ]
  },
  {
   "cell_type": "code",
   "execution_count": 28,
   "metadata": {},
   "outputs": [
    {
     "name": "stderr",
     "output_type": "stream",
     "text": [
      "/home/nti14147326/.local/lib/python3.6/site-packages/ipykernel_launcher.py:1: FutureWarning: Method .as_matrix will be removed in a future version. Use .values instead.\n",
      "  \"\"\"Entry point for launching an IPython kernel.\n"
     ]
    }
   ],
   "source": [
    "y_train = train['label'].as_matrix()"
   ]
  },
  {
   "cell_type": "code",
   "execution_count": 29,
   "metadata": {},
   "outputs": [],
   "source": [
    "X_train = trn_term_doc"
   ]
  },
  {
   "cell_type": "code",
   "execution_count": 30,
   "metadata": {},
   "outputs": [
    {
     "data": {
      "text/plain": [
       "<1210x100000 sparse matrix of type '<class 'numpy.float64'>'\n",
       "\twith 10639972 stored elements in Compressed Sparse Row format>"
      ]
     },
     "execution_count": 30,
     "metadata": {},
     "output_type": "execute_result"
    }
   ],
   "source": [
    "X_train.reshape(1210, -1)"
   ]
  },
  {
   "cell_type": "code",
   "execution_count": null,
   "metadata": {},
   "outputs": [],
   "source": [
    "score = np.mean(cross_val_score(clf, X_train, y_train, cv=10))"
   ]
  },
  {
   "cell_type": "code",
   "execution_count": null,
   "metadata": {},
   "outputs": [],
   "source": []
  }
 ],
 "metadata": {
  "kernelspec": {
   "display_name": "Python 3",
   "language": "python",
   "name": "python3"
  },
  "language_info": {
   "codemirror_mode": {
    "name": "ipython",
    "version": 3
   },
   "file_extension": ".py",
   "mimetype": "text/x-python",
   "name": "python",
   "nbconvert_exporter": "python",
   "pygments_lexer": "ipython3",
   "version": "3.6.5"
  }
 },
 "nbformat": 4,
 "nbformat_minor": 2
}
